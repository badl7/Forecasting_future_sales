{
 "cells": [
  {
   "cell_type": "code",
   "execution_count": 1,
   "id": "e0574819",
   "metadata": {
    "_cell_guid": "b1076dfc-b9ad-4769-8c92-a6c4dae69d19",
    "_uuid": "8f2839f25d086af736a60e9eeb907d3b93b6e0e5",
    "execution": {
     "iopub.execute_input": "2022-09-11T23:48:12.928137Z",
     "iopub.status.busy": "2022-09-11T23:48:12.927153Z",
     "iopub.status.idle": "2022-09-11T23:48:12.944292Z",
     "shell.execute_reply": "2022-09-11T23:48:12.943198Z"
    },
    "papermill": {
     "duration": 0.026582,
     "end_time": "2022-09-11T23:48:12.947477",
     "exception": false,
     "start_time": "2022-09-11T23:48:12.920895",
     "status": "completed"
    },
    "tags": []
   },
   "outputs": [
    {
     "name": "stdout",
     "output_type": "stream",
     "text": [
      "/kaggle/input/demand-forecasting-kernels-only/sample_submission.csv\n",
      "/kaggle/input/demand-forecasting-kernels-only/train.csv\n",
      "/kaggle/input/demand-forecasting-kernels-only/test.csv\n"
     ]
    }
   ],
   "source": [
    "# This Python 3 environment comes with many helpful analytics libraries installed\n",
    "# It is defined by the kaggle/python Docker image: https://github.com/kaggle/docker-python\n",
    "# For example, here's several helpful packages to load\n",
    "\n",
    "import numpy as np # linear algebra\n",
    "import pandas as pd # data processing, CSV file I/O (e.g. pd.read_csv)\n",
    "\n",
    "# Input data files are available in the read-only \"../input/\" directory\n",
    "# For example, running this (by clicking run or pressing Shift+Enter) will list all files under the input directory\n",
    "\n",
    "import os\n",
    "for dirname, _, filenames in os.walk('/kaggle/input'):\n",
    "    for filename in filenames:\n",
    "        print(os.path.join(dirname, filename))\n",
    "\n",
    "# You can write up to 20GB to the current directory (/kaggle/working/) that gets preserved as output when you create a version using \"Save & Run All\" \n",
    "# You can also write temporary files to /kaggle/temp/, but they won't be saved outside of the current session"
   ]
  },
  {
   "cell_type": "markdown",
   "id": "77dccc75",
   "metadata": {
    "papermill": {
     "duration": 0.002995,
     "end_time": "2022-09-11T23:48:12.954867",
     "exception": false,
     "start_time": "2022-09-11T23:48:12.951872",
     "status": "completed"
    },
    "tags": []
   },
   "source": [
    "# Forecasting future sales using Machine Learning\n",
    "\n",
    "Forecasting future sales of a product offers many advantages. Predicting future sales of a product helps a company manage the cost of manufacturing and marketing the product. In this notebook, I will try to you through the task of future sales prediction with machine learning using Python."
   ]
  },
  {
   "cell_type": "code",
   "execution_count": 2,
   "id": "a4857f25",
   "metadata": {
    "execution": {
     "iopub.execute_input": "2022-09-11T23:48:12.963113Z",
     "iopub.status.busy": "2022-09-11T23:48:12.962387Z",
     "iopub.status.idle": "2022-09-11T23:48:21.063995Z",
     "shell.execute_reply": "2022-09-11T23:48:21.062920Z"
    },
    "papermill": {
     "duration": 8.1088,
     "end_time": "2022-09-11T23:48:21.066812",
     "exception": false,
     "start_time": "2022-09-11T23:48:12.958012",
     "status": "completed"
    },
    "tags": []
   },
   "outputs": [],
   "source": [
    "# EDA Libraries\n",
    "import pandas as pd\n",
    "import numpy as np\n",
    "import matplotlib.pyplot as plt\n",
    "import seaborn as sns\n",
    "\n",
    "#Scikit-Learn models\n",
    "from sklearn.preprocessing import MinMaxScaler\n",
    "from sklearn.linear_model import LinearRegression\n",
    "from sklearn.metrics import mean_squared_error, mean_absolute_error, r2_score\n",
    "from sklearn.ensemble import RandomForestRegressor\n",
    "from xgboost.sklearn import XGBRegressor\n",
    "\n",
    "import keras\n",
    "from keras.layers import Dense\n",
    "from keras.models import Sequential\n",
    "from keras.layers import LSTM\n",
    "\n",
    "import statsmodels.api as sm\n",
    "\n",
    "import pickle\n",
    "import datetime"
   ]
  },
  {
   "cell_type": "markdown",
   "id": "5730468c",
   "metadata": {
    "papermill": {
     "duration": 0.003134,
     "end_time": "2022-09-11T23:48:21.073334",
     "exception": false,
     "start_time": "2022-09-11T23:48:21.070200",
     "status": "completed"
    },
    "tags": []
   },
   "source": [
    "# **Loading Dataset & Data Exploration (EDA)** "
   ]
  },
  {
   "cell_type": "markdown",
   "id": "6ec1c9b5",
   "metadata": {
    "papermill": {
     "duration": 0.002918,
     "end_time": "2022-09-11T23:48:21.079416",
     "exception": false,
     "start_time": "2022-09-11T23:48:21.076498",
     "status": "completed"
    },
    "tags": []
   },
   "source": [
    "> The first step is to load the data and transform it into a structure that we will then use for each of our models. In its raw form, each row of data represents a single day of sales at one of ten stores. Our goal is to predict monthly sales, so we will first consolidate all stores and days into total monthly sales."
   ]
  },
  {
   "cell_type": "code",
   "execution_count": 3,
   "id": "fe82818d",
   "metadata": {
    "execution": {
     "iopub.execute_input": "2022-09-11T23:48:21.087714Z",
     "iopub.status.busy": "2022-09-11T23:48:21.086893Z",
     "iopub.status.idle": "2022-09-11T23:48:21.129993Z",
     "shell.execute_reply": "2022-09-11T23:48:21.129172Z"
    },
    "papermill": {
     "duration": 0.049684,
     "end_time": "2022-09-11T23:48:21.132094",
     "exception": false,
     "start_time": "2022-09-11T23:48:21.082410",
     "status": "completed"
    },
    "tags": []
   },
   "outputs": [
    {
     "data": {
      "text/html": [
       "<div>\n",
       "<style scoped>\n",
       "    .dataframe tbody tr th:only-of-type {\n",
       "        vertical-align: middle;\n",
       "    }\n",
       "\n",
       "    .dataframe tbody tr th {\n",
       "        vertical-align: top;\n",
       "    }\n",
       "\n",
       "    .dataframe thead th {\n",
       "        text-align: right;\n",
       "    }\n",
       "</style>\n",
       "<table border=\"1\" class=\"dataframe\">\n",
       "  <thead>\n",
       "    <tr style=\"text-align: right;\">\n",
       "      <th></th>\n",
       "      <th>id</th>\n",
       "      <th>sales</th>\n",
       "    </tr>\n",
       "  </thead>\n",
       "  <tbody>\n",
       "    <tr>\n",
       "      <th>0</th>\n",
       "      <td>0</td>\n",
       "      <td>52</td>\n",
       "    </tr>\n",
       "    <tr>\n",
       "      <th>1</th>\n",
       "      <td>1</td>\n",
       "      <td>52</td>\n",
       "    </tr>\n",
       "    <tr>\n",
       "      <th>2</th>\n",
       "      <td>2</td>\n",
       "      <td>52</td>\n",
       "    </tr>\n",
       "    <tr>\n",
       "      <th>3</th>\n",
       "      <td>3</td>\n",
       "      <td>52</td>\n",
       "    </tr>\n",
       "    <tr>\n",
       "      <th>4</th>\n",
       "      <td>4</td>\n",
       "      <td>52</td>\n",
       "    </tr>\n",
       "  </tbody>\n",
       "</table>\n",
       "</div>"
      ],
      "text/plain": [
       "   id  sales\n",
       "0   0     52\n",
       "1   1     52\n",
       "2   2     52\n",
       "3   3     52\n",
       "4   4     52"
      ]
     },
     "execution_count": 3,
     "metadata": {},
     "output_type": "execute_result"
    }
   ],
   "source": [
    "dataset = pd.read_csv('../input/demand-forecasting-kernels-only/sample_submission.csv')\n",
    "df = dataset.copy()\n",
    "df.head()"
   ]
  },
  {
   "cell_type": "code",
   "execution_count": 4,
   "id": "61734cb7",
   "metadata": {
    "execution": {
     "iopub.execute_input": "2022-09-11T23:48:21.141120Z",
     "iopub.status.busy": "2022-09-11T23:48:21.140536Z",
     "iopub.status.idle": "2022-09-11T23:48:21.678656Z",
     "shell.execute_reply": "2022-09-11T23:48:21.677551Z"
    },
    "papermill": {
     "duration": 0.545936,
     "end_time": "2022-09-11T23:48:21.681680",
     "exception": false,
     "start_time": "2022-09-11T23:48:21.135744",
     "status": "completed"
    },
    "tags": []
   },
   "outputs": [
    {
     "name": "stdout",
     "output_type": "stream",
     "text": [
      "<class 'pandas.core.frame.DataFrame'>\n",
      "RangeIndex: 913000 entries, 0 to 912999\n",
      "Data columns (total 4 columns):\n",
      " #   Column  Non-Null Count   Dtype \n",
      "---  ------  --------------   ----- \n",
      " 0   date    913000 non-null  object\n",
      " 1   store   913000 non-null  int64 \n",
      " 2   item    913000 non-null  int64 \n",
      " 3   sales   913000 non-null  int64 \n",
      "dtypes: int64(3), object(1)\n",
      "memory usage: 27.9+ MB\n"
     ]
    }
   ],
   "source": [
    "sales_data = pd.read_csv('../input/demand-forecasting-kernels-only/train.csv')\n",
    "df_s = sales_data.copy()\n",
    "df_s.info()"
   ]
  },
  {
   "cell_type": "code",
   "execution_count": 5,
   "id": "2868bcaa",
   "metadata": {
    "execution": {
     "iopub.execute_input": "2022-09-11T23:48:21.691096Z",
     "iopub.status.busy": "2022-09-11T23:48:21.690496Z",
     "iopub.status.idle": "2022-09-11T23:48:21.703859Z",
     "shell.execute_reply": "2022-09-11T23:48:21.702636Z"
    },
    "papermill": {
     "duration": 0.020235,
     "end_time": "2022-09-11T23:48:21.706274",
     "exception": false,
     "start_time": "2022-09-11T23:48:21.686039",
     "status": "completed"
    },
    "tags": []
   },
   "outputs": [
    {
     "data": {
      "text/html": [
       "<div>\n",
       "<style scoped>\n",
       "    .dataframe tbody tr th:only-of-type {\n",
       "        vertical-align: middle;\n",
       "    }\n",
       "\n",
       "    .dataframe tbody tr th {\n",
       "        vertical-align: top;\n",
       "    }\n",
       "\n",
       "    .dataframe thead th {\n",
       "        text-align: right;\n",
       "    }\n",
       "</style>\n",
       "<table border=\"1\" class=\"dataframe\">\n",
       "  <thead>\n",
       "    <tr style=\"text-align: right;\">\n",
       "      <th></th>\n",
       "      <th>date</th>\n",
       "      <th>store</th>\n",
       "      <th>item</th>\n",
       "      <th>sales</th>\n",
       "    </tr>\n",
       "  </thead>\n",
       "  <tbody>\n",
       "    <tr>\n",
       "      <th>912995</th>\n",
       "      <td>2017-12-27</td>\n",
       "      <td>10</td>\n",
       "      <td>50</td>\n",
       "      <td>63</td>\n",
       "    </tr>\n",
       "    <tr>\n",
       "      <th>912996</th>\n",
       "      <td>2017-12-28</td>\n",
       "      <td>10</td>\n",
       "      <td>50</td>\n",
       "      <td>59</td>\n",
       "    </tr>\n",
       "    <tr>\n",
       "      <th>912997</th>\n",
       "      <td>2017-12-29</td>\n",
       "      <td>10</td>\n",
       "      <td>50</td>\n",
       "      <td>74</td>\n",
       "    </tr>\n",
       "    <tr>\n",
       "      <th>912998</th>\n",
       "      <td>2017-12-30</td>\n",
       "      <td>10</td>\n",
       "      <td>50</td>\n",
       "      <td>62</td>\n",
       "    </tr>\n",
       "    <tr>\n",
       "      <th>912999</th>\n",
       "      <td>2017-12-31</td>\n",
       "      <td>10</td>\n",
       "      <td>50</td>\n",
       "      <td>82</td>\n",
       "    </tr>\n",
       "  </tbody>\n",
       "</table>\n",
       "</div>"
      ],
      "text/plain": [
       "              date  store  item  sales\n",
       "912995  2017-12-27     10    50     63\n",
       "912996  2017-12-28     10    50     59\n",
       "912997  2017-12-29     10    50     74\n",
       "912998  2017-12-30     10    50     62\n",
       "912999  2017-12-31     10    50     82"
      ]
     },
     "execution_count": 5,
     "metadata": {},
     "output_type": "execute_result"
    }
   ],
   "source": [
    "df_s.tail()"
   ]
  },
  {
   "cell_type": "code",
   "execution_count": 6,
   "id": "9e2e40b1",
   "metadata": {
    "execution": {
     "iopub.execute_input": "2022-09-11T23:48:21.715713Z",
     "iopub.status.busy": "2022-09-11T23:48:21.714673Z",
     "iopub.status.idle": "2022-09-11T23:48:22.230993Z",
     "shell.execute_reply": "2022-09-11T23:48:22.230121Z"
    },
    "papermill": {
     "duration": 0.523412,
     "end_time": "2022-09-11T23:48:22.233406",
     "exception": false,
     "start_time": "2022-09-11T23:48:21.709994",
     "status": "completed"
    },
    "tags": []
   },
   "outputs": [
    {
     "data": {
      "text/html": [
       "<div>\n",
       "<style scoped>\n",
       "    .dataframe tbody tr th:only-of-type {\n",
       "        vertical-align: middle;\n",
       "    }\n",
       "\n",
       "    .dataframe tbody tr th {\n",
       "        vertical-align: top;\n",
       "    }\n",
       "\n",
       "    .dataframe thead th {\n",
       "        text-align: right;\n",
       "    }\n",
       "</style>\n",
       "<table border=\"1\" class=\"dataframe\">\n",
       "  <thead>\n",
       "    <tr style=\"text-align: right;\">\n",
       "      <th></th>\n",
       "      <th>date</th>\n",
       "      <th>sales</th>\n",
       "    </tr>\n",
       "  </thead>\n",
       "  <tbody>\n",
       "    <tr>\n",
       "      <th>0</th>\n",
       "      <td>2013-01-01</td>\n",
       "      <td>454904</td>\n",
       "    </tr>\n",
       "    <tr>\n",
       "      <th>1</th>\n",
       "      <td>2013-02-01</td>\n",
       "      <td>459417</td>\n",
       "    </tr>\n",
       "    <tr>\n",
       "      <th>2</th>\n",
       "      <td>2013-03-01</td>\n",
       "      <td>617382</td>\n",
       "    </tr>\n",
       "    <tr>\n",
       "      <th>3</th>\n",
       "      <td>2013-04-01</td>\n",
       "      <td>682274</td>\n",
       "    </tr>\n",
       "    <tr>\n",
       "      <th>4</th>\n",
       "      <td>2013-05-01</td>\n",
       "      <td>763242</td>\n",
       "    </tr>\n",
       "  </tbody>\n",
       "</table>\n",
       "</div>"
      ],
      "text/plain": [
       "        date   sales\n",
       "0 2013-01-01  454904\n",
       "1 2013-02-01  459417\n",
       "2 2013-03-01  617382\n",
       "3 2013-04-01  682274\n",
       "4 2013-05-01  763242"
      ]
     },
     "execution_count": 6,
     "metadata": {},
     "output_type": "execute_result"
    }
   ],
   "source": [
    "def monthly_sales(data):\n",
    "    m_data = data.copy()\n",
    "    #Drop the day indicator from the date column:\n",
    "    m_data.date = m_data.date.apply(lambda x: str(x)[:-3])\n",
    "    #Sum sales per month: \n",
    "    m_data = m_data.groupby('date')['sales'].sum().reset_index()\n",
    "    m_data.date = pd.to_datetime(m_data.date)\n",
    "    return m_data\n",
    "\n",
    "\n",
    "m_df = monthly_sales(df_s)\n",
    "m_df.head()"
   ]
  },
  {
   "cell_type": "markdown",
   "id": "bf614e9e",
   "metadata": {
    "papermill": {
     "duration": 0.003724,
     "end_time": "2022-09-11T23:48:22.241223",
     "exception": false,
     "start_time": "2022-09-11T23:48:22.237499",
     "status": "completed"
    },
    "tags": []
   },
   "source": [
    "<div class=\"alert alert-block alert-danger\">\n",
    "    <p style=\"padding: 10px;\n",
    "              color:black;\">In our new data frame, each row now represents the total sales for a given month across stores.\n",
    "    </p>\n",
    "</div>"
   ]
  },
  {
   "cell_type": "code",
   "execution_count": 7,
   "id": "944ea0ec",
   "metadata": {
    "execution": {
     "iopub.execute_input": "2022-09-11T23:48:22.250835Z",
     "iopub.status.busy": "2022-09-11T23:48:22.250425Z",
     "iopub.status.idle": "2022-09-11T23:48:22.395806Z",
     "shell.execute_reply": "2022-09-11T23:48:22.394220Z"
    },
    "papermill": {
     "duration": 0.162978,
     "end_time": "2022-09-11T23:48:22.408418",
     "exception": false,
     "start_time": "2022-09-11T23:48:22.245440",
     "status": "completed"
    },
    "tags": []
   },
   "outputs": [
    {
     "name": "stdout",
     "output_type": "stream",
     "text": [
      "Days: 1825\n",
      "Years: 5.0\n"
     ]
    }
   ],
   "source": [
    "#Time interval of dataset:\n",
    "def sales_time(data):\n",
    "    data.date = pd.to_datetime(data.date)\n",
    "    n_of_days = data.date.max() - data.date.min()\n",
    "    n_of_years = n_of_days.days / 365\n",
    "    print('Days:', n_of_days.days)\n",
    "    print('Years:', n_of_years)\n",
    "    \n",
    "sales_time(df_s)\n"
   ]
  }
 ],
 "metadata": {
  "kernelspec": {
   "display_name": "Python 3",
   "language": "python",
   "name": "python3"
  },
  "language_info": {
   "codemirror_mode": {
    "name": "ipython",
    "version": 3
   },
   "file_extension": ".py",
   "mimetype": "text/x-python",
   "name": "python",
   "nbconvert_exporter": "python",
   "pygments_lexer": "ipython3",
   "version": "3.7.12"
  },
  "papermill": {
   "default_parameters": {},
   "duration": 21.121366,
   "end_time": "2022-09-11T23:48:25.246253",
   "environment_variables": {},
   "exception": null,
   "input_path": "__notebook__.ipynb",
   "output_path": "__notebook__.ipynb",
   "parameters": {},
   "start_time": "2022-09-11T23:48:04.124887",
   "version": "2.3.4"
  }
 },
 "nbformat": 4,
 "nbformat_minor": 5
}
