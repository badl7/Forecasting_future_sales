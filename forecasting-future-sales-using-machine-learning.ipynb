{
 "cells": [
  {
   "cell_type": "code",
   "execution_count": 1,
   "id": "f2a34dfa",
   "metadata": {
    "_cell_guid": "b1076dfc-b9ad-4769-8c92-a6c4dae69d19",
    "_uuid": "8f2839f25d086af736a60e9eeb907d3b93b6e0e5",
    "execution": {
     "iopub.execute_input": "2022-09-18T14:47:30.518848Z",
     "iopub.status.busy": "2022-09-18T14:47:30.517909Z",
     "iopub.status.idle": "2022-09-18T14:47:30.533626Z",
     "shell.execute_reply": "2022-09-18T14:47:30.532693Z"
    },
    "papermill": {
     "duration": 0.032916,
     "end_time": "2022-09-18T14:47:30.536210",
     "exception": false,
     "start_time": "2022-09-18T14:47:30.503294",
     "status": "completed"
    },
    "tags": []
   },
   "outputs": [
    {
     "name": "stdout",
     "output_type": "stream",
     "text": [
      "/kaggle/input/demand-forecasting-kernels-only/sample_submission.csv\n",
      "/kaggle/input/demand-forecasting-kernels-only/train.csv\n",
      "/kaggle/input/demand-forecasting-kernels-only/test.csv\n"
     ]
    }
   ],
   "source": [
    "# This Python 3 environment comes with many helpful analytics libraries installed\n",
    "# It is defined by the kaggle/python Docker image: https://github.com/kaggle/docker-python\n",
    "# For example, here's several helpful packages to load\n",
    "\n",
    "import numpy as np # linear algebra\n",
    "import pandas as pd # data processing, CSV file I/O (e.g. pd.read_csv)\n",
    "\n",
    "# Input data files are available in the read-only \"../input/\" directory\n",
    "# For example, running this (by clicking run or pressing Shift+Enter) will list all files under the input directory\n",
    "\n",
    "import os\n",
    "for dirname, _, filenames in os.walk('/kaggle/input'):\n",
    "    for filename in filenames:\n",
    "        print(os.path.join(dirname, filename))\n",
    "\n",
    "# You can write up to 20GB to the current directory (/kaggle/working/) that gets preserved as output when you create a version using \"Save & Run All\" \n",
    "# You can also write temporary files to /kaggle/temp/, but they won't be saved outside of the current session"
   ]
  },
  {
   "cell_type": "markdown",
   "id": "f3d81429",
   "metadata": {
    "papermill": {
     "duration": 0.014773,
     "end_time": "2022-09-18T14:47:30.565240",
     "exception": false,
     "start_time": "2022-09-18T14:47:30.550467",
     "status": "completed"
    },
    "tags": []
   },
   "source": [
    "# Forecasting Future Sales Using Machine Learning\n",
    "\n",
    "Forecasting future sales of a product offers many advantages. Predicting future sales of a product helps a company manage the cost of manufacturing and marketing the product. In this notebook, I will try to you through the task of future sales prediction with machine learning using Python."
   ]
  },
  {
   "cell_type": "code",
   "execution_count": 2,
   "id": "02a822eb",
   "metadata": {
    "execution": {
     "iopub.execute_input": "2022-09-18T14:47:30.601565Z",
     "iopub.status.busy": "2022-09-18T14:47:30.600445Z",
     "iopub.status.idle": "2022-09-18T14:47:39.639330Z",
     "shell.execute_reply": "2022-09-18T14:47:39.638300Z"
    },
    "papermill": {
     "duration": 9.062332,
     "end_time": "2022-09-18T14:47:39.641992",
     "exception": false,
     "start_time": "2022-09-18T14:47:30.579660",
     "status": "completed"
    },
    "tags": []
   },
   "outputs": [],
   "source": [
    "# EDA Libraries:\n",
    "\n",
    "import pandas as pd\n",
    "import numpy as np\n",
    "import matplotlib.pyplot as plt\n",
    "import seaborn as sns\n",
    "\n",
    "import datetime\n",
    "from pathlib import Path  \n",
    "import random\n",
    "\n",
    "#Scikit-Learn models:\n",
    "\n",
    "from sklearn.preprocessing import MinMaxScaler\n",
    "from sklearn.linear_model import LinearRegression\n",
    "from sklearn.metrics import mean_squared_error, mean_absolute_error, r2_score\n",
    "from sklearn.ensemble import RandomForestRegressor\n",
    "from xgboost.sklearn import XGBRegressor\n",
    "\n",
    "\n",
    "import keras\n",
    "from keras.layers import Dense\n",
    "from keras.models import Sequential\n",
    "#from keras.optimizers import Adam \n",
    "from keras.callbacks import EarlyStopping\n",
    "from keras.utils import np_utils\n",
    "from keras.layers import LSTM\n",
    "from sklearn.model_selection import KFold, cross_val_score, train_test_split\n",
    "\n",
    "\n",
    "import statsmodels.tsa.api as smt\n",
    "\n",
    "import pickle\n",
    "\n"
   ]
  },
  {
   "cell_type": "markdown",
   "id": "9e89e205",
   "metadata": {
    "papermill": {
     "duration": 0.010892,
     "end_time": "2022-09-18T14:47:39.665568",
     "exception": false,
     "start_time": "2022-09-18T14:47:39.654676",
     "status": "completed"
    },
    "tags": []
   },
   "source": [
    "## **Loading Dataset & Data Exploration (EDA)** "
   ]
  },
  {
   "cell_type": "markdown",
   "id": "421aca44",
   "metadata": {
    "papermill": {
     "duration": 0.010788,
     "end_time": "2022-09-18T14:47:39.687322",
     "exception": false,
     "start_time": "2022-09-18T14:47:39.676534",
     "status": "completed"
    },
    "tags": []
   },
   "source": [
    "   The first step is to load the data and transform it into a structure that we will then use for each of our models. In its raw form, each row of data represents a single day of sales at one of ten stores. Our goal is to predict monthly sales, so we will first consolidate all stores and days into total monthly sales."
   ]
  },
  {
   "cell_type": "code",
   "execution_count": 3,
   "id": "538905fd",
   "metadata": {
    "execution": {
     "iopub.execute_input": "2022-09-18T14:47:39.712537Z",
     "iopub.status.busy": "2022-09-18T14:47:39.711491Z",
     "iopub.status.idle": "2022-09-18T14:47:39.762294Z",
     "shell.execute_reply": "2022-09-18T14:47:39.761312Z"
    },
    "papermill": {
     "duration": 0.065836,
     "end_time": "2022-09-18T14:47:39.764544",
     "exception": false,
     "start_time": "2022-09-18T14:47:39.698708",
     "status": "completed"
    },
    "tags": []
   },
   "outputs": [
    {
     "data": {
      "text/html": [
       "<div>\n",
       "<style scoped>\n",
       "    .dataframe tbody tr th:only-of-type {\n",
       "        vertical-align: middle;\n",
       "    }\n",
       "\n",
       "    .dataframe tbody tr th {\n",
       "        vertical-align: top;\n",
       "    }\n",
       "\n",
       "    .dataframe thead th {\n",
       "        text-align: right;\n",
       "    }\n",
       "</style>\n",
       "<table border=\"1\" class=\"dataframe\">\n",
       "  <thead>\n",
       "    <tr style=\"text-align: right;\">\n",
       "      <th></th>\n",
       "      <th>id</th>\n",
       "      <th>sales</th>\n",
       "    </tr>\n",
       "  </thead>\n",
       "  <tbody>\n",
       "    <tr>\n",
       "      <th>0</th>\n",
       "      <td>0</td>\n",
       "      <td>52</td>\n",
       "    </tr>\n",
       "    <tr>\n",
       "      <th>1</th>\n",
       "      <td>1</td>\n",
       "      <td>52</td>\n",
       "    </tr>\n",
       "    <tr>\n",
       "      <th>2</th>\n",
       "      <td>2</td>\n",
       "      <td>52</td>\n",
       "    </tr>\n",
       "    <tr>\n",
       "      <th>3</th>\n",
       "      <td>3</td>\n",
       "      <td>52</td>\n",
       "    </tr>\n",
       "    <tr>\n",
       "      <th>4</th>\n",
       "      <td>4</td>\n",
       "      <td>52</td>\n",
       "    </tr>\n",
       "  </tbody>\n",
       "</table>\n",
       "</div>"
      ],
      "text/plain": [
       "   id  sales\n",
       "0   0     52\n",
       "1   1     52\n",
       "2   2     52\n",
       "3   3     52\n",
       "4   4     52"
      ]
     },
     "execution_count": 3,
     "metadata": {},
     "output_type": "execute_result"
    }
   ],
   "source": [
    "dataset = pd.read_csv('../input/demand-forecasting-kernels-only/sample_submission.csv')\n",
    "df = dataset.copy()\n",
    "df.head()"
   ]
  },
  {
   "cell_type": "code",
   "execution_count": 4,
   "id": "8c5629dd",
   "metadata": {
    "execution": {
     "iopub.execute_input": "2022-09-18T14:47:39.789767Z",
     "iopub.status.busy": "2022-09-18T14:47:39.789002Z",
     "iopub.status.idle": "2022-09-18T14:47:40.427385Z",
     "shell.execute_reply": "2022-09-18T14:47:40.426076Z"
    },
    "papermill": {
     "duration": 0.653763,
     "end_time": "2022-09-18T14:47:40.429956",
     "exception": false,
     "start_time": "2022-09-18T14:47:39.776193",
     "status": "completed"
    },
    "tags": []
   },
   "outputs": [
    {
     "name": "stdout",
     "output_type": "stream",
     "text": [
      "<class 'pandas.core.frame.DataFrame'>\n",
      "RangeIndex: 913000 entries, 0 to 912999\n",
      "Data columns (total 4 columns):\n",
      " #   Column  Non-Null Count   Dtype \n",
      "---  ------  --------------   ----- \n",
      " 0   date    913000 non-null  object\n",
      " 1   store   913000 non-null  int64 \n",
      " 2   item    913000 non-null  int64 \n",
      " 3   sales   913000 non-null  int64 \n",
      "dtypes: int64(3), object(1)\n",
      "memory usage: 27.9+ MB\n"
     ]
    }
   ],
   "source": [
    "sales_data = pd.read_csv('../input/demand-forecasting-kernels-only/train.csv')\n",
    "df_s = sales_data.copy()\n",
    "df_s.info()"
   ]
  },
  {
   "cell_type": "code",
   "execution_count": 5,
   "id": "075bd680",
   "metadata": {
    "execution": {
     "iopub.execute_input": "2022-09-18T14:47:40.454870Z",
     "iopub.status.busy": "2022-09-18T14:47:40.454426Z",
     "iopub.status.idle": "2022-09-18T14:47:40.465806Z",
     "shell.execute_reply": "2022-09-18T14:47:40.464326Z"
    },
    "papermill": {
     "duration": 0.026645,
     "end_time": "2022-09-18T14:47:40.468345",
     "exception": false,
     "start_time": "2022-09-18T14:47:40.441700",
     "status": "completed"
    },
    "tags": []
   },
   "outputs": [
    {
     "data": {
      "text/html": [
       "<div>\n",
       "<style scoped>\n",
       "    .dataframe tbody tr th:only-of-type {\n",
       "        vertical-align: middle;\n",
       "    }\n",
       "\n",
       "    .dataframe tbody tr th {\n",
       "        vertical-align: top;\n",
       "    }\n",
       "\n",
       "    .dataframe thead th {\n",
       "        text-align: right;\n",
       "    }\n",
       "</style>\n",
       "<table border=\"1\" class=\"dataframe\">\n",
       "  <thead>\n",
       "    <tr style=\"text-align: right;\">\n",
       "      <th></th>\n",
       "      <th>date</th>\n",
       "      <th>store</th>\n",
       "      <th>item</th>\n",
       "      <th>sales</th>\n",
       "    </tr>\n",
       "  </thead>\n",
       "  <tbody>\n",
       "    <tr>\n",
       "      <th>912995</th>\n",
       "      <td>2017-12-27</td>\n",
       "      <td>10</td>\n",
       "      <td>50</td>\n",
       "      <td>63</td>\n",
       "    </tr>\n",
       "    <tr>\n",
       "      <th>912996</th>\n",
       "      <td>2017-12-28</td>\n",
       "      <td>10</td>\n",
       "      <td>50</td>\n",
       "      <td>59</td>\n",
       "    </tr>\n",
       "    <tr>\n",
       "      <th>912997</th>\n",
       "      <td>2017-12-29</td>\n",
       "      <td>10</td>\n",
       "      <td>50</td>\n",
       "      <td>74</td>\n",
       "    </tr>\n",
       "    <tr>\n",
       "      <th>912998</th>\n",
       "      <td>2017-12-30</td>\n",
       "      <td>10</td>\n",
       "      <td>50</td>\n",
       "      <td>62</td>\n",
       "    </tr>\n",
       "    <tr>\n",
       "      <th>912999</th>\n",
       "      <td>2017-12-31</td>\n",
       "      <td>10</td>\n",
       "      <td>50</td>\n",
       "      <td>82</td>\n",
       "    </tr>\n",
       "  </tbody>\n",
       "</table>\n",
       "</div>"
      ],
      "text/plain": [
       "              date  store  item  sales\n",
       "912995  2017-12-27     10    50     63\n",
       "912996  2017-12-28     10    50     59\n",
       "912997  2017-12-29     10    50     74\n",
       "912998  2017-12-30     10    50     62\n",
       "912999  2017-12-31     10    50     82"
      ]
     },
     "execution_count": 5,
     "metadata": {},
     "output_type": "execute_result"
    }
   ],
   "source": [
    "df_s.tail()"
   ]
  },
  {
   "cell_type": "code",
   "execution_count": 6,
   "id": "d497394d",
   "metadata": {
    "execution": {
     "iopub.execute_input": "2022-09-18T14:47:40.493892Z",
     "iopub.status.busy": "2022-09-18T14:47:40.493208Z",
     "iopub.status.idle": "2022-09-18T14:47:40.544469Z",
     "shell.execute_reply": "2022-09-18T14:47:40.543363Z"
    },
    "papermill": {
     "duration": 0.067185,
     "end_time": "2022-09-18T14:47:40.547120",
     "exception": false,
     "start_time": "2022-09-18T14:47:40.479935",
     "status": "completed"
    },
    "tags": []
   },
   "outputs": [
    {
     "data": {
      "text/plain": [
       "count    913000.000000\n",
       "mean         52.250287\n",
       "std          28.801144\n",
       "min           0.000000\n",
       "25%          30.000000\n",
       "50%          47.000000\n",
       "75%          70.000000\n",
       "max         231.000000\n",
       "Name: sales, dtype: float64"
      ]
     },
     "execution_count": 6,
     "metadata": {},
     "output_type": "execute_result"
    }
   ],
   "source": [
    "# To view basic statistical details about dataset:\n",
    "\n",
    "df_s['sales'].describe()"
   ]
  },
  {
   "cell_type": "markdown",
   "id": "f268d976",
   "metadata": {
    "papermill": {
     "duration": 0.01112,
     "end_time": "2022-09-18T14:47:40.570309",
     "exception": false,
     "start_time": "2022-09-18T14:47:40.559189",
     "status": "completed"
    },
    "tags": []
   },
   "source": [
    " <div class=\"alert alert-block alert-danger\">\n",
    "    <p style=\"padding: 15px;\n",
    "              color:black;\"><strong>📌 Sales seem to be unbalanced!</strong>\n",
    "    </p>\n",
    "  </div>"
   ]
  },
  {
   "cell_type": "code",
   "execution_count": 7,
   "id": "ba116661",
   "metadata": {
    "execution": {
     "iopub.execute_input": "2022-09-18T14:47:40.594982Z",
     "iopub.status.busy": "2022-09-18T14:47:40.594535Z",
     "iopub.status.idle": "2022-09-18T14:47:41.091414Z",
     "shell.execute_reply": "2022-09-18T14:47:41.090159Z"
    },
    "papermill": {
     "duration": 0.512184,
     "end_time": "2022-09-18T14:47:41.093891",
     "exception": false,
     "start_time": "2022-09-18T14:47:40.581707",
     "status": "completed"
    },
    "tags": []
   },
   "outputs": [
    {
     "data": {
      "text/plain": [
       "<AxesSubplot:>"
      ]
     },
     "execution_count": 7,
     "metadata": {},
     "output_type": "execute_result"
    },
    {
     "data": {
      "image/png": "[encoded data removed]",
      "text/plain": [
       "<Figure size 432x288 with 1 Axes>"
      ]
     },
     "metadata": {
      "needs_background": "light"
     },
     "output_type": "display_data"
    }
   ],
   "source": [
    "df_s['sales'].plot()"
   ]
  },
  {
   "cell_type": "markdown",
   "id": "54842e11",
   "metadata": {
    "papermill": {
     "duration": 0.011671,
     "end_time": "2022-09-18T14:47:41.118305",
     "exception": false,
     "start_time": "2022-09-18T14:47:41.106634",
     "status": "completed"
    },
    "tags": []
   },
   "source": [
    "> Returns a dataframe where each row represents total sales for a given month. Columns include 'date' by month and 'sales'.\n",
    "    "
   ]
  },
  {
   "cell_type": "code",
   "execution_count": 8,
   "id": "20176980",
   "metadata": {
    "execution": {
     "iopub.execute_input": "2022-09-18T14:47:41.143816Z",
     "iopub.status.busy": "2022-09-18T14:47:41.143406Z",
     "iopub.status.idle": "2022-09-18T14:47:41.693931Z",
     "shell.execute_reply": "2022-09-18T14:47:41.692671Z"
    },
    "papermill": {
     "duration": 0.566115,
     "end_time": "2022-09-18T14:47:41.696327",
     "exception": false,
     "start_time": "2022-09-18T14:47:41.130212",
     "status": "completed"
    },
    "tags": []
   },
   "outputs": [
    {
     "data": {
      "text/html": [
       "<div>\n",
       "<style scoped>\n",
       "    .dataframe tbody tr th:only-of-type {\n",
       "        vertical-align: middle;\n",
       "    }\n",
       "\n",
       "    .dataframe tbody tr th {\n",
       "        vertical-align: top;\n",
       "    }\n",
       "\n",
       "    .dataframe thead th {\n",
       "        text-align: right;\n",
       "    }\n",
       "</style>\n",
       "<table border=\"1\" class=\"dataframe\">\n",
       "  <thead>\n",
       "    <tr style=\"text-align: right;\">\n",
       "      <th></th>\n",
       "      <th>date</th>\n",
       "      <th>sales</th>\n",
       "    </tr>\n",
       "  </thead>\n",
       "  <tbody>\n",
       "    <tr>\n",
       "      <th>0</th>\n",
       "      <td>2013-01-01</td>\n",
       "      <td>454904</td>\n",
       "    </tr>\n",
       "    <tr>\n",
       "      <th>1</th>\n",
       "      <td>2013-02-01</td>\n",
       "      <td>459417</td>\n",
       "    </tr>\n",
       "    <tr>\n",
       "      <th>2</th>\n",
       "      <td>2013-03-01</td>\n",
       "      <td>617382</td>\n",
       "    </tr>\n",
       "    <tr>\n",
       "      <th>3</th>\n",
       "      <td>2013-04-01</td>\n",
       "      <td>682274</td>\n",
       "    </tr>\n",
       "    <tr>\n",
       "      <th>4</th>\n",
       "      <td>2013-05-01</td>\n",
       "      <td>763242</td>\n",
       "    </tr>\n",
       "    <tr>\n",
       "      <th>5</th>\n",
       "      <td>2013-06-01</td>\n",
       "      <td>795597</td>\n",
       "    </tr>\n",
       "    <tr>\n",
       "      <th>6</th>\n",
       "      <td>2013-07-01</td>\n",
       "      <td>855922</td>\n",
       "    </tr>\n",
       "    <tr>\n",
       "      <th>7</th>\n",
       "      <td>2013-08-01</td>\n",
       "      <td>766761</td>\n",
       "    </tr>\n",
       "    <tr>\n",
       "      <th>8</th>\n",
       "      <td>2013-09-01</td>\n",
       "      <td>689907</td>\n",
       "    </tr>\n",
       "    <tr>\n",
       "      <th>9</th>\n",
       "      <td>2013-10-01</td>\n",
       "      <td>656587</td>\n",
       "    </tr>\n",
       "  </tbody>\n",
       "</table>\n",
       "</div>"
      ],
      "text/plain": [
       "        date   sales\n",
       "0 2013-01-01  454904\n",
       "1 2013-02-01  459417\n",
       "2 2013-03-01  617382\n",
       "3 2013-04-01  682274\n",
       "4 2013-05-01  763242\n",
       "5 2013-06-01  795597\n",
       "6 2013-07-01  855922\n",
       "7 2013-08-01  766761\n",
       "8 2013-09-01  689907\n",
       "9 2013-10-01  656587"
      ]
     },
     "execution_count": 8,
     "metadata": {},
     "output_type": "execute_result"
    }
   ],
   "source": [
    "def monthly_sales(data):\n",
    "    m_data = data.copy()\n",
    "    \n",
    "    # Drop the day indicator from the date column:\n",
    "    m_data.date = m_data.date.apply(lambda x: str(x)[:-3])\n",
    "   \n",
    "    # Sum sales per month: \n",
    "    m_data = m_data.groupby('date')['sales'].sum().reset_index()\n",
    "    m_data.date = pd.to_datetime(m_data.date)\n",
    "    \n",
    "    filepath = Path('../data/monthly_data.csv')  \n",
    "    filepath.parent.mkdir(parents=True, exist_ok=True)  \n",
    "    m_data.to_csv('../data/monthly_data.csv')\n",
    "    \n",
    "    return m_data\n",
    "\n",
    "m_df = monthly_sales(df_s)\n",
    "m_df.head(10)"
   ]
  },
  {
   "cell_type": "markdown",
   "id": "5b68bd02",
   "metadata": {
    "papermill": {
     "duration": 0.011744,
     "end_time": "2022-09-18T14:47:41.720436",
     "exception": false,
     "start_time": "2022-09-18T14:47:41.708692",
     "status": "completed"
    },
    "tags": []
   },
   "source": [
    "> In our new data frame, each row now represents the total sales for a given month across stores."
   ]
  },
  {
   "cell_type": "code",
   "execution_count": 9,
   "id": "f6441b40",
   "metadata": {
    "execution": {
     "iopub.execute_input": "2022-09-18T14:47:41.746839Z",
     "iopub.status.busy": "2022-09-18T14:47:41.746030Z",
     "iopub.status.idle": "2022-09-18T14:47:41.973936Z",
     "shell.execute_reply": "2022-09-18T14:47:41.972772Z"
    },
    "papermill": {
     "duration": 0.244001,
     "end_time": "2022-09-18T14:47:41.976507",
     "exception": false,
     "start_time": "2022-09-18T14:47:41.732506",
     "status": "completed"
    },
    "tags": []
   },
   "outputs": [
    {
     "data": {
      "text/plain": [
       "Text(0.5, 0, 'Month')"
      ]
     },
     "execution_count": 9,
     "metadata": {},
     "output_type": "execute_result"
    },
    {
     "data": {
      "image/png": "[encoded data removed]",
      "text/plain": [
       "<Figure size 432x288 with 1 Axes>"
      ]
     },
     "metadata": {
      "needs_background": "light"
     },
     "output_type": "display_data"
    }
   ],
   "source": [
    "m_df['sales'].plot(marker = 'o',color = 'darkorange')\n",
    "plt.xlabel(\"Month\")\n",
    "\n"
   ]
  },
  {
   "cell_type": "markdown",
   "id": "d50c4190",
   "metadata": {
    "papermill": {
     "duration": 0.013494,
     "end_time": "2022-09-18T14:47:42.003068",
     "exception": false,
     "start_time": "2022-09-18T14:47:41.989574",
     "status": "completed"
    },
    "tags": []
   },
   "source": [
    "<div class=\"alert alert-block alert-danger\">\n",
    "    <p  style=\"padding: 15px;\n",
    "              color:black;\"><strong> 📌 If we plot the total monthly sales over time, we see that the average monthly sales increase over time, so our data is not stationary.</strong\n",
    "    </p>\n",
    "</div>"
   ]
  },
  {
   "cell_type": "markdown",
   "id": "42824597",
   "metadata": {
    "papermill": {
     "duration": 0.012288,
     "end_time": "2022-09-18T14:47:42.028288",
     "exception": false,
     "start_time": "2022-09-18T14:47:42.016000",
     "status": "completed"
    },
    "tags": []
   },
   "source": [
    "[🦎 TREND AND SEASONALITY](https://www.amazon.com/Hands-Machine-Learning-Scikit-Learn-TensorFlow/dp/1492032646)\n",
    "> There are many other models to forecast time series, such as weighted\n",
    "moving average models or autoregressive integrated moving average\n",
    "(ARIMA) models. Some of them require you to first remove the trend\n",
    "and seasonality. For example, if you are studying the number of active\n",
    "users on your website, and it is growing by 10% every month, you\n",
    "would have to remove this trend from the time series. Once the model\n",
    "is trained and starts making predictions, you would have to add the\n",
    "trend back to get the final predictions. Similarly, if you are trying to\n",
    "predict the amount of sunscreen lotion sold every month, you will\n",
    "probably observe strong seasonality: since it sells well every summer,\n",
    "a similar pattern will be repeated every year. You would have to\n",
    "remove this seasonality from the time series, for example by\n",
    "computing the difference between the value at each time step and the\n",
    "value one year earlier (this technique is called differencing). Again,\n",
    "after the model is trained and makes predictions, you would have to\n",
    "add the seasonal pattern back to get the final predictions.\n"
   ]
  },
  {
   "cell_type": "markdown",
   "id": "e4bb8019",
   "metadata": {
    "papermill": {
     "duration": 0.012354,
     "end_time": "2022-09-18T14:47:42.053219",
     "exception": false,
     "start_time": "2022-09-18T14:47:42.040865",
     "status": "completed"
    },
    "tags": []
   },
   "source": [
    "# **Data Exploration (EDA)**"
   ]
  },
  {
   "cell_type": "markdown",
   "id": "982eb71d",
   "metadata": {
    "papermill": {
     "duration": 0.012212,
     "end_time": "2022-09-18T14:47:42.078052",
     "exception": false,
     "start_time": "2022-09-18T14:47:42.065840",
     "status": "completed"
    },
    "tags": []
   },
   "source": [
    " To make it stationary, we will calculate the difference between the sales of each month and add it to our data frame as a new column.\n",
    "> Further details of the stationary and differences are available [here.](https://www.analyticsvidhya.com/blog/2016/02/time-series-forecasting-codes-python/) But first let's take a closer look at the data set you work with by learning more about the data."
   ]
  },
  {
   "cell_type": "code",
   "execution_count": 10,
   "id": "dba55469",
   "metadata": {
    "execution": {
     "iopub.execute_input": "2022-09-18T14:47:42.105748Z",
     "iopub.status.busy": "2022-09-18T14:47:42.105294Z",
     "iopub.status.idle": "2022-09-18T14:47:42.251259Z",
     "shell.execute_reply": "2022-09-18T14:47:42.249639Z"
    },
    "papermill": {
     "duration": 0.163695,
     "end_time": "2022-09-18T14:47:42.254638",
     "exception": false,
     "start_time": "2022-09-18T14:47:42.090943",
     "status": "completed"
    },
    "tags": []
   },
   "outputs": [
    {
     "name": "stdout",
     "output_type": "stream",
     "text": [
      "Days: 1825\n",
      "Years: 5\n",
      "Month: 60\n"
     ]
    }
   ],
   "source": [
    "# Time interval of dataset:\n",
    "\n",
    "def sales_time(data):\n",
    "    data.date = pd.to_datetime(data.date)\n",
    "    n_of_days = data.date.max() - data.date.min()\n",
    "    n_of_years = int(n_of_days.days / 365)\n",
    "    \n",
    "    print('Days:', n_of_days.days)\n",
    "    print('Years:', n_of_years)\n",
    "    print('Month:', 12 * n_of_years)\n",
    "    \n",
    "    \n",
    "sales_time(df_s)\n"
   ]
  },
  {
   "cell_type": "markdown",
   "id": "8e763e66",
   "metadata": {
    "papermill": {
     "duration": 0.012274,
     "end_time": "2022-09-18T14:47:42.279636",
     "exception": false,
     "start_time": "2022-09-18T14:47:42.267362",
     "status": "completed"
    },
    "tags": []
   },
   "source": [
    "**Sales Data Per Store**"
   ]
  },
  {
   "cell_type": "code",
   "execution_count": 11,
   "id": "b4c4d88e",
   "metadata": {
    "execution": {
     "iopub.execute_input": "2022-09-18T14:47:42.307407Z",
     "iopub.status.busy": "2022-09-18T14:47:42.306295Z",
     "iopub.status.idle": "2022-09-18T14:47:42.617106Z",
     "shell.execute_reply": "2022-09-18T14:47:42.615759Z"
    },
    "papermill": {
     "duration": 0.327435,
     "end_time": "2022-09-18T14:47:42.619710",
     "exception": false,
     "start_time": "2022-09-18T14:47:42.292275",
     "status": "completed"
    },
    "tags": []
   },
   "outputs": [
    {
     "name": "stderr",
     "output_type": "stream",
     "text": [
      "/opt/conda/lib/python3.7/site-packages/seaborn/_decorators.py:43: FutureWarning: Pass the following variables as keyword args: x, y. From version 0.12, the only valid positional argument will be `data`, and passing other arguments without an explicit keyword will result in an error or misinterpretation.\n",
      "  FutureWarning\n"
     ]
    },
    {
     "data": {
      "text/html": [
       "<div>\n",
       "<style scoped>\n",
       "    .dataframe tbody tr th:only-of-type {\n",
       "        vertical-align: middle;\n",
       "    }\n",
       "\n",
       "    .dataframe tbody tr th {\n",
       "        vertical-align: top;\n",
       "    }\n",
       "\n",
       "    .dataframe thead th {\n",
       "        text-align: right;\n",
       "    }\n",
       "</style>\n",
       "<table border=\"1\" class=\"dataframe\">\n",
       "  <thead>\n",
       "    <tr style=\"text-align: right;\">\n",
       "      <th></th>\n",
       "      <th>store</th>\n",
       "      <th>sales</th>\n",
       "    </tr>\n",
       "  </thead>\n",
       "  <tbody>\n",
       "    <tr>\n",
       "      <th>0</th>\n",
       "      <td>1</td>\n",
       "      <td>4315603</td>\n",
       "    </tr>\n",
       "    <tr>\n",
       "      <th>1</th>\n",
       "      <td>2</td>\n",
       "      <td>6120128</td>\n",
       "    </tr>\n",
       "    <tr>\n",
       "      <th>2</th>\n",
       "      <td>3</td>\n",
       "      <td>5435144</td>\n",
       "    </tr>\n",
       "    <tr>\n",
       "      <th>3</th>\n",
       "      <td>4</td>\n",
       "      <td>5012639</td>\n",
       "    </tr>\n",
       "    <tr>\n",
       "      <th>4</th>\n",
       "      <td>5</td>\n",
       "      <td>3631016</td>\n",
       "    </tr>\n",
       "    <tr>\n",
       "      <th>5</th>\n",
       "      <td>6</td>\n",
       "      <td>3627670</td>\n",
       "    </tr>\n",
       "    <tr>\n",
       "      <th>6</th>\n",
       "      <td>7</td>\n",
       "      <td>3320009</td>\n",
       "    </tr>\n",
       "    <tr>\n",
       "      <th>7</th>\n",
       "      <td>8</td>\n",
       "      <td>5856169</td>\n",
       "    </tr>\n",
       "    <tr>\n",
       "      <th>8</th>\n",
       "      <td>9</td>\n",
       "      <td>5025976</td>\n",
       "    </tr>\n",
       "    <tr>\n",
       "      <th>9</th>\n",
       "      <td>10</td>\n",
       "      <td>5360158</td>\n",
       "    </tr>\n",
       "  </tbody>\n",
       "</table>\n",
       "</div>"
      ],
      "text/plain": [
       "   store    sales\n",
       "0      1  4315603\n",
       "1      2  6120128\n",
       "2      3  5435144\n",
       "3      4  5012639\n",
       "4      5  3631016\n",
       "5      6  3627670\n",
       "6      7  3320009\n",
       "7      8  5856169\n",
       "8      9  5025976\n",
       "9     10  5360158"
      ]
     },
     "execution_count": 11,
     "metadata": {},
     "output_type": "execute_result"
    },
    {
     "data": {
      "image/png": "[encoded data removed]",
      "text/plain": [
       "<Figure size 576x432 with 1 Axes>"
      ]
     },
     "metadata": {
      "needs_background": "light"
     },
     "output_type": "display_data"
    }
   ],
   "source": [
    "# Let's sell it per store:\n",
    "\n",
    "def sales_per_store(data):\n",
    "    sales_by_store = data.groupby('store')['sales'].sum().reset_index()\n",
    "    \n",
    "    fig, ax = plt.subplots(figsize=(8,6))\n",
    "    sns.barplot(sales_by_store.store, sales_by_store.sales, color='darkred')\n",
    "    \n",
    "    ax.set(xlabel = \"Store Id\", ylabel = \"Sum of Sales\", title = \"Total Sales Per Store\")\n",
    "    \n",
    "    return sales_by_store\n",
    "    \n",
    "sales_per_store(df_s)"
   ]
  },
  {
   "cell_type": "markdown",
   "id": "e9a206c6",
   "metadata": {
    "papermill": {
     "duration": 0.013382,
     "end_time": "2022-09-18T14:47:42.646715",
     "exception": false,
     "start_time": "2022-09-18T14:47:42.633333",
     "status": "completed"
    },
    "tags": []
   },
   "source": [
    "**Mean Monthly Sales**"
   ]
  },
  {
   "cell_type": "code",
   "execution_count": 12,
   "id": "bbefae30",
   "metadata": {
    "execution": {
     "iopub.execute_input": "2022-09-18T14:47:42.675518Z",
     "iopub.status.busy": "2022-09-18T14:47:42.674933Z",
     "iopub.status.idle": "2022-09-18T14:47:42.684830Z",
     "shell.execute_reply": "2022-09-18T14:47:42.683411Z"
    },
    "papermill": {
     "duration": 0.027753,
     "end_time": "2022-09-18T14:47:42.687816",
     "exception": false,
     "start_time": "2022-09-18T14:47:42.660063",
     "status": "completed"
    },
    "tags": []
   },
   "outputs": [
    {
     "name": "stdout",
     "output_type": "stream",
     "text": [
      "Overall Avarage Monthly Sales: $795075.2\n",
      "Last 12 months average monthly sales: $894478.3333333334\n",
      "Random 12 months average monthly sales: $724382.9166666666\n"
     ]
    }
   ],
   "source": [
    "# Overall for 5 years:\n",
    "\n",
    "average_m_sales = m_df.sales.mean()\n",
    "print(f\"Overall Avarage Monthly Sales: ${average_m_sales}\")\n",
    "\n",
    "# Last 1 years (this will be the forecasted sales):\n",
    "\n",
    "average_m_sales_1y = m_df.sales[-12:].mean()\n",
    "print(f\"Last 12 months average monthly sales: ${average_m_sales_1y}\")\n",
    "\n",
    "# Random 12 month:\n",
    "\n",
    "random_Ysales = m_df.sales.sample(n=12,random_state=2)\n",
    "average_random_Ysales = random_Ysales.mean()\n",
    "print(f\"Random 12 months average monthly sales: ${average_random_Ysales}\")"
   ]
  },
  {
   "cell_type": "markdown",
   "id": "490e53e6",
   "metadata": {
    "papermill": {
     "duration": 0.012947,
     "end_time": "2022-09-18T14:47:42.714098",
     "exception": false,
     "start_time": "2022-09-18T14:47:42.701151",
     "status": "completed"
    },
    "tags": []
   },
   "source": [
    "# **Determining Time Series Stationary**"
   ]
  },
  {
   "cell_type": "markdown",
   "id": "387db99b",
   "metadata": {
    "papermill": {
     "duration": 0.013103,
     "end_time": "2022-09-18T14:47:42.740492",
     "exception": false,
     "start_time": "2022-09-18T14:47:42.727389",
     "status": "completed"
    },
    "tags": []
   },
   "source": [
    "The underlying principle is to model or estimate the trend and seasonality in the series and remove those from the series to get a stationary series. Then statistical forecasting techniques can be implemented in this series. The final step would be to convert the forecasted values into the original scale by applying trend and seasonality constraints back."
   ]
  },
  {
   "cell_type": "code",
   "execution_count": 13,
   "id": "821baba3",
   "metadata": {
    "execution": {
     "iopub.execute_input": "2022-09-18T14:47:42.768760Z",
     "iopub.status.busy": "2022-09-18T14:47:42.768290Z",
     "iopub.status.idle": "2022-09-18T14:47:43.156976Z",
     "shell.execute_reply": "2022-09-18T14:47:43.155766Z"
    },
    "papermill": {
     "duration": 0.405988,
     "end_time": "2022-09-18T14:47:43.159777",
     "exception": false,
     "start_time": "2022-09-18T14:47:42.753789",
     "status": "completed"
    },
    "tags": []
   },
   "outputs": [
    {
     "name": "stderr",
     "output_type": "stream",
     "text": [
      "/opt/conda/lib/python3.7/site-packages/seaborn/_decorators.py:43: FutureWarning: Pass the following variables as keyword args: x, y. From version 0.12, the only valid positional argument will be `data`, and passing other arguments without an explicit keyword will result in an error or misinterpretation.\n",
      "  FutureWarning\n",
      "/opt/conda/lib/python3.7/site-packages/seaborn/_decorators.py:43: FutureWarning: Pass the following variables as keyword args: x, y. From version 0.12, the only valid positional argument will be `data`, and passing other arguments without an explicit keyword will result in an error or misinterpretation.\n",
      "  FutureWarning\n"
     ]
    },
    {
     "data": {
      "image/png": "[encoded data removed]",
      "text/plain": [
       "<Figure size 1080x576 with 1 Axes>"
      ]
     },
     "metadata": {
      "needs_background": "light"
     },
     "output_type": "display_data"
    }
   ],
   "source": [
    "def time_plot(data, x_col, y_col, title):\n",
    "    fig, ax = plt.subplots(figsize = (15,8))\n",
    "    sns.lineplot(x_col, y_col, data = data, ax = ax, color = 'darkblue', label='Total Sales')\n",
    "    \n",
    "    s_mean = data.groupby(data.date.dt.year)[y_col].mean().reset_index()\n",
    "    s_mean.date = pd.to_datetime(s_mean.date, format='%Y')\n",
    "    sns.lineplot((s_mean.date + datetime.timedelta(6*365/12)), y_col, data=s_mean, ax=ax, color='red', label='Mean Sales')   \n",
    "    \n",
    "    ax.set(xlabel = \"Years\",\n",
    "           ylabel = \"Sales\",\n",
    "           title = title)\n",
    "    \n",
    "\n",
    "time_plot(m_df, 'date', 'sales', 'Monthly Sales Before Diff Transformation' )"
   ]
  },
  {
   "cell_type": "markdown",
   "id": "00e737b9",
   "metadata": {
    "papermill": {
     "duration": 0.014281,
     "end_time": "2022-09-18T14:47:43.189501",
     "exception": false,
     "start_time": "2022-09-18T14:47:43.175220",
     "status": "completed"
    },
    "tags": []
   },
   "source": [
    "* **Differencing**\n",
    "\n",
    "In this method, we compute the difference of consecutive terms in the series. Differencing is typically performed to get rid of the varying mean. "
   ]
  },
  {
   "cell_type": "code",
   "execution_count": 14,
   "id": "cc633264",
   "metadata": {
    "execution": {
     "iopub.execute_input": "2022-09-18T14:47:43.221074Z",
     "iopub.status.busy": "2022-09-18T14:47:43.220606Z",
     "iopub.status.idle": "2022-09-18T14:47:43.605470Z",
     "shell.execute_reply": "2022-09-18T14:47:43.604537Z"
    },
    "papermill": {
     "duration": 0.403269,
     "end_time": "2022-09-18T14:47:43.607713",
     "exception": false,
     "start_time": "2022-09-18T14:47:43.204444",
     "status": "completed"
    },
    "tags": []
   },
   "outputs": [
    {
     "name": "stderr",
     "output_type": "stream",
     "text": [
      "/opt/conda/lib/python3.7/site-packages/seaborn/_decorators.py:43: FutureWarning: Pass the following variables as keyword args: x, y. From version 0.12, the only valid positional argument will be `data`, and passing other arguments without an explicit keyword will result in an error or misinterpretation.\n",
      "  FutureWarning\n",
      "/opt/conda/lib/python3.7/site-packages/seaborn/_decorators.py:43: FutureWarning: Pass the following variables as keyword args: x, y. From version 0.12, the only valid positional argument will be `data`, and passing other arguments without an explicit keyword will result in an error or misinterpretation.\n",
      "  FutureWarning\n"
     ]
    },
    {
     "data": {
      "image/png": "[encoded data removed]",
      "text/plain": [
       "<Figure size 1080x576 with 1 Axes>"
      ]
     },
     "metadata": {
      "needs_background": "light"
     },
     "output_type": "display_data"
    }
   ],
   "source": [
    "# Calculate the difference in sales month over month:\n",
    "\n",
    "def get_diff(data):\n",
    "    data['sales_diff'] = data.sales.diff()\n",
    "    data = data.dropna()\n",
    "    \n",
    "    filepath = Path('../data/stationary_df.csv')  \n",
    "    filepath.parent.mkdir(parents=True, exist_ok=True)  \n",
    "    data.to_csv('../data/stationary_df.csv')\n",
    "    \n",
    "    return data\n",
    "\n",
    "stationary_df = get_diff(m_df)\n",
    "time_plot(stationary_df, 'date', 'sales_diff', 'Monthly Sales After Diff Transformation')\n"
   ]
  },
  {
   "cell_type": "markdown",
   "id": "7fb1718d",
   "metadata": {
    "papermill": {
     "duration": 0.015352,
     "end_time": "2022-09-18T14:47:43.639265",
     "exception": false,
     "start_time": "2022-09-18T14:47:43.623913",
     "status": "completed"
    },
    "tags": []
   },
   "source": [
    "<div class=\"alert alert-block alert-info\">\n",
    "    <p style=\"padding: 10px;\n",
    "              color:black;\">Now that our data represent monthly sales and we have transformed it to be stationary, we will set up the \n",
    "                            data for our different model types. <br>\n",
    "              ✔ To do this, we will \n",
    "                            define two different structures: \n",
    "        <br>\n",
    "            1. one will be used for ARIMA modeling,\n",
    "        <br>\n",
    "            2. the other will be used for the rest of the models.\n",
    "     </p>\n",
    "   </div>\n"
   ]
  },
  {
   "cell_type": "markdown",
   "id": "79981ef7",
   "metadata": {
    "papermill": {
     "duration": 0.015334,
     "end_time": "2022-09-18T14:47:43.670385",
     "exception": false,
     "start_time": "2022-09-18T14:47:43.655051",
     "status": "completed"
    },
    "tags": []
   },
   "source": [
    "# **Preparing Dataset Modeling**"
   ]
  },
  {
   "cell_type": "markdown",
   "id": "5c07edb6",
   "metadata": {
    "papermill": {
     "duration": 0.015298,
     "end_time": "2022-09-18T14:47:43.701957",
     "exception": false,
     "start_time": "2022-09-18T14:47:43.686659",
     "status": "completed"
    },
    "tags": []
   },
   "source": [
    "# ARIMA Modeling\n",
    "\n",
    ">  For our Arima model, we will need only a datetime index and the dependent variable (diff in sales) columns."
   ]
  },
  {
   "cell_type": "code",
   "execution_count": 15,
   "id": "f1779ca6",
   "metadata": {
    "execution": {
     "iopub.execute_input": "2022-09-18T14:47:43.735421Z",
     "iopub.status.busy": "2022-09-18T14:47:43.734760Z",
     "iopub.status.idle": "2022-09-18T14:47:43.757101Z",
     "shell.execute_reply": "2022-09-18T14:47:43.756068Z"
    },
    "papermill": {
     "duration": 0.041673,
     "end_time": "2022-09-18T14:47:43.759334",
     "exception": false,
     "start_time": "2022-09-18T14:47:43.717661",
     "status": "completed"
    },
    "tags": []
   },
   "outputs": [
    {
     "data": {
      "text/html": [
       "<div>\n",
       "<style scoped>\n",
       "    .dataframe tbody tr th:only-of-type {\n",
       "        vertical-align: middle;\n",
       "    }\n",
       "\n",
       "    .dataframe tbody tr th {\n",
       "        vertical-align: top;\n",
       "    }\n",
       "\n",
       "    .dataframe thead th {\n",
       "        text-align: right;\n",
       "    }\n",
       "</style>\n",
       "<table border=\"1\" class=\"dataframe\">\n",
       "  <thead>\n",
       "    <tr style=\"text-align: right;\">\n",
       "      <th></th>\n",
       "      <th>sales_diff</th>\n",
       "    </tr>\n",
       "    <tr>\n",
       "      <th>date</th>\n",
       "      <th></th>\n",
       "    </tr>\n",
       "  </thead>\n",
       "  <tbody>\n",
       "    <tr>\n",
       "      <th>2013-02-01</th>\n",
       "      <td>4513.0</td>\n",
       "    </tr>\n",
       "    <tr>\n",
       "      <th>2013-03-01</th>\n",
       "      <td>157965.0</td>\n",
       "    </tr>\n",
       "    <tr>\n",
       "      <th>2013-04-01</th>\n",
       "      <td>64892.0</td>\n",
       "    </tr>\n",
       "    <tr>\n",
       "      <th>2013-05-01</th>\n",
       "      <td>80968.0</td>\n",
       "    </tr>\n",
       "    <tr>\n",
       "      <th>2013-06-01</th>\n",
       "      <td>32355.0</td>\n",
       "    </tr>\n",
       "    <tr>\n",
       "      <th>2013-07-01</th>\n",
       "      <td>60325.0</td>\n",
       "    </tr>\n",
       "    <tr>\n",
       "      <th>2013-08-01</th>\n",
       "      <td>-89161.0</td>\n",
       "    </tr>\n",
       "    <tr>\n",
       "      <th>2013-09-01</th>\n",
       "      <td>-76854.0</td>\n",
       "    </tr>\n",
       "    <tr>\n",
       "      <th>2013-10-01</th>\n",
       "      <td>-33320.0</td>\n",
       "    </tr>\n",
       "    <tr>\n",
       "      <th>2013-11-01</th>\n",
       "      <td>36056.0</td>\n",
       "    </tr>\n",
       "    <tr>\n",
       "      <th>2013-12-01</th>\n",
       "      <td>-186036.0</td>\n",
       "    </tr>\n",
       "    <tr>\n",
       "      <th>2014-01-01</th>\n",
       "      <td>19380.0</td>\n",
       "    </tr>\n",
       "    <tr>\n",
       "      <th>2014-02-01</th>\n",
       "      <td>3130.0</td>\n",
       "    </tr>\n",
       "    <tr>\n",
       "      <th>2014-03-01</th>\n",
       "      <td>175184.0</td>\n",
       "    </tr>\n",
       "    <tr>\n",
       "      <th>2014-04-01</th>\n",
       "      <td>84613.0</td>\n",
       "    </tr>\n",
       "    <tr>\n",
       "      <th>2014-05-01</th>\n",
       "      <td>93963.0</td>\n",
       "    </tr>\n",
       "    <tr>\n",
       "      <th>2014-06-01</th>\n",
       "      <td>23965.0</td>\n",
       "    </tr>\n",
       "    <tr>\n",
       "      <th>2014-07-01</th>\n",
       "      <td>82168.0</td>\n",
       "    </tr>\n",
       "    <tr>\n",
       "      <th>2014-08-01</th>\n",
       "      <td>-103414.0</td>\n",
       "    </tr>\n",
       "    <tr>\n",
       "      <th>2014-09-01</th>\n",
       "      <td>-100472.0</td>\n",
       "    </tr>\n",
       "    <tr>\n",
       "      <th>2014-10-01</th>\n",
       "      <td>-26241.0</td>\n",
       "    </tr>\n",
       "    <tr>\n",
       "      <th>2014-11-01</th>\n",
       "      <td>41900.0</td>\n",
       "    </tr>\n",
       "    <tr>\n",
       "      <th>2014-12-01</th>\n",
       "      <td>-222735.0</td>\n",
       "    </tr>\n",
       "    <tr>\n",
       "      <th>2015-01-01</th>\n",
       "      <td>-25535.0</td>\n",
       "    </tr>\n",
       "    <tr>\n",
       "      <th>2015-02-01</th>\n",
       "      <td>-1196.0</td>\n",
       "    </tr>\n",
       "    <tr>\n",
       "      <th>2015-03-01</th>\n",
       "      <td>179634.0</td>\n",
       "    </tr>\n",
       "    <tr>\n",
       "      <th>2015-04-01</th>\n",
       "      <td>93516.0</td>\n",
       "    </tr>\n",
       "    <tr>\n",
       "      <th>2015-05-01</th>\n",
       "      <td>102435.0</td>\n",
       "    </tr>\n",
       "    <tr>\n",
       "      <th>2015-06-01</th>\n",
       "      <td>10282.0</td>\n",
       "    </tr>\n",
       "    <tr>\n",
       "      <th>2015-07-01</th>\n",
       "      <td>100166.0</td>\n",
       "    </tr>\n",
       "    <tr>\n",
       "      <th>2015-08-01</th>\n",
       "      <td>-116949.0</td>\n",
       "    </tr>\n",
       "    <tr>\n",
       "      <th>2015-09-01</th>\n",
       "      <td>-97069.0</td>\n",
       "    </tr>\n",
       "    <tr>\n",
       "      <th>2015-10-01</th>\n",
       "      <td>-26079.0</td>\n",
       "    </tr>\n",
       "    <tr>\n",
       "      <th>2015-11-01</th>\n",
       "      <td>30392.0</td>\n",
       "    </tr>\n",
       "    <tr>\n",
       "      <th>2015-12-01</th>\n",
       "      <td>-220073.0</td>\n",
       "    </tr>\n",
       "    <tr>\n",
       "      <th>2016-01-01</th>\n",
       "      <td>-5133.0</td>\n",
       "    </tr>\n",
       "    <tr>\n",
       "      <th>2016-02-01</th>\n",
       "      <td>12518.0</td>\n",
       "    </tr>\n",
       "    <tr>\n",
       "      <th>2016-03-01</th>\n",
       "      <td>175924.0</td>\n",
       "    </tr>\n",
       "    <tr>\n",
       "      <th>2016-04-01</th>\n",
       "      <td>111069.0</td>\n",
       "    </tr>\n",
       "    <tr>\n",
       "      <th>2016-05-01</th>\n",
       "      <td>86780.0</td>\n",
       "    </tr>\n",
       "    <tr>\n",
       "      <th>2016-06-01</th>\n",
       "      <td>33934.0</td>\n",
       "    </tr>\n",
       "    <tr>\n",
       "      <th>2016-07-01</th>\n",
       "      <td>116054.0</td>\n",
       "    </tr>\n",
       "    <tr>\n",
       "      <th>2016-08-01</th>\n",
       "      <td>-157224.0</td>\n",
       "    </tr>\n",
       "    <tr>\n",
       "      <th>2016-09-01</th>\n",
       "      <td>-84663.0</td>\n",
       "    </tr>\n",
       "    <tr>\n",
       "      <th>2016-10-01</th>\n",
       "      <td>-33194.0</td>\n",
       "    </tr>\n",
       "    <tr>\n",
       "      <th>2016-11-01</th>\n",
       "      <td>27811.0</td>\n",
       "    </tr>\n",
       "    <tr>\n",
       "      <th>2016-12-01</th>\n",
       "      <td>-228037.0</td>\n",
       "    </tr>\n",
       "    <tr>\n",
       "      <th>2017-01-01</th>\n",
       "      <td>-46105.0</td>\n",
       "    </tr>\n",
       "    <tr>\n",
       "      <th>2017-02-01</th>\n",
       "      <td>4063.0</td>\n",
       "    </tr>\n",
       "    <tr>\n",
       "      <th>2017-03-01</th>\n",
       "      <td>201298.0</td>\n",
       "    </tr>\n",
       "    <tr>\n",
       "      <th>2017-04-01</th>\n",
       "      <td>116195.0</td>\n",
       "    </tr>\n",
       "    <tr>\n",
       "      <th>2017-05-01</th>\n",
       "      <td>81824.0</td>\n",
       "    </tr>\n",
       "    <tr>\n",
       "      <th>2017-06-01</th>\n",
       "      <td>43938.0</td>\n",
       "    </tr>\n",
       "    <tr>\n",
       "      <th>2017-07-01</th>\n",
       "      <td>106769.0</td>\n",
       "    </tr>\n",
       "    <tr>\n",
       "      <th>2017-08-01</th>\n",
       "      <td>-144990.0</td>\n",
       "    </tr>\n",
       "    <tr>\n",
       "      <th>2017-09-01</th>\n",
       "      <td>-91140.0</td>\n",
       "    </tr>\n",
       "    <tr>\n",
       "      <th>2017-10-01</th>\n",
       "      <td>-44103.0</td>\n",
       "    </tr>\n",
       "    <tr>\n",
       "      <th>2017-11-01</th>\n",
       "      <td>37677.0</td>\n",
       "    </tr>\n",
       "    <tr>\n",
       "      <th>2017-12-01</th>\n",
       "      <td>-233667.0</td>\n",
       "    </tr>\n",
       "  </tbody>\n",
       "</table>\n",
       "</div>"
      ],
      "text/plain": [
       "            sales_diff\n",
       "date                  \n",
       "2013-02-01      4513.0\n",
       "2013-03-01    157965.0\n",
       "2013-04-01     64892.0\n",
       "2013-05-01     80968.0\n",
       "2013-06-01     32355.0\n",
       "2013-07-01     60325.0\n",
       "2013-08-01    -89161.0\n",
       "2013-09-01    -76854.0\n",
       "2013-10-01    -33320.0\n",
       "2013-11-01     36056.0\n",
       "2013-12-01   -186036.0\n",
       "2014-01-01     19380.0\n",
       "2014-02-01      3130.0\n",
       "2014-03-01    175184.0\n",
       "2014-04-01     84613.0\n",
       "2014-05-01     93963.0\n",
       "2014-06-01     23965.0\n",
       "2014-07-01     82168.0\n",
       "2014-08-01   -103414.0\n",
       "2014-09-01   -100472.0\n",
       "2014-10-01    -26241.0\n",
       "2014-11-01     41900.0\n",
       "2014-12-01   -222735.0\n",
       "2015-01-01    -25535.0\n",
       "2015-02-01     -1196.0\n",
       "2015-03-01    179634.0\n",
       "2015-04-01     93516.0\n",
       "2015-05-01    102435.0\n",
       "2015-06-01     10282.0\n",
       "2015-07-01    100166.0\n",
       "2015-08-01   -116949.0\n",
       "2015-09-01    -97069.0\n",
       "2015-10-01    -26079.0\n",
       "2015-11-01     30392.0\n",
       "2015-12-01   -220073.0\n",
       "2016-01-01     -5133.0\n",
       "2016-02-01     12518.0\n",
       "2016-03-01    175924.0\n",
       "2016-04-01    111069.0\n",
       "2016-05-01     86780.0\n",
       "2016-06-01     33934.0\n",
       "2016-07-01    116054.0\n",
       "2016-08-01   -157224.0\n",
       "2016-09-01    -84663.0\n",
       "2016-10-01    -33194.0\n",
       "2016-11-01     27811.0\n",
       "2016-12-01   -228037.0\n",
       "2017-01-01    -46105.0\n",
       "2017-02-01      4063.0\n",
       "2017-03-01    201298.0\n",
       "2017-04-01    116195.0\n",
       "2017-05-01     81824.0\n",
       "2017-06-01     43938.0\n",
       "2017-07-01    106769.0\n",
       "2017-08-01   -144990.0\n",
       "2017-09-01    -91140.0\n",
       "2017-10-01    -44103.0\n",
       "2017-11-01     37677.0\n",
       "2017-12-01   -233667.0"
      ]
     },
     "execution_count": 15,
     "metadata": {},
     "output_type": "execute_result"
    }
   ],
   "source": [
    "def build_arima_data(data):\n",
    "    da_data = data.set_index('date').drop('sales', axis=1)\n",
    "    da_data.dropna(axis=0)\n",
    "    \"\"\"Generates a csv-file with a datetime index and a dependent sales column for ARIMA modeling.\"\"\"\n",
    "    \n",
    "    da_data.to_csv('../data/arima_df.csv')\n",
    "    \n",
    "    return da_data\n",
    "\n",
    "datatime_df = build_arima_data(stationary_df)\n",
    "datatime_df # ARIMA Dataframe"
   ]
  },
  {
   "cell_type": "markdown",
   "id": "7bfe0731",
   "metadata": {
    "papermill": {
     "duration": 0.015937,
     "end_time": "2022-09-18T14:47:43.791944",
     "exception": false,
     "start_time": "2022-09-18T14:47:43.776007",
     "status": "completed"
    },
    "tags": []
   },
   "source": [
    "* **Observing Lags**"
   ]
  },
  {
   "cell_type": "markdown",
   "id": "82242904",
   "metadata": {
    "papermill": {
     "duration": 0.015731,
     "end_time": "2022-09-18T14:47:43.823951",
     "exception": false,
     "start_time": "2022-09-18T14:47:43.808220",
     "status": "completed"
    },
    "tags": []
   },
   "source": [
    "For our other models, we will create a new data frame where each feature represents a previous month’s sales. To determine how many months to include in our feature set, we will observe the autocorrelation and partial autocorrelation plots and use the [rules for selecting lags in ARIMA modeling](https://people.duke.edu/~rnau/arimrule.htm). This way, we can keep consistent a look-back period for our ARIMA and regressive models.\n",
    "\n",
    "\n"
   ]
  },
  {
   "cell_type": "code",
   "execution_count": 16,
   "id": "e0bae71b",
   "metadata": {
    "execution": {
     "iopub.execute_input": "2022-09-18T14:47:43.858726Z",
     "iopub.status.busy": "2022-09-18T14:47:43.857582Z",
     "iopub.status.idle": "2022-09-18T14:47:44.521658Z",
     "shell.execute_reply": "2022-09-18T14:47:44.520706Z"
    },
    "papermill": {
     "duration": 0.684111,
     "end_time": "2022-09-18T14:47:44.524193",
     "exception": false,
     "start_time": "2022-09-18T14:47:43.840082",
     "status": "completed"
    },
    "tags": []
   },
   "outputs": [
    {
     "name": "stderr",
     "output_type": "stream",
     "text": [
      "/opt/conda/lib/python3.7/site-packages/statsmodels/graphics/tsaplots.py:353: FutureWarning: The default method 'yw' can produce PACF values outside of the [-1,1] interval. After 0.13, the default will change tounadjusted Yule-Walker ('ywm'). You can use this method now by setting method='ywm'.\n",
      "  FutureWarning,\n"
     ]
    },
    {
     "data": {
      "image/png": "[encoded data removed]",
      "text/plain": [
       "<Figure size 720x360 with 3 Axes>"
      ]
     },
     "metadata": {
      "needs_background": "light"
     },
     "output_type": "display_data"
    }
   ],
   "source": [
    "def plots_lag(data, lags=None):\n",
    "    \"\"\"Convert dataframe to datetime index\"\"\"\n",
    "    dt_data = data.set_index('date').drop('sales', axis=1)\n",
    "    dt_data.dropna(axis=0)\n",
    "    \n",
    "    \n",
    "    raw  = plt.subplot(122)\n",
    "    acf  = plt.subplot(221)\n",
    "    pacf = plt.subplot(223)\n",
    "    \n",
    "    dt_data.plot(ax=raw, figsize=(10, 5), color='orange')\n",
    "    # Plot the autocorrelation function:\n",
    "    smt.graphics.plot_acf(dt_data, lags=lags, ax=acf, color='mediumblue')\n",
    "    smt.graphics.plot_pacf(dt_data, lags=lags, ax=pacf, color='mediumblue')\n",
    "    \n",
    "    # will also adjust spacing between subplots to minimize the overlaps:\n",
    "    plt.tight_layout()\n",
    "\n",
    "plots_lag(stationary_df, lags=24);\n",
    "    \n",
    "    "
   ]
  },
  {
   "cell_type": "markdown",
   "id": "50ff9096",
   "metadata": {
    "papermill": {
     "duration": 0.018396,
     "end_time": "2022-09-18T14:47:44.561145",
     "exception": false,
     "start_time": "2022-09-18T14:47:44.542749",
     "status": "completed"
    },
    "tags": []
   },
   "source": [
    "> [Statsmodels](https://www.statsmodels.org/dev/generated/statsmodels.graphics.tsaplots.plot_acf.html)\n",
    "\n",
    "\n",
    "> [🎦 Autocorrelation Function](https://www.youtube.com/watch?v=ZjaBn93YPWo&t=12s)\n",
    "\n",
    "\n",
    ">[ Time Series & Autocorrelation](https://online.stat.psu.edu/stat501/book/export/html/995 )\n"
   ]
  },
  {
   "cell_type": "markdown",
   "id": "f0a1bb17",
   "metadata": {
    "papermill": {
     "duration": 0.01831,
     "end_time": "2022-09-18T14:47:44.598339",
     "exception": false,
     "start_time": "2022-09-18T14:47:44.580029",
     "status": "completed"
    },
    "tags": []
   },
   "source": [
    "<div class=\"alert alert-block alert-danger\">\n",
    "    <p style=\"padding: 15px;\n",
    "              color:black;\"> 📌 Based on the above, we will choose our look-back period to be 12 months. We will, therefore, generate a data frame that has 13 columns, 1 column for each of the 12 months and the column for our dependent variable, difference in sales.\n",
    "     </p>\n",
    "   </div>"
   ]
  },
  {
   "cell_type": "markdown",
   "id": "7da5dc65",
   "metadata": {
    "papermill": {
     "duration": 0.018339,
     "end_time": "2022-09-18T14:47:44.635352",
     "exception": false,
     "start_time": "2022-09-18T14:47:44.617013",
     "status": "completed"
    },
    "tags": []
   },
   "source": [
    "# Regressive Modeling"
   ]
  },
  {
   "cell_type": "markdown",
   "id": "e7f6c519",
   "metadata": {
    "papermill": {
     "duration": 0.0207,
     "end_time": "2022-09-18T14:47:44.675227",
     "exception": false,
     "start_time": "2022-09-18T14:47:44.654527",
     "status": "completed"
    },
    "tags": []
   },
   "source": [
    "> Let's create a CSV file where each row represents a month and the columns will have sales, dependent variables, and previous sales for each delay. The 12 delay properties are created according to the EDA. Data is used for regression modeling."
   ]
  },
  {
   "cell_type": "markdown",
   "id": "59f58f0f",
   "metadata": {
    "papermill": {
     "duration": 0.018405,
     "end_time": "2022-09-18T14:47:44.714054",
     "exception": false,
     "start_time": "2022-09-18T14:47:44.695649",
     "status": "completed"
    },
    "tags": []
   },
   "source": [
    "Code was taken from [Baris Karaman’s 'Data Driven Growth' series.](https://towardsdatascience.com/predicting-sales-611cb5a252de)"
   ]
  },
  {
   "cell_type": "code",
   "execution_count": 17,
   "id": "792158c7",
   "metadata": {
    "execution": {
     "iopub.execute_input": "2022-09-18T14:47:44.753542Z",
     "iopub.status.busy": "2022-09-18T14:47:44.753094Z",
     "iopub.status.idle": "2022-09-18T14:47:44.842102Z",
     "shell.execute_reply": "2022-09-18T14:47:44.840910Z"
    },
    "papermill": {
     "duration": 0.112285,
     "end_time": "2022-09-18T14:47:44.844918",
     "exception": false,
     "start_time": "2022-09-18T14:47:44.732633",
     "status": "completed"
    },
    "tags": []
   },
   "outputs": [
    {
     "data": {
      "text/html": [
       "<div>\n",
       "<style scoped>\n",
       "    .dataframe tbody tr th:only-of-type {\n",
       "        vertical-align: middle;\n",
       "    }\n",
       "\n",
       "    .dataframe tbody tr th {\n",
       "        vertical-align: top;\n",
       "    }\n",
       "\n",
       "    .dataframe thead th {\n",
       "        text-align: right;\n",
       "    }\n",
       "</style>\n",
       "<table border=\"1\" class=\"dataframe\">\n",
       "  <thead>\n",
       "    <tr style=\"text-align: right;\">\n",
       "      <th></th>\n",
       "      <th>date</th>\n",
       "      <th>sales</th>\n",
       "      <th>sales_diff</th>\n",
       "      <th>lag_1</th>\n",
       "      <th>lag_2</th>\n",
       "      <th>lag_3</th>\n",
       "      <th>lag_4</th>\n",
       "      <th>lag_5</th>\n",
       "      <th>lag_6</th>\n",
       "      <th>lag_7</th>\n",
       "      <th>lag_8</th>\n",
       "      <th>lag_9</th>\n",
       "      <th>lag_10</th>\n",
       "      <th>lag_11</th>\n",
       "      <th>lag_12</th>\n",
       "    </tr>\n",
       "  </thead>\n",
       "  <tbody>\n",
       "    <tr>\n",
       "      <th>0</th>\n",
       "      <td>2014-02-01</td>\n",
       "      <td>529117</td>\n",
       "      <td>3130.0</td>\n",
       "      <td>19380.0</td>\n",
       "      <td>-186036.0</td>\n",
       "      <td>36056.0</td>\n",
       "      <td>-33320.0</td>\n",
       "      <td>-76854.0</td>\n",
       "      <td>-89161.0</td>\n",
       "      <td>60325.0</td>\n",
       "      <td>32355.0</td>\n",
       "      <td>80968.0</td>\n",
       "      <td>64892.0</td>\n",
       "      <td>157965.0</td>\n",
       "      <td>4513.0</td>\n",
       "    </tr>\n",
       "    <tr>\n",
       "      <th>1</th>\n",
       "      <td>2014-03-01</td>\n",
       "      <td>704301</td>\n",
       "      <td>175184.0</td>\n",
       "      <td>3130.0</td>\n",
       "      <td>19380.0</td>\n",
       "      <td>-186036.0</td>\n",
       "      <td>36056.0</td>\n",
       "      <td>-33320.0</td>\n",
       "      <td>-76854.0</td>\n",
       "      <td>-89161.0</td>\n",
       "      <td>60325.0</td>\n",
       "      <td>32355.0</td>\n",
       "      <td>80968.0</td>\n",
       "      <td>64892.0</td>\n",
       "      <td>157965.0</td>\n",
       "    </tr>\n",
       "    <tr>\n",
       "      <th>2</th>\n",
       "      <td>2014-04-01</td>\n",
       "      <td>788914</td>\n",
       "      <td>84613.0</td>\n",
       "      <td>175184.0</td>\n",
       "      <td>3130.0</td>\n",
       "      <td>19380.0</td>\n",
       "      <td>-186036.0</td>\n",
       "      <td>36056.0</td>\n",
       "      <td>-33320.0</td>\n",
       "      <td>-76854.0</td>\n",
       "      <td>-89161.0</td>\n",
       "      <td>60325.0</td>\n",
       "      <td>32355.0</td>\n",
       "      <td>80968.0</td>\n",
       "      <td>64892.0</td>\n",
       "    </tr>\n",
       "    <tr>\n",
       "      <th>3</th>\n",
       "      <td>2014-05-01</td>\n",
       "      <td>882877</td>\n",
       "      <td>93963.0</td>\n",
       "      <td>84613.0</td>\n",
       "      <td>175184.0</td>\n",
       "      <td>3130.0</td>\n",
       "      <td>19380.0</td>\n",
       "      <td>-186036.0</td>\n",
       "      <td>36056.0</td>\n",
       "      <td>-33320.0</td>\n",
       "      <td>-76854.0</td>\n",
       "      <td>-89161.0</td>\n",
       "      <td>60325.0</td>\n",
       "      <td>32355.0</td>\n",
       "      <td>80968.0</td>\n",
       "    </tr>\n",
       "    <tr>\n",
       "      <th>4</th>\n",
       "      <td>2014-06-01</td>\n",
       "      <td>906842</td>\n",
       "      <td>23965.0</td>\n",
       "      <td>93963.0</td>\n",
       "      <td>84613.0</td>\n",
       "      <td>175184.0</td>\n",
       "      <td>3130.0</td>\n",
       "      <td>19380.0</td>\n",
       "      <td>-186036.0</td>\n",
       "      <td>36056.0</td>\n",
       "      <td>-33320.0</td>\n",
       "      <td>-76854.0</td>\n",
       "      <td>-89161.0</td>\n",
       "      <td>60325.0</td>\n",
       "      <td>32355.0</td>\n",
       "    </tr>\n",
       "    <tr>\n",
       "      <th>5</th>\n",
       "      <td>2014-07-01</td>\n",
       "      <td>989010</td>\n",
       "      <td>82168.0</td>\n",
       "      <td>23965.0</td>\n",
       "      <td>93963.0</td>\n",
       "      <td>84613.0</td>\n",
       "      <td>175184.0</td>\n",
       "      <td>3130.0</td>\n",
       "      <td>19380.0</td>\n",
       "      <td>-186036.0</td>\n",
       "      <td>36056.0</td>\n",
       "      <td>-33320.0</td>\n",
       "      <td>-76854.0</td>\n",
       "      <td>-89161.0</td>\n",
       "      <td>60325.0</td>\n",
       "    </tr>\n",
       "    <tr>\n",
       "      <th>6</th>\n",
       "      <td>2014-08-01</td>\n",
       "      <td>885596</td>\n",
       "      <td>-103414.0</td>\n",
       "      <td>82168.0</td>\n",
       "      <td>23965.0</td>\n",
       "      <td>93963.0</td>\n",
       "      <td>84613.0</td>\n",
       "      <td>175184.0</td>\n",
       "      <td>3130.0</td>\n",
       "      <td>19380.0</td>\n",
       "      <td>-186036.0</td>\n",
       "      <td>36056.0</td>\n",
       "      <td>-33320.0</td>\n",
       "      <td>-76854.0</td>\n",
       "      <td>-89161.0</td>\n",
       "    </tr>\n",
       "    <tr>\n",
       "      <th>7</th>\n",
       "      <td>2014-09-01</td>\n",
       "      <td>785124</td>\n",
       "      <td>-100472.0</td>\n",
       "      <td>-103414.0</td>\n",
       "      <td>82168.0</td>\n",
       "      <td>23965.0</td>\n",
       "      <td>93963.0</td>\n",
       "      <td>84613.0</td>\n",
       "      <td>175184.0</td>\n",
       "      <td>3130.0</td>\n",
       "      <td>19380.0</td>\n",
       "      <td>-186036.0</td>\n",
       "      <td>36056.0</td>\n",
       "      <td>-33320.0</td>\n",
       "      <td>-76854.0</td>\n",
       "    </tr>\n",
       "    <tr>\n",
       "      <th>8</th>\n",
       "      <td>2014-10-01</td>\n",
       "      <td>758883</td>\n",
       "      <td>-26241.0</td>\n",
       "      <td>-100472.0</td>\n",
       "      <td>-103414.0</td>\n",
       "      <td>82168.0</td>\n",
       "      <td>23965.0</td>\n",
       "      <td>93963.0</td>\n",
       "      <td>84613.0</td>\n",
       "      <td>175184.0</td>\n",
       "      <td>3130.0</td>\n",
       "      <td>19380.0</td>\n",
       "      <td>-186036.0</td>\n",
       "      <td>36056.0</td>\n",
       "      <td>-33320.0</td>\n",
       "    </tr>\n",
       "    <tr>\n",
       "      <th>9</th>\n",
       "      <td>2014-11-01</td>\n",
       "      <td>800783</td>\n",
       "      <td>41900.0</td>\n",
       "      <td>-26241.0</td>\n",
       "      <td>-100472.0</td>\n",
       "      <td>-103414.0</td>\n",
       "      <td>82168.0</td>\n",
       "      <td>23965.0</td>\n",
       "      <td>93963.0</td>\n",
       "      <td>84613.0</td>\n",
       "      <td>175184.0</td>\n",
       "      <td>3130.0</td>\n",
       "      <td>19380.0</td>\n",
       "      <td>-186036.0</td>\n",
       "      <td>36056.0</td>\n",
       "    </tr>\n",
       "    <tr>\n",
       "      <th>10</th>\n",
       "      <td>2014-12-01</td>\n",
       "      <td>578048</td>\n",
       "      <td>-222735.0</td>\n",
       "      <td>41900.0</td>\n",
       "      <td>-26241.0</td>\n",
       "      <td>-100472.0</td>\n",
       "      <td>-103414.0</td>\n",
       "      <td>82168.0</td>\n",
       "      <td>23965.0</td>\n",
       "      <td>93963.0</td>\n",
       "      <td>84613.0</td>\n",
       "      <td>175184.0</td>\n",
       "      <td>3130.0</td>\n",
       "      <td>19380.0</td>\n",
       "      <td>-186036.0</td>\n",
       "    </tr>\n",
       "    <tr>\n",
       "      <th>11</th>\n",
       "      <td>2015-01-01</td>\n",
       "      <td>552513</td>\n",
       "      <td>-25535.0</td>\n",
       "      <td>-222735.0</td>\n",
       "      <td>41900.0</td>\n",
       "      <td>-26241.0</td>\n",
       "      <td>-100472.0</td>\n",
       "      <td>-103414.0</td>\n",
       "      <td>82168.0</td>\n",
       "      <td>23965.0</td>\n",
       "      <td>93963.0</td>\n",
       "      <td>84613.0</td>\n",
       "      <td>175184.0</td>\n",
       "      <td>3130.0</td>\n",
       "      <td>19380.0</td>\n",
       "    </tr>\n",
       "    <tr>\n",
       "      <th>12</th>\n",
       "      <td>2015-02-01</td>\n",
       "      <td>551317</td>\n",
       "      <td>-1196.0</td>\n",
       "      <td>-25535.0</td>\n",
       "      <td>-222735.0</td>\n",
       "      <td>41900.0</td>\n",
       "      <td>-26241.0</td>\n",
       "      <td>-100472.0</td>\n",
       "      <td>-103414.0</td>\n",
       "      <td>82168.0</td>\n",
       "      <td>23965.0</td>\n",
       "      <td>93963.0</td>\n",
       "      <td>84613.0</td>\n",
       "      <td>175184.0</td>\n",
       "      <td>3130.0</td>\n",
       "    </tr>\n",
       "    <tr>\n",
       "      <th>13</th>\n",
       "      <td>2015-03-01</td>\n",
       "      <td>730951</td>\n",
       "      <td>179634.0</td>\n",
       "      <td>-1196.0</td>\n",
       "      <td>-25535.0</td>\n",
       "      <td>-222735.0</td>\n",
       "      <td>41900.0</td>\n",
       "      <td>-26241.0</td>\n",
       "      <td>-100472.0</td>\n",
       "      <td>-103414.0</td>\n",
       "      <td>82168.0</td>\n",
       "      <td>23965.0</td>\n",
       "      <td>93963.0</td>\n",
       "      <td>84613.0</td>\n",
       "      <td>175184.0</td>\n",
       "    </tr>\n",
       "    <tr>\n",
       "      <th>14</th>\n",
       "      <td>2015-04-01</td>\n",
       "      <td>824467</td>\n",
       "      <td>93516.0</td>\n",
       "      <td>179634.0</td>\n",
       "      <td>-1196.0</td>\n",
       "      <td>-25535.0</td>\n",
       "      <td>-222735.0</td>\n",
       "      <td>41900.0</td>\n",
       "      <td>-26241.0</td>\n",
       "      <td>-100472.0</td>\n",
       "      <td>-103414.0</td>\n",
       "      <td>82168.0</td>\n",
       "      <td>23965.0</td>\n",
       "      <td>93963.0</td>\n",
       "      <td>84613.0</td>\n",
       "    </tr>\n",
       "    <tr>\n",
       "      <th>15</th>\n",
       "      <td>2015-05-01</td>\n",
       "      <td>926902</td>\n",
       "      <td>102435.0</td>\n",
       "      <td>93516.0</td>\n",
       "      <td>179634.0</td>\n",
       "      <td>-1196.0</td>\n",
       "      <td>-25535.0</td>\n",
       "      <td>-222735.0</td>\n",
       "      <td>41900.0</td>\n",
       "      <td>-26241.0</td>\n",
       "      <td>-100472.0</td>\n",
       "      <td>-103414.0</td>\n",
       "      <td>82168.0</td>\n",
       "      <td>23965.0</td>\n",
       "      <td>93963.0</td>\n",
       "    </tr>\n",
       "    <tr>\n",
       "      <th>16</th>\n",
       "      <td>2015-06-01</td>\n",
       "      <td>937184</td>\n",
       "      <td>10282.0</td>\n",
       "      <td>102435.0</td>\n",
       "      <td>93516.0</td>\n",
       "      <td>179634.0</td>\n",
       "      <td>-1196.0</td>\n",
       "      <td>-25535.0</td>\n",
       "      <td>-222735.0</td>\n",
       "      <td>41900.0</td>\n",
       "      <td>-26241.0</td>\n",
       "      <td>-100472.0</td>\n",
       "      <td>-103414.0</td>\n",
       "      <td>82168.0</td>\n",
       "      <td>23965.0</td>\n",
       "    </tr>\n",
       "    <tr>\n",
       "      <th>17</th>\n",
       "      <td>2015-07-01</td>\n",
       "      <td>1037350</td>\n",
       "      <td>100166.0</td>\n",
       "      <td>10282.0</td>\n",
       "      <td>102435.0</td>\n",
       "      <td>93516.0</td>\n",
       "      <td>179634.0</td>\n",
       "      <td>-1196.0</td>\n",
       "      <td>-25535.0</td>\n",
       "      <td>-222735.0</td>\n",
       "      <td>41900.0</td>\n",
       "      <td>-26241.0</td>\n",
       "      <td>-100472.0</td>\n",
       "      <td>-103414.0</td>\n",
       "      <td>82168.0</td>\n",
       "    </tr>\n",
       "    <tr>\n",
       "      <th>18</th>\n",
       "      <td>2015-08-01</td>\n",
       "      <td>920401</td>\n",
       "      <td>-116949.0</td>\n",
       "      <td>100166.0</td>\n",
       "      <td>10282.0</td>\n",
       "      <td>102435.0</td>\n",
       "      <td>93516.0</td>\n",
       "      <td>179634.0</td>\n",
       "      <td>-1196.0</td>\n",
       "      <td>-25535.0</td>\n",
       "      <td>-222735.0</td>\n",
       "      <td>41900.0</td>\n",
       "      <td>-26241.0</td>\n",
       "      <td>-100472.0</td>\n",
       "      <td>-103414.0</td>\n",
       "    </tr>\n",
       "    <tr>\n",
       "      <th>19</th>\n",
       "      <td>2015-09-01</td>\n",
       "      <td>823332</td>\n",
       "      <td>-97069.0</td>\n",
       "      <td>-116949.0</td>\n",
       "      <td>100166.0</td>\n",
       "      <td>10282.0</td>\n",
       "      <td>102435.0</td>\n",
       "      <td>93516.0</td>\n",
       "      <td>179634.0</td>\n",
       "      <td>-1196.0</td>\n",
       "      <td>-25535.0</td>\n",
       "      <td>-222735.0</td>\n",
       "      <td>41900.0</td>\n",
       "      <td>-26241.0</td>\n",
       "      <td>-100472.0</td>\n",
       "    </tr>\n",
       "    <tr>\n",
       "      <th>20</th>\n",
       "      <td>2015-10-01</td>\n",
       "      <td>797253</td>\n",
       "      <td>-26079.0</td>\n",
       "      <td>-97069.0</td>\n",
       "      <td>-116949.0</td>\n",
       "      <td>100166.0</td>\n",
       "      <td>10282.0</td>\n",
       "      <td>102435.0</td>\n",
       "      <td>93516.0</td>\n",
       "      <td>179634.0</td>\n",
       "      <td>-1196.0</td>\n",
       "      <td>-25535.0</td>\n",
       "      <td>-222735.0</td>\n",
       "      <td>41900.0</td>\n",
       "      <td>-26241.0</td>\n",
       "    </tr>\n",
       "    <tr>\n",
       "      <th>21</th>\n",
       "      <td>2015-11-01</td>\n",
       "      <td>827645</td>\n",
       "      <td>30392.0</td>\n",
       "      <td>-26079.0</td>\n",
       "      <td>-97069.0</td>\n",
       "      <td>-116949.0</td>\n",
       "      <td>100166.0</td>\n",
       "      <td>10282.0</td>\n",
       "      <td>102435.0</td>\n",
       "      <td>93516.0</td>\n",
       "      <td>179634.0</td>\n",
       "      <td>-1196.0</td>\n",
       "      <td>-25535.0</td>\n",
       "      <td>-222735.0</td>\n",
       "      <td>41900.0</td>\n",
       "    </tr>\n",
       "    <tr>\n",
       "      <th>22</th>\n",
       "      <td>2015-12-01</td>\n",
       "      <td>607572</td>\n",
       "      <td>-220073.0</td>\n",
       "      <td>30392.0</td>\n",
       "      <td>-26079.0</td>\n",
       "      <td>-97069.0</td>\n",
       "      <td>-116949.0</td>\n",
       "      <td>100166.0</td>\n",
       "      <td>10282.0</td>\n",
       "      <td>102435.0</td>\n",
       "      <td>93516.0</td>\n",
       "      <td>179634.0</td>\n",
       "      <td>-1196.0</td>\n",
       "      <td>-25535.0</td>\n",
       "      <td>-222735.0</td>\n",
       "    </tr>\n",
       "    <tr>\n",
       "      <th>23</th>\n",
       "      <td>2016-01-01</td>\n",
       "      <td>602439</td>\n",
       "      <td>-5133.0</td>\n",
       "      <td>-220073.0</td>\n",
       "      <td>30392.0</td>\n",
       "      <td>-26079.0</td>\n",
       "      <td>-97069.0</td>\n",
       "      <td>-116949.0</td>\n",
       "      <td>100166.0</td>\n",
       "      <td>10282.0</td>\n",
       "      <td>102435.0</td>\n",
       "      <td>93516.0</td>\n",
       "      <td>179634.0</td>\n",
       "      <td>-1196.0</td>\n",
       "      <td>-25535.0</td>\n",
       "    </tr>\n",
       "    <tr>\n",
       "      <th>24</th>\n",
       "      <td>2016-02-01</td>\n",
       "      <td>614957</td>\n",
       "      <td>12518.0</td>\n",
       "      <td>-5133.0</td>\n",
       "      <td>-220073.0</td>\n",
       "      <td>30392.0</td>\n",
       "      <td>-26079.0</td>\n",
       "      <td>-97069.0</td>\n",
       "      <td>-116949.0</td>\n",
       "      <td>100166.0</td>\n",
       "      <td>10282.0</td>\n",
       "      <td>102435.0</td>\n",
       "      <td>93516.0</td>\n",
       "      <td>179634.0</td>\n",
       "      <td>-1196.0</td>\n",
       "    </tr>\n",
       "    <tr>\n",
       "      <th>25</th>\n",
       "      <td>2016-03-01</td>\n",
       "      <td>790881</td>\n",
       "      <td>175924.0</td>\n",
       "      <td>12518.0</td>\n",
       "      <td>-5133.0</td>\n",
       "      <td>-220073.0</td>\n",
       "      <td>30392.0</td>\n",
       "      <td>-26079.0</td>\n",
       "      <td>-97069.0</td>\n",
       "      <td>-116949.0</td>\n",
       "      <td>100166.0</td>\n",
       "      <td>10282.0</td>\n",
       "      <td>102435.0</td>\n",
       "      <td>93516.0</td>\n",
       "      <td>179634.0</td>\n",
       "    </tr>\n",
       "    <tr>\n",
       "      <th>26</th>\n",
       "      <td>2016-04-01</td>\n",
       "      <td>901950</td>\n",
       "      <td>111069.0</td>\n",
       "      <td>175924.0</td>\n",
       "      <td>12518.0</td>\n",
       "      <td>-5133.0</td>\n",
       "      <td>-220073.0</td>\n",
       "      <td>30392.0</td>\n",
       "      <td>-26079.0</td>\n",
       "      <td>-97069.0</td>\n",
       "      <td>-116949.0</td>\n",
       "      <td>100166.0</td>\n",
       "      <td>10282.0</td>\n",
       "      <td>102435.0</td>\n",
       "      <td>93516.0</td>\n",
       "    </tr>\n",
       "    <tr>\n",
       "      <th>27</th>\n",
       "      <td>2016-05-01</td>\n",
       "      <td>988730</td>\n",
       "      <td>86780.0</td>\n",
       "      <td>111069.0</td>\n",
       "      <td>175924.0</td>\n",
       "      <td>12518.0</td>\n",
       "      <td>-5133.0</td>\n",
       "      <td>-220073.0</td>\n",
       "      <td>30392.0</td>\n",
       "      <td>-26079.0</td>\n",
       "      <td>-97069.0</td>\n",
       "      <td>-116949.0</td>\n",
       "      <td>100166.0</td>\n",
       "      <td>10282.0</td>\n",
       "      <td>102435.0</td>\n",
       "    </tr>\n",
       "    <tr>\n",
       "      <th>28</th>\n",
       "      <td>2016-06-01</td>\n",
       "      <td>1022664</td>\n",
       "      <td>33934.0</td>\n",
       "      <td>86780.0</td>\n",
       "      <td>111069.0</td>\n",
       "      <td>175924.0</td>\n",
       "      <td>12518.0</td>\n",
       "      <td>-5133.0</td>\n",
       "      <td>-220073.0</td>\n",
       "      <td>30392.0</td>\n",
       "      <td>-26079.0</td>\n",
       "      <td>-97069.0</td>\n",
       "      <td>-116949.0</td>\n",
       "      <td>100166.0</td>\n",
       "      <td>10282.0</td>\n",
       "    </tr>\n",
       "    <tr>\n",
       "      <th>29</th>\n",
       "      <td>2016-07-01</td>\n",
       "      <td>1138718</td>\n",
       "      <td>116054.0</td>\n",
       "      <td>33934.0</td>\n",
       "      <td>86780.0</td>\n",
       "      <td>111069.0</td>\n",
       "      <td>175924.0</td>\n",
       "      <td>12518.0</td>\n",
       "      <td>-5133.0</td>\n",
       "      <td>-220073.0</td>\n",
       "      <td>30392.0</td>\n",
       "      <td>-26079.0</td>\n",
       "      <td>-97069.0</td>\n",
       "      <td>-116949.0</td>\n",
       "      <td>100166.0</td>\n",
       "    </tr>\n",
       "    <tr>\n",
       "      <th>30</th>\n",
       "      <td>2016-08-01</td>\n",
       "      <td>981494</td>\n",
       "      <td>-157224.0</td>\n",
       "      <td>116054.0</td>\n",
       "      <td>33934.0</td>\n",
       "      <td>86780.0</td>\n",
       "      <td>111069.0</td>\n",
       "      <td>175924.0</td>\n",
       "      <td>12518.0</td>\n",
       "      <td>-5133.0</td>\n",
       "      <td>-220073.0</td>\n",
       "      <td>30392.0</td>\n",
       "      <td>-26079.0</td>\n",
       "      <td>-97069.0</td>\n",
       "      <td>-116949.0</td>\n",
       "    </tr>\n",
       "    <tr>\n",
       "      <th>31</th>\n",
       "      <td>2016-09-01</td>\n",
       "      <td>896831</td>\n",
       "      <td>-84663.0</td>\n",
       "      <td>-157224.0</td>\n",
       "      <td>116054.0</td>\n",
       "      <td>33934.0</td>\n",
       "      <td>86780.0</td>\n",
       "      <td>111069.0</td>\n",
       "      <td>175924.0</td>\n",
       "      <td>12518.0</td>\n",
       "      <td>-5133.0</td>\n",
       "      <td>-220073.0</td>\n",
       "      <td>30392.0</td>\n",
       "      <td>-26079.0</td>\n",
       "      <td>-97069.0</td>\n",
       "    </tr>\n",
       "    <tr>\n",
       "      <th>32</th>\n",
       "      <td>2016-10-01</td>\n",
       "      <td>863637</td>\n",
       "      <td>-33194.0</td>\n",
       "      <td>-84663.0</td>\n",
       "      <td>-157224.0</td>\n",
       "      <td>116054.0</td>\n",
       "      <td>33934.0</td>\n",
       "      <td>86780.0</td>\n",
       "      <td>111069.0</td>\n",
       "      <td>175924.0</td>\n",
       "      <td>12518.0</td>\n",
       "      <td>-5133.0</td>\n",
       "      <td>-220073.0</td>\n",
       "      <td>30392.0</td>\n",
       "      <td>-26079.0</td>\n",
       "    </tr>\n",
       "    <tr>\n",
       "      <th>33</th>\n",
       "      <td>2016-11-01</td>\n",
       "      <td>891448</td>\n",
       "      <td>27811.0</td>\n",
       "      <td>-33194.0</td>\n",
       "      <td>-84663.0</td>\n",
       "      <td>-157224.0</td>\n",
       "      <td>116054.0</td>\n",
       "      <td>33934.0</td>\n",
       "      <td>86780.0</td>\n",
       "      <td>111069.0</td>\n",
       "      <td>175924.0</td>\n",
       "      <td>12518.0</td>\n",
       "      <td>-5133.0</td>\n",
       "      <td>-220073.0</td>\n",
       "      <td>30392.0</td>\n",
       "    </tr>\n",
       "    <tr>\n",
       "      <th>34</th>\n",
       "      <td>2016-12-01</td>\n",
       "      <td>663411</td>\n",
       "      <td>-228037.0</td>\n",
       "      <td>27811.0</td>\n",
       "      <td>-33194.0</td>\n",
       "      <td>-84663.0</td>\n",
       "      <td>-157224.0</td>\n",
       "      <td>116054.0</td>\n",
       "      <td>33934.0</td>\n",
       "      <td>86780.0</td>\n",
       "      <td>111069.0</td>\n",
       "      <td>175924.0</td>\n",
       "      <td>12518.0</td>\n",
       "      <td>-5133.0</td>\n",
       "      <td>-220073.0</td>\n",
       "    </tr>\n",
       "    <tr>\n",
       "      <th>35</th>\n",
       "      <td>2017-01-01</td>\n",
       "      <td>617306</td>\n",
       "      <td>-46105.0</td>\n",
       "      <td>-228037.0</td>\n",
       "      <td>27811.0</td>\n",
       "      <td>-33194.0</td>\n",
       "      <td>-84663.0</td>\n",
       "      <td>-157224.0</td>\n",
       "      <td>116054.0</td>\n",
       "      <td>33934.0</td>\n",
       "      <td>86780.0</td>\n",
       "      <td>111069.0</td>\n",
       "      <td>175924.0</td>\n",
       "      <td>12518.0</td>\n",
       "      <td>-5133.0</td>\n",
       "    </tr>\n",
       "    <tr>\n",
       "      <th>36</th>\n",
       "      <td>2017-02-01</td>\n",
       "      <td>621369</td>\n",
       "      <td>4063.0</td>\n",
       "      <td>-46105.0</td>\n",
       "      <td>-228037.0</td>\n",
       "      <td>27811.0</td>\n",
       "      <td>-33194.0</td>\n",
       "      <td>-84663.0</td>\n",
       "      <td>-157224.0</td>\n",
       "      <td>116054.0</td>\n",
       "      <td>33934.0</td>\n",
       "      <td>86780.0</td>\n",
       "      <td>111069.0</td>\n",
       "      <td>175924.0</td>\n",
       "      <td>12518.0</td>\n",
       "    </tr>\n",
       "    <tr>\n",
       "      <th>37</th>\n",
       "      <td>2017-03-01</td>\n",
       "      <td>822667</td>\n",
       "      <td>201298.0</td>\n",
       "      <td>4063.0</td>\n",
       "      <td>-46105.0</td>\n",
       "      <td>-228037.0</td>\n",
       "      <td>27811.0</td>\n",
       "      <td>-33194.0</td>\n",
       "      <td>-84663.0</td>\n",
       "      <td>-157224.0</td>\n",
       "      <td>116054.0</td>\n",
       "      <td>33934.0</td>\n",
       "      <td>86780.0</td>\n",
       "      <td>111069.0</td>\n",
       "      <td>175924.0</td>\n",
       "    </tr>\n",
       "    <tr>\n",
       "      <th>38</th>\n",
       "      <td>2017-04-01</td>\n",
       "      <td>938862</td>\n",
       "      <td>116195.0</td>\n",
       "      <td>201298.0</td>\n",
       "      <td>4063.0</td>\n",
       "      <td>-46105.0</td>\n",
       "      <td>-228037.0</td>\n",
       "      <td>27811.0</td>\n",
       "      <td>-33194.0</td>\n",
       "      <td>-84663.0</td>\n",
       "      <td>-157224.0</td>\n",
       "      <td>116054.0</td>\n",
       "      <td>33934.0</td>\n",
       "      <td>86780.0</td>\n",
       "      <td>111069.0</td>\n",
       "    </tr>\n",
       "    <tr>\n",
       "      <th>39</th>\n",
       "      <td>2017-05-01</td>\n",
       "      <td>1020686</td>\n",
       "      <td>81824.0</td>\n",
       "      <td>116195.0</td>\n",
       "      <td>201298.0</td>\n",
       "      <td>4063.0</td>\n",
       "      <td>-46105.0</td>\n",
       "      <td>-228037.0</td>\n",
       "      <td>27811.0</td>\n",
       "      <td>-33194.0</td>\n",
       "      <td>-84663.0</td>\n",
       "      <td>-157224.0</td>\n",
       "      <td>116054.0</td>\n",
       "      <td>33934.0</td>\n",
       "      <td>86780.0</td>\n",
       "    </tr>\n",
       "    <tr>\n",
       "      <th>40</th>\n",
       "      <td>2017-06-01</td>\n",
       "      <td>1064624</td>\n",
       "      <td>43938.0</td>\n",
       "      <td>81824.0</td>\n",
       "      <td>116195.0</td>\n",
       "      <td>201298.0</td>\n",
       "      <td>4063.0</td>\n",
       "      <td>-46105.0</td>\n",
       "      <td>-228037.0</td>\n",
       "      <td>27811.0</td>\n",
       "      <td>-33194.0</td>\n",
       "      <td>-84663.0</td>\n",
       "      <td>-157224.0</td>\n",
       "      <td>116054.0</td>\n",
       "      <td>33934.0</td>\n",
       "    </tr>\n",
       "    <tr>\n",
       "      <th>41</th>\n",
       "      <td>2017-07-01</td>\n",
       "      <td>1171393</td>\n",
       "      <td>106769.0</td>\n",
       "      <td>43938.0</td>\n",
       "      <td>81824.0</td>\n",
       "      <td>116195.0</td>\n",
       "      <td>201298.0</td>\n",
       "      <td>4063.0</td>\n",
       "      <td>-46105.0</td>\n",
       "      <td>-228037.0</td>\n",
       "      <td>27811.0</td>\n",
       "      <td>-33194.0</td>\n",
       "      <td>-84663.0</td>\n",
       "      <td>-157224.0</td>\n",
       "      <td>116054.0</td>\n",
       "    </tr>\n",
       "    <tr>\n",
       "      <th>42</th>\n",
       "      <td>2017-08-01</td>\n",
       "      <td>1026403</td>\n",
       "      <td>-144990.0</td>\n",
       "      <td>106769.0</td>\n",
       "      <td>43938.0</td>\n",
       "      <td>81824.0</td>\n",
       "      <td>116195.0</td>\n",
       "      <td>201298.0</td>\n",
       "      <td>4063.0</td>\n",
       "      <td>-46105.0</td>\n",
       "      <td>-228037.0</td>\n",
       "      <td>27811.0</td>\n",
       "      <td>-33194.0</td>\n",
       "      <td>-84663.0</td>\n",
       "      <td>-157224.0</td>\n",
       "    </tr>\n",
       "    <tr>\n",
       "      <th>43</th>\n",
       "      <td>2017-09-01</td>\n",
       "      <td>935263</td>\n",
       "      <td>-91140.0</td>\n",
       "      <td>-144990.0</td>\n",
       "      <td>106769.0</td>\n",
       "      <td>43938.0</td>\n",
       "      <td>81824.0</td>\n",
       "      <td>116195.0</td>\n",
       "      <td>201298.0</td>\n",
       "      <td>4063.0</td>\n",
       "      <td>-46105.0</td>\n",
       "      <td>-228037.0</td>\n",
       "      <td>27811.0</td>\n",
       "      <td>-33194.0</td>\n",
       "      <td>-84663.0</td>\n",
       "    </tr>\n",
       "    <tr>\n",
       "      <th>44</th>\n",
       "      <td>2017-10-01</td>\n",
       "      <td>891160</td>\n",
       "      <td>-44103.0</td>\n",
       "      <td>-91140.0</td>\n",
       "      <td>-144990.0</td>\n",
       "      <td>106769.0</td>\n",
       "      <td>43938.0</td>\n",
       "      <td>81824.0</td>\n",
       "      <td>116195.0</td>\n",
       "      <td>201298.0</td>\n",
       "      <td>4063.0</td>\n",
       "      <td>-46105.0</td>\n",
       "      <td>-228037.0</td>\n",
       "      <td>27811.0</td>\n",
       "      <td>-33194.0</td>\n",
       "    </tr>\n",
       "    <tr>\n",
       "      <th>45</th>\n",
       "      <td>2017-11-01</td>\n",
       "      <td>928837</td>\n",
       "      <td>37677.0</td>\n",
       "      <td>-44103.0</td>\n",
       "      <td>-91140.0</td>\n",
       "      <td>-144990.0</td>\n",
       "      <td>106769.0</td>\n",
       "      <td>43938.0</td>\n",
       "      <td>81824.0</td>\n",
       "      <td>116195.0</td>\n",
       "      <td>201298.0</td>\n",
       "      <td>4063.0</td>\n",
       "      <td>-46105.0</td>\n",
       "      <td>-228037.0</td>\n",
       "      <td>27811.0</td>\n",
       "    </tr>\n",
       "    <tr>\n",
       "      <th>46</th>\n",
       "      <td>2017-12-01</td>\n",
       "      <td>695170</td>\n",
       "      <td>-233667.0</td>\n",
       "      <td>37677.0</td>\n",
       "      <td>-44103.0</td>\n",
       "      <td>-91140.0</td>\n",
       "      <td>-144990.0</td>\n",
       "      <td>106769.0</td>\n",
       "      <td>43938.0</td>\n",
       "      <td>81824.0</td>\n",
       "      <td>116195.0</td>\n",
       "      <td>201298.0</td>\n",
       "      <td>4063.0</td>\n",
       "      <td>-46105.0</td>\n",
       "      <td>-228037.0</td>\n",
       "    </tr>\n",
       "  </tbody>\n",
       "</table>\n",
       "</div>"
      ],
      "text/plain": [
       "         date    sales  sales_diff     lag_1     lag_2     lag_3     lag_4  \\\n",
       "0  2014-02-01   529117      3130.0   19380.0 -186036.0   36056.0  -33320.0   \n",
       "1  2014-03-01   704301    175184.0    3130.0   19380.0 -186036.0   36056.0   \n",
       "2  2014-04-01   788914     84613.0  175184.0    3130.0   19380.0 -186036.0   \n",
       "3  2014-05-01   882877     93963.0   84613.0  175184.0    3130.0   19380.0   \n",
       "4  2014-06-01   906842     23965.0   93963.0   84613.0  175184.0    3130.0   \n",
       "5  2014-07-01   989010     82168.0   23965.0   93963.0   84613.0  175184.0   \n",
       "6  2014-08-01   885596   -103414.0   82168.0   23965.0   93963.0   84613.0   \n",
       "7  2014-09-01   785124   -100472.0 -103414.0   82168.0   23965.0   93963.0   \n",
       "8  2014-10-01   758883    -26241.0 -100472.0 -103414.0   82168.0   23965.0   \n",
       "9  2014-11-01   800783     41900.0  -26241.0 -100472.0 -103414.0   82168.0   \n",
       "10 2014-12-01   578048   -222735.0   41900.0  -26241.0 -100472.0 -103414.0   \n",
       "11 2015-01-01   552513    -25535.0 -222735.0   41900.0  -26241.0 -100472.0   \n",
       "12 2015-02-01   551317     -1196.0  -25535.0 -222735.0   41900.0  -26241.0   \n",
       "13 2015-03-01   730951    179634.0   -1196.0  -25535.0 -222735.0   41900.0   \n",
       "14 2015-04-01   824467     93516.0  179634.0   -1196.0  -25535.0 -222735.0   \n",
       "15 2015-05-01   926902    102435.0   93516.0  179634.0   -1196.0  -25535.0   \n",
       "16 2015-06-01   937184     10282.0  102435.0   93516.0  179634.0   -1196.0   \n",
       "17 2015-07-01  1037350    100166.0   10282.0  102435.0   93516.0  179634.0   \n",
       "18 2015-08-01   920401   -116949.0  100166.0   10282.0  102435.0   93516.0   \n",
       "19 2015-09-01   823332    -97069.0 -116949.0  100166.0   10282.0  102435.0   \n",
       "20 2015-10-01   797253    -26079.0  -97069.0 -116949.0  100166.0   10282.0   \n",
       "21 2015-11-01   827645     30392.0  -26079.0  -97069.0 -116949.0  100166.0   \n",
       "22 2015-12-01   607572   -220073.0   30392.0  -26079.0  -97069.0 -116949.0   \n",
       "23 2016-01-01   602439     -5133.0 -220073.0   30392.0  -26079.0  -97069.0   \n",
       "24 2016-02-01   614957     12518.0   -5133.0 -220073.0   30392.0  -26079.0   \n",
       "25 2016-03-01   790881    175924.0   12518.0   -5133.0 -220073.0   30392.0   \n",
       "26 2016-04-01   901950    111069.0  175924.0   12518.0   -5133.0 -220073.0   \n",
       "27 2016-05-01   988730     86780.0  111069.0  175924.0   12518.0   -5133.0   \n",
       "28 2016-06-01  1022664     33934.0   86780.0  111069.0  175924.0   12518.0   \n",
       "29 2016-07-01  1138718    116054.0   33934.0   86780.0  111069.0  175924.0   \n",
       "30 2016-08-01   981494   -157224.0  116054.0   33934.0   86780.0  111069.0   \n",
       "31 2016-09-01   896831    -84663.0 -157224.0  116054.0   33934.0   86780.0   \n",
       "32 2016-10-01   863637    -33194.0  -84663.0 -157224.0  116054.0   33934.0   \n",
       "33 2016-11-01   891448     27811.0  -33194.0  -84663.0 -157224.0  116054.0   \n",
       "34 2016-12-01   663411   -228037.0   27811.0  -33194.0  -84663.0 -157224.0   \n",
       "35 2017-01-01   617306    -46105.0 -228037.0   27811.0  -33194.0  -84663.0   \n",
       "36 2017-02-01   621369      4063.0  -46105.0 -228037.0   27811.0  -33194.0   \n",
       "37 2017-03-01   822667    201298.0    4063.0  -46105.0 -228037.0   27811.0   \n",
       "38 2017-04-01   938862    116195.0  201298.0    4063.0  -46105.0 -228037.0   \n",
       "39 2017-05-01  1020686     81824.0  116195.0  201298.0    4063.0  -46105.0   \n",
       "40 2017-06-01  1064624     43938.0   81824.0  116195.0  201298.0    4063.0   \n",
       "41 2017-07-01  1171393    106769.0   43938.0   81824.0  116195.0  201298.0   \n",
       "42 2017-08-01  1026403   -144990.0  106769.0   43938.0   81824.0  116195.0   \n",
       "43 2017-09-01   935263    -91140.0 -144990.0  106769.0   43938.0   81824.0   \n",
       "44 2017-10-01   891160    -44103.0  -91140.0 -144990.0  106769.0   43938.0   \n",
       "45 2017-11-01   928837     37677.0  -44103.0  -91140.0 -144990.0  106769.0   \n",
       "46 2017-12-01   695170   -233667.0   37677.0  -44103.0  -91140.0 -144990.0   \n",
       "\n",
       "       lag_5     lag_6     lag_7     lag_8     lag_9    lag_10    lag_11  \\\n",
       "0   -76854.0  -89161.0   60325.0   32355.0   80968.0   64892.0  157965.0   \n",
       "1   -33320.0  -76854.0  -89161.0   60325.0   32355.0   80968.0   64892.0   \n",
       "2    36056.0  -33320.0  -76854.0  -89161.0   60325.0   32355.0   80968.0   \n",
       "3  -186036.0   36056.0  -33320.0  -76854.0  -89161.0   60325.0   32355.0   \n",
       "4    19380.0 -186036.0   36056.0  -33320.0  -76854.0  -89161.0   60325.0   \n",
       "5     3130.0   19380.0 -186036.0   36056.0  -33320.0  -76854.0  -89161.0   \n",
       "6   175184.0    3130.0   19380.0 -186036.0   36056.0  -33320.0  -76854.0   \n",
       "7    84613.0  175184.0    3130.0   19380.0 -186036.0   36056.0  -33320.0   \n",
       "8    93963.0   84613.0  175184.0    3130.0   19380.0 -186036.0   36056.0   \n",
       "9    23965.0   93963.0   84613.0  175184.0    3130.0   19380.0 -186036.0   \n",
       "10   82168.0   23965.0   93963.0   84613.0  175184.0    3130.0   19380.0   \n",
       "11 -103414.0   82168.0   23965.0   93963.0   84613.0  175184.0    3130.0   \n",
       "12 -100472.0 -103414.0   82168.0   23965.0   93963.0   84613.0  175184.0   \n",
       "13  -26241.0 -100472.0 -103414.0   82168.0   23965.0   93963.0   84613.0   \n",
       "14   41900.0  -26241.0 -100472.0 -103414.0   82168.0   23965.0   93963.0   \n",
       "15 -222735.0   41900.0  -26241.0 -100472.0 -103414.0   82168.0   23965.0   \n",
       "16  -25535.0 -222735.0   41900.0  -26241.0 -100472.0 -103414.0   82168.0   \n",
       "17   -1196.0  -25535.0 -222735.0   41900.0  -26241.0 -100472.0 -103414.0   \n",
       "18  179634.0   -1196.0  -25535.0 -222735.0   41900.0  -26241.0 -100472.0   \n",
       "19   93516.0  179634.0   -1196.0  -25535.0 -222735.0   41900.0  -26241.0   \n",
       "20  102435.0   93516.0  179634.0   -1196.0  -25535.0 -222735.0   41900.0   \n",
       "21   10282.0  102435.0   93516.0  179634.0   -1196.0  -25535.0 -222735.0   \n",
       "22  100166.0   10282.0  102435.0   93516.0  179634.0   -1196.0  -25535.0   \n",
       "23 -116949.0  100166.0   10282.0  102435.0   93516.0  179634.0   -1196.0   \n",
       "24  -97069.0 -116949.0  100166.0   10282.0  102435.0   93516.0  179634.0   \n",
       "25  -26079.0  -97069.0 -116949.0  100166.0   10282.0  102435.0   93516.0   \n",
       "26   30392.0  -26079.0  -97069.0 -116949.0  100166.0   10282.0  102435.0   \n",
       "27 -220073.0   30392.0  -26079.0  -97069.0 -116949.0  100166.0   10282.0   \n",
       "28   -5133.0 -220073.0   30392.0  -26079.0  -97069.0 -116949.0  100166.0   \n",
       "29   12518.0   -5133.0 -220073.0   30392.0  -26079.0  -97069.0 -116949.0   \n",
       "30  175924.0   12518.0   -5133.0 -220073.0   30392.0  -26079.0  -97069.0   \n",
       "31  111069.0  175924.0   12518.0   -5133.0 -220073.0   30392.0  -26079.0   \n",
       "32   86780.0  111069.0  175924.0   12518.0   -5133.0 -220073.0   30392.0   \n",
       "33   33934.0   86780.0  111069.0  175924.0   12518.0   -5133.0 -220073.0   \n",
       "34  116054.0   33934.0   86780.0  111069.0  175924.0   12518.0   -5133.0   \n",
       "35 -157224.0  116054.0   33934.0   86780.0  111069.0  175924.0   12518.0   \n",
       "36  -84663.0 -157224.0  116054.0   33934.0   86780.0  111069.0  175924.0   \n",
       "37  -33194.0  -84663.0 -157224.0  116054.0   33934.0   86780.0  111069.0   \n",
       "38   27811.0  -33194.0  -84663.0 -157224.0  116054.0   33934.0   86780.0   \n",
       "39 -228037.0   27811.0  -33194.0  -84663.0 -157224.0  116054.0   33934.0   \n",
       "40  -46105.0 -228037.0   27811.0  -33194.0  -84663.0 -157224.0  116054.0   \n",
       "41    4063.0  -46105.0 -228037.0   27811.0  -33194.0  -84663.0 -157224.0   \n",
       "42  201298.0    4063.0  -46105.0 -228037.0   27811.0  -33194.0  -84663.0   \n",
       "43  116195.0  201298.0    4063.0  -46105.0 -228037.0   27811.0  -33194.0   \n",
       "44   81824.0  116195.0  201298.0    4063.0  -46105.0 -228037.0   27811.0   \n",
       "45   43938.0   81824.0  116195.0  201298.0    4063.0  -46105.0 -228037.0   \n",
       "46  106769.0   43938.0   81824.0  116195.0  201298.0    4063.0  -46105.0   \n",
       "\n",
       "      lag_12  \n",
       "0     4513.0  \n",
       "1   157965.0  \n",
       "2    64892.0  \n",
       "3    80968.0  \n",
       "4    32355.0  \n",
       "5    60325.0  \n",
       "6   -89161.0  \n",
       "7   -76854.0  \n",
       "8   -33320.0  \n",
       "9    36056.0  \n",
       "10 -186036.0  \n",
       "11   19380.0  \n",
       "12    3130.0  \n",
       "13  175184.0  \n",
       "14   84613.0  \n",
       "15   93963.0  \n",
       "16   23965.0  \n",
       "17   82168.0  \n",
       "18 -103414.0  \n",
       "19 -100472.0  \n",
       "20  -26241.0  \n",
       "21   41900.0  \n",
       "22 -222735.0  \n",
       "23  -25535.0  \n",
       "24   -1196.0  \n",
       "25  179634.0  \n",
       "26   93516.0  \n",
       "27  102435.0  \n",
       "28   10282.0  \n",
       "29  100166.0  \n",
       "30 -116949.0  \n",
       "31  -97069.0  \n",
       "32  -26079.0  \n",
       "33   30392.0  \n",
       "34 -220073.0  \n",
       "35   -5133.0  \n",
       "36   12518.0  \n",
       "37  175924.0  \n",
       "38  111069.0  \n",
       "39   86780.0  \n",
       "40   33934.0  \n",
       "41  116054.0  \n",
       "42 -157224.0  \n",
       "43  -84663.0  \n",
       "44  -33194.0  \n",
       "45   27811.0  \n",
       "46 -228037.0  "
      ]
     },
     "execution_count": 17,
     "metadata": {},
     "output_type": "execute_result"
    }
   ],
   "source": [
    "# Let's create a data frame for transformation from time series to supervised:\n",
    "\n",
    "def built_supervised(data):\n",
    "    supervised_df = data.copy()\n",
    "\n",
    "    # Create column for each lag:\n",
    "    for i in range(1, 13):\n",
    "        col_name = 'lag_' + str(i)\n",
    "        supervised_df[col_name] = supervised_df['sales_diff'].shift(i)\n",
    "\n",
    "    # Drop null values:\n",
    "    supervised_df = supervised_df.dropna().reset_index(drop=True)\n",
    "\n",
    "    supervised_df.to_csv('../data/model_df.csv', index=False)\n",
    "    \n",
    "    return supervised_df\n",
    "    \n",
    "\n",
    "model_df = built_supervised(stationary_df)\n",
    "model_df \n",
    "    "
   ]
  },
  {
   "cell_type": "code",
   "execution_count": 18,
   "id": "4e8598d0",
   "metadata": {
    "execution": {
     "iopub.execute_input": "2022-09-18T14:47:44.886926Z",
     "iopub.status.busy": "2022-09-18T14:47:44.885667Z",
     "iopub.status.idle": "2022-09-18T14:47:44.900977Z",
     "shell.execute_reply": "2022-09-18T14:47:44.899461Z"
    },
    "papermill": {
     "duration": 0.038925,
     "end_time": "2022-09-18T14:47:44.903654",
     "exception": false,
     "start_time": "2022-09-18T14:47:44.864729",
     "status": "completed"
    },
    "tags": []
   },
   "outputs": [
    {
     "name": "stdout",
     "output_type": "stream",
     "text": [
      "<class 'pandas.core.frame.DataFrame'>\n",
      "RangeIndex: 47 entries, 0 to 46\n",
      "Data columns (total 15 columns):\n",
      " #   Column      Non-Null Count  Dtype         \n",
      "---  ------      --------------  -----         \n",
      " 0   date        47 non-null     datetime64[ns]\n",
      " 1   sales       47 non-null     int64         \n",
      " 2   sales_diff  47 non-null     float64       \n",
      " 3   lag_1       47 non-null     float64       \n",
      " 4   lag_2       47 non-null     float64       \n",
      " 5   lag_3       47 non-null     float64       \n",
      " 6   lag_4       47 non-null     float64       \n",
      " 7   lag_5       47 non-null     float64       \n",
      " 8   lag_6       47 non-null     float64       \n",
      " 9   lag_7       47 non-null     float64       \n",
      " 10  lag_8       47 non-null     float64       \n",
      " 11  lag_9       47 non-null     float64       \n",
      " 12  lag_10      47 non-null     float64       \n",
      " 13  lag_11      47 non-null     float64       \n",
      " 14  lag_12      47 non-null     float64       \n",
      "dtypes: datetime64[ns](1), float64(13), int64(1)\n",
      "memory usage: 5.6 KB\n"
     ]
    }
   ],
   "source": [
    "model_df.info() # Supervised Dataframe"
   ]
  },
  {
   "cell_type": "markdown",
   "id": "0bdf29dc",
   "metadata": {
    "papermill": {
     "duration": 0.019493,
     "end_time": "2022-09-18T14:47:44.942944",
     "exception": false,
     "start_time": "2022-09-18T14:47:44.923451",
     "status": "completed"
    },
    "tags": []
   },
   "source": [
    "<div class=\"alert alert-block alert-info\">\n",
    "    <p style=\"padding: 10px;\n",
    "              color:black;\">Now we have two separate data structures: <br>\n",
    "              ✔ Our Arima structure which includes a DataTime index,\n",
    "        <br>\n",
    "             ✔ Our supervised structure which includes lags as features.\n",
    "     </p>\n",
    "   </div>"
   ]
  },
  {
   "cell_type": "markdown",
   "id": "cee0bdea",
   "metadata": {
    "papermill": {
     "duration": 0.019318,
     "end_time": "2022-09-18T14:47:44.981985",
     "exception": false,
     "start_time": "2022-09-18T14:47:44.962667",
     "status": "completed"
    },
    "tags": []
   },
   "source": [
    "## **Functions For Modeling** "
   ]
  },
  {
   "cell_type": "markdown",
   "id": "15f072d2",
   "metadata": {
    "papermill": {
     "duration": 0.019598,
     "end_time": "2022-09-18T14:47:45.021484",
     "exception": false,
     "start_time": "2022-09-18T14:47:45.001886",
     "status": "completed"
    },
    "tags": []
   },
   "source": [
    "To create and assess all of our models, we will use a series of helper functions that perform the following functions:\n",
    "* *Train test split*\n",
    "* *Scale the data*\n",
    "* *Reverse scaling*\n",
    "* *Create a predictions data frame*\n",
    "* *Score the models*\n"
   ]
  },
  {
   "cell_type": "markdown",
   "id": "48d2bed8",
   "metadata": {
    "papermill": {
     "duration": 0.019448,
     "end_time": "2022-09-18T14:47:45.060894",
     "exception": false,
     "start_time": "2022-09-18T14:47:45.041446",
     "status": "completed"
    },
    "tags": []
   },
   "source": [
    "* # Train Test Split\n",
    "\n",
    ">       We detach our data so that the last 12 months are part of the test set and the rest of the data is used to train our model."
   ]
  },
  {
   "cell_type": "code",
   "execution_count": 19,
   "id": "7efbc56d",
   "metadata": {
    "execution": {
     "iopub.execute_input": "2022-09-18T14:47:45.102895Z",
     "iopub.status.busy": "2022-09-18T14:47:45.102132Z",
     "iopub.status.idle": "2022-09-18T14:47:45.111088Z",
     "shell.execute_reply": "2022-09-18T14:47:45.109675Z"
    },
    "papermill": {
     "duration": 0.032827,
     "end_time": "2022-09-18T14:47:45.113485",
     "exception": false,
     "start_time": "2022-09-18T14:47:45.080658",
     "status": "completed"
    },
    "tags": []
   },
   "outputs": [
    {
     "name": "stdout",
     "output_type": "stream",
     "text": [
      "Shape of  Train: (35, 13)\n",
      "Shape of  Test: (12, 13)\n"
     ]
    }
   ],
   "source": [
    "def train_test_split(data):\n",
    "    data = data.drop(['sales','date'], axis=1)\n",
    "    train , test = data[:-12].values, data[-12:].values\n",
    "    \n",
    "    return train, test\n",
    "\n",
    "train, test = train_test_split(model_df)\n",
    "print(f\"Shape of  Train: {train.shape}\\nShape of  Test: {test.shape}\")"
   ]
  },
  {
   "cell_type": "markdown",
   "id": "823d75b3",
   "metadata": {
    "papermill": {
     "duration": 0.020289,
     "end_time": "2022-09-18T14:47:45.154021",
     "exception": false,
     "start_time": "2022-09-18T14:47:45.133732",
     "status": "completed"
    },
    "tags": []
   },
   "source": [
    "* # Scale The Data\n",
    "\n",
    ">      Using a min-max scaler, we will scale the data so that all of our variables fall within the range of -1 to 1."
   ]
  },
  {
   "cell_type": "code",
   "execution_count": 20,
   "id": "a7de65d8",
   "metadata": {
    "execution": {
     "iopub.execute_input": "2022-09-18T14:47:45.196188Z",
     "iopub.status.busy": "2022-09-18T14:47:45.195738Z",
     "iopub.status.idle": "2022-09-18T14:47:45.208841Z",
     "shell.execute_reply": "2022-09-18T14:47:45.206434Z"
    },
    "papermill": {
     "duration": 0.037895,
     "end_time": "2022-09-18T14:47:45.212095",
     "exception": false,
     "start_time": "2022-09-18T14:47:45.174200",
     "status": "completed"
    },
    "tags": []
   },
   "outputs": [
    {
     "name": "stdout",
     "output_type": "stream",
     "text": [
      "Shape of X Train: (35, 12)\n",
      "Shape of y Train: (35,)\n",
      "Shape of X Test: (12, 12)\n",
      "Shape of y Test: (12,)\n"
     ]
    }
   ],
   "source": [
    "def scale_data(train_set,test_set):\n",
    "    \"\"\"Scales data using MinMaxScaler and separates data into X_train, y_train,\n",
    "    X_test, and y_test.\"\"\"\n",
    "    \n",
    "    # Apply Min Max Scaler:\n",
    "    scaler = MinMaxScaler(feature_range=(-1, 1))\n",
    "    scaler = scaler.fit(train_set)\n",
    "    \n",
    "    # Reshape training set:\n",
    "    train_set = train_set.reshape(train_set.shape[0],\n",
    "                                  train_set.shape[1])\n",
    "    train_set_scaled = scaler.transform(train_set)\n",
    "    \n",
    "    # Reshape test set:\n",
    "    test_set = test_set.reshape(test_set.shape[0], \n",
    "                                test_set.shape[1])\n",
    "    test_set_scaled = scaler.transform(test_set)\n",
    "    \n",
    "    X_train, y_train = train_set_scaled[:, 1:], train_set_scaled[:, 0:1].ravel() # returns the array, flattened!\n",
    "    X_test, y_test = test_set_scaled[:, 1:], test_set_scaled[:, 0:1].ravel()\n",
    "    \n",
    "    return X_train, y_train, X_test, y_test, scaler\n",
    "\n",
    "\n",
    "X_train, y_train, X_test, y_test, scaler_object = scale_data(train, test)\n",
    "print(f\"Shape of X Train: {X_train.shape}\\nShape of y Train: {y_train.shape}\\nShape of X Test: {X_test.shape}\\nShape of y Test: {y_test.shape}\")"
   ]
  },
  {
   "cell_type": "markdown",
   "id": "f9086ee1",
   "metadata": {
    "papermill": {
     "duration": 0.019845,
     "end_time": "2022-09-18T14:47:45.252623",
     "exception": false,
     "start_time": "2022-09-18T14:47:45.232778",
     "status": "completed"
    },
    "tags": []
   },
   "source": [
    "* # Reverse Scaling\n",
    ">       After running our models, we will use this helper function to reverse the scaling of step 2."
   ]
  },
  {
   "cell_type": "code",
   "execution_count": 21,
   "id": "f173a694",
   "metadata": {
    "execution": {
     "iopub.execute_input": "2022-09-18T14:47:45.294702Z",
     "iopub.status.busy": "2022-09-18T14:47:45.294239Z",
     "iopub.status.idle": "2022-09-18T14:47:45.302649Z",
     "shell.execute_reply": "2022-09-18T14:47:45.301414Z"
    },
    "papermill": {
     "duration": 0.032193,
     "end_time": "2022-09-18T14:47:45.304845",
     "exception": false,
     "start_time": "2022-09-18T14:47:45.272652",
     "status": "completed"
    },
    "tags": []
   },
   "outputs": [],
   "source": [
    "def re_scaling(y_pred, x_test, scaler_obj, lstm=False):\n",
    "    \"\"\"For visualizing and comparing results, undoes the scaling effect on predictions.\"\"\"\n",
    "   # y_pred: model predictions\n",
    "   # x_test: features from the test set used for predictions\n",
    "   # scaler_obj: the scaler objects used for min-max scaling\n",
    "   # lstm: indicate if the model run is the lstm. If True, additional transformation occurs \n",
    "    \n",
    "    # Reshape y_pred:\n",
    "    y_pred = y_pred.reshape(y_pred.shape[0],\n",
    "                            1,\n",
    "                            1)\n",
    "\n",
    "    if not lstm:\n",
    "        x_test = x_test.reshape(x_test.shape[0],\n",
    "                                1, \n",
    "                                x_test.shape[1])\n",
    "\n",
    "    # Rebuild test set for inverse transform:\n",
    "    pred_test_set = []\n",
    "    for index in range(0, len(y_pred)):\n",
    "        pred_test_set.append(np.concatenate([y_pred[index], \n",
    "                                             x_test[index]],\n",
    "                                             axis=1) )\n",
    "\n",
    "    # Reshape pred_test_set:\n",
    "    pred_test_set = np.array(pred_test_set)\n",
    "    pred_test_set = pred_test_set.reshape(pred_test_set.shape[0],\n",
    "                                          pred_test_set.shape[2])\n",
    "\n",
    "    # Inverse transform:\n",
    "    pred_test_set_inverted = scaler_obj.inverse_transform(pred_test_set)\n",
    "\n",
    "    return pred_test_set_inverted\n",
    "    \n"
   ]
  },
  {
   "cell_type": "markdown",
   "id": "5bd22532",
   "metadata": {
    "papermill": {
     "duration": 0.0197,
     "end_time": "2022-09-18T14:47:45.344534",
     "exception": false,
     "start_time": "2022-09-18T14:47:45.324834",
     "status": "completed"
    },
    "tags": []
   },
   "source": [
    "* # Predictions Dataframe\n",
    ">     Generate a dataframe that includes the actual sales captured in our test set and the predicted results from our model so that we can quantify our success."
   ]
  },
  {
   "cell_type": "code",
   "execution_count": 22,
   "id": "c0c7439d",
   "metadata": {
    "execution": {
     "iopub.execute_input": "2022-09-18T14:47:45.387388Z",
     "iopub.status.busy": "2022-09-18T14:47:45.386285Z",
     "iopub.status.idle": "2022-09-18T14:47:45.394570Z",
     "shell.execute_reply": "2022-09-18T14:47:45.393328Z"
    },
    "papermill": {
     "duration": 0.032358,
     "end_time": "2022-09-18T14:47:45.396909",
     "exception": false,
     "start_time": "2022-09-18T14:47:45.364551",
     "status": "completed"
    },
    "tags": []
   },
   "outputs": [],
   "source": [
    "def prediction_df(unscaled_predictions, original_df):\n",
    "    \"\"\"Generates a dataframe that shows the predicted sales for each month\n",
    "    for plotting results.\"\"\"\n",
    "    \n",
    "    # unscaled_predictions: the model predictions that do not have min-max or other scaling applied\n",
    "    # original_df: the original monthly sales dataframe\n",
    "    \n",
    "    # Create dataframe that shows the predicted sales:\n",
    "    result_list = []\n",
    "    sales_dates = list(original_df[-13:].date)\n",
    "    act_sales = list(original_df[-13:].sales)\n",
    "\n",
    "    for index in range(0, len(unscaled_predictions)):\n",
    "        result_dict = {}\n",
    "        result_dict['pred_value'] = int(unscaled_predictions[index][0] + act_sales[index])\n",
    "        result_dict['date'] = sales_dates[index + 1]\n",
    "        result_list.append(result_dict)\n",
    "\n",
    "    df_result = pd.DataFrame(result_list)\n",
    "\n",
    "    return df_result"
   ]
  },
  {
   "cell_type": "markdown",
   "id": "250addc6",
   "metadata": {
    "papermill": {
     "duration": 0.019679,
     "end_time": "2022-09-18T14:47:45.436821",
     "exception": false,
     "start_time": "2022-09-18T14:47:45.417142",
     "status": "completed"
    },
    "tags": []
   },
   "source": [
    "* # Score The Models\n",
    ">     This helper function will save the root mean squared error (RMSE) and mean absolute error (MAE) of our predictions to compare the performance of our models."
   ]
  }
 ],
 "metadata": {
  "kernelspec": {
   "display_name": "Python 3",
   "language": "python",
   "name": "python3"
  },
  "language_info": {
   "codemirror_mode": {
    "name": "ipython",
    "version": 3
   },
   "file_extension": ".py",
   "mimetype": "text/x-python",
   "name": "python",
   "nbconvert_exporter": "python",
   "pygments_lexer": "ipython3",
   "version": "3.7.12"
  },
  "papermill": {
   "default_parameters": {},
   "duration": 27.261494,
   "end_time": "2022-09-18T14:47:48.109362",
   "environment_variables": {},
   "exception": null,
   "input_path": "__notebook__.ipynb",
   "output_path": "__notebook__.ipynb",
   "parameters": {},
   "start_time": "2022-09-18T14:47:20.847868",
   "version": "2.3.4"
  }
 },
 "nbformat": 4,
 "nbformat_minor": 5
}
