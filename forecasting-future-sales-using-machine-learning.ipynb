{
 "cells": [
  {
   "cell_type": "code",
   "execution_count": 1,
   "id": "9af905fb",
   "metadata": {
    "_cell_guid": "b1076dfc-b9ad-4769-8c92-a6c4dae69d19",
    "_uuid": "8f2839f25d086af736a60e9eeb907d3b93b6e0e5",
    "execution": {
     "iopub.execute_input": "2022-09-13T20:30:51.747100Z",
     "iopub.status.busy": "2022-09-13T20:30:51.746275Z",
     "iopub.status.idle": "2022-09-13T20:30:51.760673Z",
     "shell.execute_reply": "2022-09-13T20:30:51.759652Z"
    },
    "papermill": {
     "duration": 0.025973,
     "end_time": "2022-09-13T20:30:51.763805",
     "exception": false,
     "start_time": "2022-09-13T20:30:51.737832",
     "status": "completed"
    },
    "tags": []
   },
   "outputs": [
    {
     "name": "stdout",
     "output_type": "stream",
     "text": [
      "/kaggle/input/demand-forecasting-kernels-only/sample_submission.csv\n",
      "/kaggle/input/demand-forecasting-kernels-only/train.csv\n",
      "/kaggle/input/demand-forecasting-kernels-only/test.csv\n"
     ]
    }
   ],
   "source": [
    "# This Python 3 environment comes with many helpful analytics libraries installed\n",
    "# It is defined by the kaggle/python Docker image: https://github.com/kaggle/docker-python\n",
    "# For example, here's several helpful packages to load\n",
    "\n",
    "import numpy as np # linear algebra\n",
    "import pandas as pd # data processing, CSV file I/O (e.g. pd.read_csv)\n",
    "\n",
    "# Input data files are available in the read-only \"../input/\" directory\n",
    "# For example, running this (by clicking run or pressing Shift+Enter) will list all files under the input directory\n",
    "\n",
    "import os\n",
    "for dirname, _, filenames in os.walk('/kaggle/input'):\n",
    "    for filename in filenames:\n",
    "        print(os.path.join(dirname, filename))\n",
    "\n",
    "# You can write up to 20GB to the current directory (/kaggle/working/) that gets preserved as output when you create a version using \"Save & Run All\" \n",
    "# You can also write temporary files to /kaggle/temp/, but they won't be saved outside of the current session"
   ]
  },
  {
   "cell_type": "markdown",
   "id": "c91cd0a9",
   "metadata": {
    "papermill": {
     "duration": 0.005776,
     "end_time": "2022-09-13T20:30:51.776533",
     "exception": false,
     "start_time": "2022-09-13T20:30:51.770757",
     "status": "completed"
    },
    "tags": []
   },
   "source": [
    "# Forecasting future sales using Machine Learning\n",
    "\n",
    "Forecasting future sales of a product offers many advantages. Predicting future sales of a product helps a company manage the cost of manufacturing and marketing the product. In this notebook, I will try to you through the task of future sales prediction with machine learning using Python."
   ]
  },
  {
   "cell_type": "code",
   "execution_count": 2,
   "id": "d3df31cc",
   "metadata": {
    "execution": {
     "iopub.execute_input": "2022-09-13T20:30:51.789976Z",
     "iopub.status.busy": "2022-09-13T20:30:51.789627Z",
     "iopub.status.idle": "2022-09-13T20:31:00.434427Z",
     "shell.execute_reply": "2022-09-13T20:31:00.433425Z"
    },
    "papermill": {
     "duration": 8.65423,
     "end_time": "2022-09-13T20:31:00.436759",
     "exception": false,
     "start_time": "2022-09-13T20:30:51.782529",
     "status": "completed"
    },
    "tags": []
   },
   "outputs": [],
   "source": [
    "# EDA Libraries\n",
    "import pandas as pd\n",
    "import numpy as np\n",
    "import matplotlib.pyplot as plt\n",
    "import seaborn as sns\n",
    "\n",
    "#Scikit-Learn models\n",
    "from sklearn.preprocessing import MinMaxScaler\n",
    "from sklearn.linear_model import LinearRegression\n",
    "from sklearn.metrics import mean_squared_error, mean_absolute_error, r2_score\n",
    "from sklearn.ensemble import RandomForestRegressor\n",
    "from xgboost.sklearn import XGBRegressor\n",
    "\n",
    "import keras\n",
    "from keras.layers import Dense\n",
    "from keras.models import Sequential\n",
    "from keras.layers import LSTM\n",
    "\n",
    "import statsmodels.api as sm\n",
    "\n",
    "import pickle\n",
    "import datetime\n",
    "from pathlib import Path  "
   ]
  },
  {
   "cell_type": "markdown",
   "id": "32dc78ff",
   "metadata": {
    "papermill": {
     "duration": 0.005442,
     "end_time": "2022-09-13T20:31:00.448989",
     "exception": false,
     "start_time": "2022-09-13T20:31:00.443547",
     "status": "completed"
    },
    "tags": []
   },
   "source": [
    "## **Loading Dataset & Data Exploration (EDA)** "
   ]
  },
  {
   "cell_type": "markdown",
   "id": "55bcc6fc",
   "metadata": {
    "papermill": {
     "duration": 0.005315,
     "end_time": "2022-09-13T20:31:00.459980",
     "exception": false,
     "start_time": "2022-09-13T20:31:00.454665",
     "status": "completed"
    },
    "tags": []
   },
   "source": [
    "> The first step is to load the data and transform it into a structure that we will then use for each of our models. In its raw form, each row of data represents a single day of sales at one of ten stores. Our goal is to predict monthly sales, so we will first consolidate all stores and days into total monthly sales."
   ]
  },
  {
   "cell_type": "code",
   "execution_count": 3,
   "id": "b0b881ec",
   "metadata": {
    "execution": {
     "iopub.execute_input": "2022-09-13T20:31:00.473723Z",
     "iopub.status.busy": "2022-09-13T20:31:00.472179Z",
     "iopub.status.idle": "2022-09-13T20:31:00.513318Z",
     "shell.execute_reply": "2022-09-13T20:31:00.512365Z"
    },
    "papermill": {
     "duration": 0.049643,
     "end_time": "2022-09-13T20:31:00.515167",
     "exception": false,
     "start_time": "2022-09-13T20:31:00.465524",
     "status": "completed"
    },
    "tags": []
   },
   "outputs": [
    {
     "data": {
      "text/html": [
       "<div>\n",
       "<style scoped>\n",
       "    .dataframe tbody tr th:only-of-type {\n",
       "        vertical-align: middle;\n",
       "    }\n",
       "\n",
       "    .dataframe tbody tr th {\n",
       "        vertical-align: top;\n",
       "    }\n",
       "\n",
       "    .dataframe thead th {\n",
       "        text-align: right;\n",
       "    }\n",
       "</style>\n",
       "<table border=\"1\" class=\"dataframe\">\n",
       "  <thead>\n",
       "    <tr style=\"text-align: right;\">\n",
       "      <th></th>\n",
       "      <th>id</th>\n",
       "      <th>sales</th>\n",
       "    </tr>\n",
       "  </thead>\n",
       "  <tbody>\n",
       "    <tr>\n",
       "      <th>0</th>\n",
       "      <td>0</td>\n",
       "      <td>52</td>\n",
       "    </tr>\n",
       "    <tr>\n",
       "      <th>1</th>\n",
       "      <td>1</td>\n",
       "      <td>52</td>\n",
       "    </tr>\n",
       "    <tr>\n",
       "      <th>2</th>\n",
       "      <td>2</td>\n",
       "      <td>52</td>\n",
       "    </tr>\n",
       "    <tr>\n",
       "      <th>3</th>\n",
       "      <td>3</td>\n",
       "      <td>52</td>\n",
       "    </tr>\n",
       "    <tr>\n",
       "      <th>4</th>\n",
       "      <td>4</td>\n",
       "      <td>52</td>\n",
       "    </tr>\n",
       "  </tbody>\n",
       "</table>\n",
       "</div>"
      ],
      "text/plain": [
       "   id  sales\n",
       "0   0     52\n",
       "1   1     52\n",
       "2   2     52\n",
       "3   3     52\n",
       "4   4     52"
      ]
     },
     "execution_count": 3,
     "metadata": {},
     "output_type": "execute_result"
    }
   ],
   "source": [
    "dataset = pd.read_csv('../input/demand-forecasting-kernels-only/sample_submission.csv')\n",
    "df = dataset.copy()\n",
    "df.head()"
   ]
  },
  {
   "cell_type": "code",
   "execution_count": 4,
   "id": "9c554879",
   "metadata": {
    "execution": {
     "iopub.execute_input": "2022-09-13T20:31:00.528791Z",
     "iopub.status.busy": "2022-09-13T20:31:00.527609Z",
     "iopub.status.idle": "2022-09-13T20:31:00.992757Z",
     "shell.execute_reply": "2022-09-13T20:31:00.991184Z"
    },
    "papermill": {
     "duration": 0.474312,
     "end_time": "2022-09-13T20:31:00.995171",
     "exception": false,
     "start_time": "2022-09-13T20:31:00.520859",
     "status": "completed"
    },
    "tags": []
   },
   "outputs": [
    {
     "name": "stdout",
     "output_type": "stream",
     "text": [
      "<class 'pandas.core.frame.DataFrame'>\n",
      "RangeIndex: 913000 entries, 0 to 912999\n",
      "Data columns (total 4 columns):\n",
      " #   Column  Non-Null Count   Dtype \n",
      "---  ------  --------------   ----- \n",
      " 0   date    913000 non-null  object\n",
      " 1   store   913000 non-null  int64 \n",
      " 2   item    913000 non-null  int64 \n",
      " 3   sales   913000 non-null  int64 \n",
      "dtypes: int64(3), object(1)\n",
      "memory usage: 27.9+ MB\n"
     ]
    }
   ],
   "source": [
    "sales_data = pd.read_csv('../input/demand-forecasting-kernels-only/train.csv')\n",
    "df_s = sales_data.copy()\n",
    "df_s.info()"
   ]
  },
  {
   "cell_type": "code",
   "execution_count": 5,
   "id": "1cd509ef",
   "metadata": {
    "execution": {
     "iopub.execute_input": "2022-09-13T20:31:01.009980Z",
     "iopub.status.busy": "2022-09-13T20:31:01.008666Z",
     "iopub.status.idle": "2022-09-13T20:31:01.017724Z",
     "shell.execute_reply": "2022-09-13T20:31:01.017130Z"
    },
    "papermill": {
     "duration": 0.018635,
     "end_time": "2022-09-13T20:31:01.019830",
     "exception": false,
     "start_time": "2022-09-13T20:31:01.001195",
     "status": "completed"
    },
    "tags": []
   },
   "outputs": [
    {
     "data": {
      "text/html": [
       "<div>\n",
       "<style scoped>\n",
       "    .dataframe tbody tr th:only-of-type {\n",
       "        vertical-align: middle;\n",
       "    }\n",
       "\n",
       "    .dataframe tbody tr th {\n",
       "        vertical-align: top;\n",
       "    }\n",
       "\n",
       "    .dataframe thead th {\n",
       "        text-align: right;\n",
       "    }\n",
       "</style>\n",
       "<table border=\"1\" class=\"dataframe\">\n",
       "  <thead>\n",
       "    <tr style=\"text-align: right;\">\n",
       "      <th></th>\n",
       "      <th>date</th>\n",
       "      <th>store</th>\n",
       "      <th>item</th>\n",
       "      <th>sales</th>\n",
       "    </tr>\n",
       "  </thead>\n",
       "  <tbody>\n",
       "    <tr>\n",
       "      <th>912995</th>\n",
       "      <td>2017-12-27</td>\n",
       "      <td>10</td>\n",
       "      <td>50</td>\n",
       "      <td>63</td>\n",
       "    </tr>\n",
       "    <tr>\n",
       "      <th>912996</th>\n",
       "      <td>2017-12-28</td>\n",
       "      <td>10</td>\n",
       "      <td>50</td>\n",
       "      <td>59</td>\n",
       "    </tr>\n",
       "    <tr>\n",
       "      <th>912997</th>\n",
       "      <td>2017-12-29</td>\n",
       "      <td>10</td>\n",
       "      <td>50</td>\n",
       "      <td>74</td>\n",
       "    </tr>\n",
       "    <tr>\n",
       "      <th>912998</th>\n",
       "      <td>2017-12-30</td>\n",
       "      <td>10</td>\n",
       "      <td>50</td>\n",
       "      <td>62</td>\n",
       "    </tr>\n",
       "    <tr>\n",
       "      <th>912999</th>\n",
       "      <td>2017-12-31</td>\n",
       "      <td>10</td>\n",
       "      <td>50</td>\n",
       "      <td>82</td>\n",
       "    </tr>\n",
       "  </tbody>\n",
       "</table>\n",
       "</div>"
      ],
      "text/plain": [
       "              date  store  item  sales\n",
       "912995  2017-12-27     10    50     63\n",
       "912996  2017-12-28     10    50     59\n",
       "912997  2017-12-29     10    50     74\n",
       "912998  2017-12-30     10    50     62\n",
       "912999  2017-12-31     10    50     82"
      ]
     },
     "execution_count": 5,
     "metadata": {},
     "output_type": "execute_result"
    }
   ],
   "source": [
    "df_s.tail()"
   ]
  },
  {
   "cell_type": "code",
   "execution_count": 6,
   "id": "1fac847d",
   "metadata": {
    "execution": {
     "iopub.execute_input": "2022-09-13T20:31:01.033723Z",
     "iopub.status.busy": "2022-09-13T20:31:01.032989Z",
     "iopub.status.idle": "2022-09-13T20:31:01.039657Z",
     "shell.execute_reply": "2022-09-13T20:31:01.039038Z"
    },
    "papermill": {
     "duration": 0.01576,
     "end_time": "2022-09-13T20:31:01.041620",
     "exception": false,
     "start_time": "2022-09-13T20:31:01.025860",
     "status": "completed"
    },
    "tags": []
   },
   "outputs": [
    {
     "data": {
      "text/plain": [
       "RangeIndex(start=0, stop=913000, step=1)"
      ]
     },
     "execution_count": 6,
     "metadata": {},
     "output_type": "execute_result"
    }
   ],
   "source": [
    "df_s.index"
   ]
  },
  {
   "cell_type": "code",
   "execution_count": 7,
   "id": "40bb43a6",
   "metadata": {
    "execution": {
     "iopub.execute_input": "2022-09-13T20:31:01.056101Z",
     "iopub.status.busy": "2022-09-13T20:31:01.055417Z",
     "iopub.status.idle": "2022-09-13T20:31:01.146138Z",
     "shell.execute_reply": "2022-09-13T20:31:01.144820Z"
    },
    "papermill": {
     "duration": 0.100277,
     "end_time": "2022-09-13T20:31:01.148175",
     "exception": false,
     "start_time": "2022-09-13T20:31:01.047898",
     "status": "completed"
    },
    "tags": []
   },
   "outputs": [
    {
     "data": {
      "text/html": [
       "<div>\n",
       "<style scoped>\n",
       "    .dataframe tbody tr th:only-of-type {\n",
       "        vertical-align: middle;\n",
       "    }\n",
       "\n",
       "    .dataframe tbody tr th {\n",
       "        vertical-align: top;\n",
       "    }\n",
       "\n",
       "    .dataframe thead th {\n",
       "        text-align: right;\n",
       "    }\n",
       "</style>\n",
       "<table border=\"1\" class=\"dataframe\">\n",
       "  <thead>\n",
       "    <tr style=\"text-align: right;\">\n",
       "      <th></th>\n",
       "      <th>count</th>\n",
       "      <th>mean</th>\n",
       "      <th>std</th>\n",
       "      <th>min</th>\n",
       "      <th>25%</th>\n",
       "      <th>50%</th>\n",
       "      <th>75%</th>\n",
       "      <th>max</th>\n",
       "    </tr>\n",
       "  </thead>\n",
       "  <tbody>\n",
       "    <tr>\n",
       "      <th>store</th>\n",
       "      <td>913000.0</td>\n",
       "      <td>5.500000</td>\n",
       "      <td>2.872283</td>\n",
       "      <td>1.0</td>\n",
       "      <td>3.0</td>\n",
       "      <td>5.5</td>\n",
       "      <td>8.0</td>\n",
       "      <td>10.0</td>\n",
       "    </tr>\n",
       "    <tr>\n",
       "      <th>item</th>\n",
       "      <td>913000.0</td>\n",
       "      <td>25.500000</td>\n",
       "      <td>14.430878</td>\n",
       "      <td>1.0</td>\n",
       "      <td>13.0</td>\n",
       "      <td>25.5</td>\n",
       "      <td>38.0</td>\n",
       "      <td>50.0</td>\n",
       "    </tr>\n",
       "    <tr>\n",
       "      <th>sales</th>\n",
       "      <td>913000.0</td>\n",
       "      <td>52.250287</td>\n",
       "      <td>28.801144</td>\n",
       "      <td>0.0</td>\n",
       "      <td>30.0</td>\n",
       "      <td>47.0</td>\n",
       "      <td>70.0</td>\n",
       "      <td>231.0</td>\n",
       "    </tr>\n",
       "  </tbody>\n",
       "</table>\n",
       "</div>"
      ],
      "text/plain": [
       "          count       mean        std  min   25%   50%   75%    max\n",
       "store  913000.0   5.500000   2.872283  1.0   3.0   5.5   8.0   10.0\n",
       "item   913000.0  25.500000  14.430878  1.0  13.0  25.5  38.0   50.0\n",
       "sales  913000.0  52.250287  28.801144  0.0  30.0  47.0  70.0  231.0"
      ]
     },
     "execution_count": 7,
     "metadata": {},
     "output_type": "execute_result"
    }
   ],
   "source": [
    "#To view basic statistical details about dataset:\n",
    "\n",
    "df_s.describe().T"
   ]
  },
  {
   "cell_type": "markdown",
   "id": "6ca98940",
   "metadata": {
    "papermill": {
     "duration": 0.006239,
     "end_time": "2022-09-13T20:31:01.161239",
     "exception": false,
     "start_time": "2022-09-13T20:31:01.155000",
     "status": "completed"
    },
    "tags": []
   },
   "source": [
    " <div class=\"alert alert-block alert-danger\">\n",
    "    <p style=\"padding: 10px;\n",
    "              color:black;\">Sales seem to be unbalanced.\n",
    "    </p>\n",
    "  </div>"
   ]
  },
  {
   "cell_type": "code",
   "execution_count": 8,
   "id": "1f0143eb",
   "metadata": {
    "execution": {
     "iopub.execute_input": "2022-09-13T20:31:01.175867Z",
     "iopub.status.busy": "2022-09-13T20:31:01.175543Z",
     "iopub.status.idle": "2022-09-13T20:31:01.587654Z",
     "shell.execute_reply": "2022-09-13T20:31:01.586333Z"
    },
    "papermill": {
     "duration": 0.422027,
     "end_time": "2022-09-13T20:31:01.589758",
     "exception": false,
     "start_time": "2022-09-13T20:31:01.167731",
     "status": "completed"
    },
    "tags": []
   },
   "outputs": [
    {
     "data": {
      "text/plain": [
       "<AxesSubplot:>"
      ]
     },
     "execution_count": 8,
     "metadata": {},
     "output_type": "execute_result"
    },
    {
     "data": {
      "image/png": "[encoded data removed]",
      "text/plain": [
       "<Figure size 432x288 with 1 Axes>"
      ]
     },
     "metadata": {
      "needs_background": "light"
     },
     "output_type": "display_data"
    }
   ],
   "source": [
    "df_s['sales'].plot()"
   ]
  },
  {
   "cell_type": "markdown",
   "id": "d14a695a",
   "metadata": {
    "papermill": {
     "duration": 0.007111,
     "end_time": "2022-09-13T20:31:01.604048",
     "exception": false,
     "start_time": "2022-09-13T20:31:01.596937",
     "status": "completed"
    },
    "tags": []
   },
   "source": [
    "> Returns a dataframe where each row represents total sales for a given month. Columns include 'date' by month and 'sales'.\n",
    "    "
   ]
  },
  {
   "cell_type": "code",
   "execution_count": 9,
   "id": "0b5bc55a",
   "metadata": {
    "execution": {
     "iopub.execute_input": "2022-09-13T20:31:01.619568Z",
     "iopub.status.busy": "2022-09-13T20:31:01.619151Z",
     "iopub.status.idle": "2022-09-13T20:31:02.015623Z",
     "shell.execute_reply": "2022-09-13T20:31:02.015042Z"
    },
    "papermill": {
     "duration": 0.406973,
     "end_time": "2022-09-13T20:31:02.017848",
     "exception": false,
     "start_time": "2022-09-13T20:31:01.610875",
     "status": "completed"
    },
    "tags": []
   },
   "outputs": [
    {
     "data": {
      "text/html": [
       "<div>\n",
       "<style scoped>\n",
       "    .dataframe tbody tr th:only-of-type {\n",
       "        vertical-align: middle;\n",
       "    }\n",
       "\n",
       "    .dataframe tbody tr th {\n",
       "        vertical-align: top;\n",
       "    }\n",
       "\n",
       "    .dataframe thead th {\n",
       "        text-align: right;\n",
       "    }\n",
       "</style>\n",
       "<table border=\"1\" class=\"dataframe\">\n",
       "  <thead>\n",
       "    <tr style=\"text-align: right;\">\n",
       "      <th></th>\n",
       "      <th>date</th>\n",
       "      <th>sales</th>\n",
       "    </tr>\n",
       "  </thead>\n",
       "  <tbody>\n",
       "    <tr>\n",
       "      <th>0</th>\n",
       "      <td>2013-01-01</td>\n",
       "      <td>454904</td>\n",
       "    </tr>\n",
       "    <tr>\n",
       "      <th>1</th>\n",
       "      <td>2013-02-01</td>\n",
       "      <td>459417</td>\n",
       "    </tr>\n",
       "    <tr>\n",
       "      <th>2</th>\n",
       "      <td>2013-03-01</td>\n",
       "      <td>617382</td>\n",
       "    </tr>\n",
       "    <tr>\n",
       "      <th>3</th>\n",
       "      <td>2013-04-01</td>\n",
       "      <td>682274</td>\n",
       "    </tr>\n",
       "    <tr>\n",
       "      <th>4</th>\n",
       "      <td>2013-05-01</td>\n",
       "      <td>763242</td>\n",
       "    </tr>\n",
       "    <tr>\n",
       "      <th>5</th>\n",
       "      <td>2013-06-01</td>\n",
       "      <td>795597</td>\n",
       "    </tr>\n",
       "    <tr>\n",
       "      <th>6</th>\n",
       "      <td>2013-07-01</td>\n",
       "      <td>855922</td>\n",
       "    </tr>\n",
       "    <tr>\n",
       "      <th>7</th>\n",
       "      <td>2013-08-01</td>\n",
       "      <td>766761</td>\n",
       "    </tr>\n",
       "    <tr>\n",
       "      <th>8</th>\n",
       "      <td>2013-09-01</td>\n",
       "      <td>689907</td>\n",
       "    </tr>\n",
       "    <tr>\n",
       "      <th>9</th>\n",
       "      <td>2013-10-01</td>\n",
       "      <td>656587</td>\n",
       "    </tr>\n",
       "  </tbody>\n",
       "</table>\n",
       "</div>"
      ],
      "text/plain": [
       "        date   sales\n",
       "0 2013-01-01  454904\n",
       "1 2013-02-01  459417\n",
       "2 2013-03-01  617382\n",
       "3 2013-04-01  682274\n",
       "4 2013-05-01  763242\n",
       "5 2013-06-01  795597\n",
       "6 2013-07-01  855922\n",
       "7 2013-08-01  766761\n",
       "8 2013-09-01  689907\n",
       "9 2013-10-01  656587"
      ]
     },
     "execution_count": 9,
     "metadata": {},
     "output_type": "execute_result"
    }
   ],
   "source": [
    "def monthly_sales(data):\n",
    "    m_data = data.copy()\n",
    "    \n",
    "    # Drop the day indicator from the date column:\n",
    "    m_data.date = m_data.date.apply(lambda x: str(x)[:-3])\n",
    "   \n",
    "    # Sum sales per month: \n",
    "    m_data = m_data.groupby('date')['sales'].sum().reset_index()\n",
    "    m_data.date = pd.to_datetime(m_data.date)\n",
    "    \n",
    "    filepath = Path('../data/monthly_data.csv')  \n",
    "    filepath.parent.mkdir(parents=True, exist_ok=True)  \n",
    "    m_data.to_csv('../data/monthly_data.csv')\n",
    "    \n",
    "    return m_data\n",
    "\n",
    "m_df = monthly_sales(df_s)\n",
    "m_df.head(10)"
   ]
  },
  {
   "cell_type": "markdown",
   "id": "24f96b58",
   "metadata": {
    "papermill": {
     "duration": 0.006327,
     "end_time": "2022-09-13T20:31:02.031231",
     "exception": false,
     "start_time": "2022-09-13T20:31:02.024904",
     "status": "completed"
    },
    "tags": []
   },
   "source": [
    "> In our new data frame, each row now represents the total sales for a given month across stores."
   ]
  },
  {
   "cell_type": "code",
   "execution_count": 10,
   "id": "27e98d47",
   "metadata": {
    "execution": {
     "iopub.execute_input": "2022-09-13T20:31:02.046259Z",
     "iopub.status.busy": "2022-09-13T20:31:02.045654Z",
     "iopub.status.idle": "2022-09-13T20:31:02.200225Z",
     "shell.execute_reply": "2022-09-13T20:31:02.199572Z"
    },
    "papermill": {
     "duration": 0.164298,
     "end_time": "2022-09-13T20:31:02.202094",
     "exception": false,
     "start_time": "2022-09-13T20:31:02.037796",
     "status": "completed"
    },
    "tags": []
   },
   "outputs": [
    {
     "data": {
      "image/png": "[encoded data removed]",
      "text/plain": [
       "<Figure size 432x288 with 1 Axes>"
      ]
     },
     "metadata": {
      "needs_background": "light"
     },
     "output_type": "display_data"
    }
   ],
   "source": [
    "m_df['sales'].plot(marker = 'o',color = 'darkorange')\n",
    "plt.xlabel(\"Month\")\n",
    "\n",
    "sns.despine()"
   ]
  },
  {
   "cell_type": "markdown",
   "id": "589e1564",
   "metadata": {
    "papermill": {
     "duration": 0.007117,
     "end_time": "2022-09-13T20:31:02.217835",
     "exception": false,
     "start_time": "2022-09-13T20:31:02.210718",
     "status": "completed"
    },
    "tags": []
   },
   "source": [
    "<div class=\"alert alert-block alert-danger\">\n",
    "    <p style=\"padding: 10px;\n",
    "              color:black;\">If we plot the total monthly sales over time, we see that the average monthly sales increase over time, so our data is not stationary.\n",
    "    </p>\n",
    "</div>"
   ]
  },
  {
   "cell_type": "markdown",
   "id": "c3c831bc",
   "metadata": {
    "papermill": {
     "duration": 0.007092,
     "end_time": "2022-09-13T20:31:02.232329",
     "exception": false,
     "start_time": "2022-09-13T20:31:02.225237",
     "status": "completed"
    },
    "tags": []
   },
   "source": [
    "[🦎 TREND AND SEASONALITY](https://www.amazon.com/Hands-Machine-Learning-Scikit-Learn-TensorFlow/dp/1492032646)\n",
    "> There are many other models to forecast time series, such as weighted\n",
    "moving average models or autoregressive integrated moving average\n",
    "(ARIMA) models. Some of them require you to first remove the trend\n",
    "and seasonality. For example, if you are studying the number of active\n",
    "users on your website, and it is growing by 10% every month, you\n",
    "would have to remove this trend from the time series. Once the model\n",
    "is trained and starts making predictions, you would have to add the\n",
    "trend back to get the final predictions. Similarly, if you are trying to\n",
    "predict the amount of sunscreen lotion sold every month, you will\n",
    "probably observe strong seasonality: since it sells well every summer,\n",
    "a similar pattern will be repeated every year. You would have to\n",
    "remove this seasonality from the time series, for example by\n",
    "computing the difference between the value at each time step and the\n",
    "value one year earlier (this technique is called differencing). Again,\n",
    "after the model is trained and makes predictions, you would have to\n",
    "add the seasonal pattern back to get the final predictions.\n"
   ]
  },
  {
   "cell_type": "markdown",
   "id": "12aaf737",
   "metadata": {
    "papermill": {
     "duration": 0.007042,
     "end_time": "2022-09-13T20:31:02.246622",
     "exception": false,
     "start_time": "2022-09-13T20:31:02.239580",
     "status": "completed"
    },
    "tags": []
   },
   "source": [
    "# **Data Exploration (EDA)**"
   ]
  },
  {
   "cell_type": "markdown",
   "id": "7712c302",
   "metadata": {
    "papermill": {
     "duration": 0.007021,
     "end_time": "2022-09-13T20:31:02.261176",
     "exception": false,
     "start_time": "2022-09-13T20:31:02.254155",
     "status": "completed"
    },
    "tags": []
   },
   "source": [
    "> To make it stationary, we will calculate the difference between the sales of each month and add it to our data frame as a new column.\n",
    "> Further details of the stationary and differences are available [here.](https://www.analyticsvidhya.com/blog/2016/02/time-series-forecasting-codes-python/) But first let's take a closer look at the data set you work with by learning more about the data."
   ]
  },
  {
   "cell_type": "code",
   "execution_count": 11,
   "id": "5b11afe0",
   "metadata": {
    "execution": {
     "iopub.execute_input": "2022-09-13T20:31:02.278270Z",
     "iopub.status.busy": "2022-09-13T20:31:02.277276Z",
     "iopub.status.idle": "2022-09-13T20:31:02.404274Z",
     "shell.execute_reply": "2022-09-13T20:31:02.402719Z"
    },
    "papermill": {
     "duration": 0.139095,
     "end_time": "2022-09-13T20:31:02.407583",
     "exception": false,
     "start_time": "2022-09-13T20:31:02.268488",
     "status": "completed"
    },
    "tags": []
   },
   "outputs": [
    {
     "name": "stdout",
     "output_type": "stream",
     "text": [
      "Days: 1825\n",
      "Years: 5\n",
      "Month: 60\n"
     ]
    }
   ],
   "source": [
    "# Time interval of dataset:\n",
    "def sales_time(data):\n",
    "    data.date = pd.to_datetime(data.date)\n",
    "    n_of_days = data.date.max() - data.date.min()\n",
    "    n_of_years = int(n_of_days.days / 365)\n",
    "    \n",
    "    print('Days:', n_of_days.days)\n",
    "    print('Years:', n_of_years)\n",
    "    print('Month:', 12*n_of_years)\n",
    "    \n",
    "    \n",
    "sales_time(df_s)\n"
   ]
  },
  {
   "cell_type": "markdown",
   "id": "bdbbd512",
   "metadata": {
    "papermill": {
     "duration": 0.007483,
     "end_time": "2022-09-13T20:31:02.423162",
     "exception": false,
     "start_time": "2022-09-13T20:31:02.415679",
     "status": "completed"
    },
    "tags": []
   },
   "source": [
    "**Sales Data Per Store**"
   ]
  },
  {
   "cell_type": "code",
   "execution_count": 12,
   "id": "687f6bdd",
   "metadata": {
    "execution": {
     "iopub.execute_input": "2022-09-13T20:31:02.439682Z",
     "iopub.status.busy": "2022-09-13T20:31:02.439355Z",
     "iopub.status.idle": "2022-09-13T20:31:02.653618Z",
     "shell.execute_reply": "2022-09-13T20:31:02.652643Z"
    },
    "papermill": {
     "duration": 0.225172,
     "end_time": "2022-09-13T20:31:02.655738",
     "exception": false,
     "start_time": "2022-09-13T20:31:02.430566",
     "status": "completed"
    },
    "tags": []
   },
   "outputs": [
    {
     "name": "stderr",
     "output_type": "stream",
     "text": [
      "/opt/conda/lib/python3.7/site-packages/seaborn/_decorators.py:43: FutureWarning: Pass the following variables as keyword args: x, y. From version 0.12, the only valid positional argument will be `data`, and passing other arguments without an explicit keyword will result in an error or misinterpretation.\n",
      "  FutureWarning\n"
     ]
    },
    {
     "data": {
      "text/html": [
       "<div>\n",
       "<style scoped>\n",
       "    .dataframe tbody tr th:only-of-type {\n",
       "        vertical-align: middle;\n",
       "    }\n",
       "\n",
       "    .dataframe tbody tr th {\n",
       "        vertical-align: top;\n",
       "    }\n",
       "\n",
       "    .dataframe thead th {\n",
       "        text-align: right;\n",
       "    }\n",
       "</style>\n",
       "<table border=\"1\" class=\"dataframe\">\n",
       "  <thead>\n",
       "    <tr style=\"text-align: right;\">\n",
       "      <th></th>\n",
       "      <th>store</th>\n",
       "      <th>sales</th>\n",
       "    </tr>\n",
       "  </thead>\n",
       "  <tbody>\n",
       "    <tr>\n",
       "      <th>0</th>\n",
       "      <td>1</td>\n",
       "      <td>4315603</td>\n",
       "    </tr>\n",
       "    <tr>\n",
       "      <th>1</th>\n",
       "      <td>2</td>\n",
       "      <td>6120128</td>\n",
       "    </tr>\n",
       "    <tr>\n",
       "      <th>2</th>\n",
       "      <td>3</td>\n",
       "      <td>5435144</td>\n",
       "    </tr>\n",
       "    <tr>\n",
       "      <th>3</th>\n",
       "      <td>4</td>\n",
       "      <td>5012639</td>\n",
       "    </tr>\n",
       "    <tr>\n",
       "      <th>4</th>\n",
       "      <td>5</td>\n",
       "      <td>3631016</td>\n",
       "    </tr>\n",
       "    <tr>\n",
       "      <th>5</th>\n",
       "      <td>6</td>\n",
       "      <td>3627670</td>\n",
       "    </tr>\n",
       "    <tr>\n",
       "      <th>6</th>\n",
       "      <td>7</td>\n",
       "      <td>3320009</td>\n",
       "    </tr>\n",
       "    <tr>\n",
       "      <th>7</th>\n",
       "      <td>8</td>\n",
       "      <td>5856169</td>\n",
       "    </tr>\n",
       "    <tr>\n",
       "      <th>8</th>\n",
       "      <td>9</td>\n",
       "      <td>5025976</td>\n",
       "    </tr>\n",
       "    <tr>\n",
       "      <th>9</th>\n",
       "      <td>10</td>\n",
       "      <td>5360158</td>\n",
       "    </tr>\n",
       "  </tbody>\n",
       "</table>\n",
       "</div>"
      ],
      "text/plain": [
       "   store    sales\n",
       "0      1  4315603\n",
       "1      2  6120128\n",
       "2      3  5435144\n",
       "3      4  5012639\n",
       "4      5  3631016\n",
       "5      6  3627670\n",
       "6      7  3320009\n",
       "7      8  5856169\n",
       "8      9  5025976\n",
       "9     10  5360158"
      ]
     },
     "execution_count": 12,
     "metadata": {},
     "output_type": "execute_result"
    },
    {
     "data": {
      "image/png": "[encoded data removed]",
      "text/plain": [
       "<Figure size 576x432 with 1 Axes>"
      ]
     },
     "metadata": {
      "needs_background": "light"
     },
     "output_type": "display_data"
    }
   ],
   "source": [
    "# Let's sell it per store:\n",
    "def sales_per_store(data):\n",
    "    sales_by_store = data.groupby('store')['sales'].sum().reset_index()\n",
    "    \n",
    "    fig, ax = plt.subplots(figsize=(8,6))\n",
    "    sns.barplot(sales_by_store.store, sales_by_store.sales, color='darkred')\n",
    "    \n",
    "    ax.set(xlabel = \"Store Id\", ylabel = \"Sum of Sales\", title = \"Total Sales Per Store\")\n",
    "    \n",
    "    sns.despine() \n",
    "    return sales_by_store\n",
    "    \n",
    "sales_per_store(df_s)"
   ]
  },
  {
   "cell_type": "markdown",
   "id": "92bd5053",
   "metadata": {
    "papermill": {
     "duration": 0.007322,
     "end_time": "2022-09-13T20:31:02.670817",
     "exception": false,
     "start_time": "2022-09-13T20:31:02.663495",
     "status": "completed"
    },
    "tags": []
   },
   "source": [
    "**Mean Monthly Sales**"
   ]
  },
  {
   "cell_type": "code",
   "execution_count": 13,
   "id": "d95e7887",
   "metadata": {
    "execution": {
     "iopub.execute_input": "2022-09-13T20:31:02.687885Z",
     "iopub.status.busy": "2022-09-13T20:31:02.687315Z",
     "iopub.status.idle": "2022-09-13T20:31:02.694534Z",
     "shell.execute_reply": "2022-09-13T20:31:02.692453Z"
    },
    "papermill": {
     "duration": 0.018392,
     "end_time": "2022-09-13T20:31:02.696818",
     "exception": false,
     "start_time": "2022-09-13T20:31:02.678426",
     "status": "completed"
    },
    "tags": []
   },
   "outputs": [
    {
     "name": "stdout",
     "output_type": "stream",
     "text": [
      "Overall Avarage Monthly Sales: $795075.2\n",
      "Last 12 months average monthly sales: $894478.3333333334\n"
     ]
    }
   ],
   "source": [
    "# Overall for 5 years:\n",
    "\n",
    "average_m_sales = m_df.sales.mean()\n",
    "print(f\"Overall Avarage Monthly Sales: ${average_m_sales}\")\n",
    "\n",
    "#Last 1 years (this will be the forecasted sales):\n",
    "\n",
    "average_m_sales_1y = m_df.sales[-12:].mean()\n",
    "print(f\"Last 12 months average monthly sales: ${average_m_sales_1y}\")\n",
    "\n"
   ]
  },
  {
   "cell_type": "markdown",
   "id": "ccd51cad",
   "metadata": {
    "papermill": {
     "duration": 0.007876,
     "end_time": "2022-09-13T20:31:02.712737",
     "exception": false,
     "start_time": "2022-09-13T20:31:02.704861",
     "status": "completed"
    },
    "tags": []
   },
   "source": [
    "# **Determining Time Series Stationary**"
   ]
  },
  {
   "cell_type": "code",
   "execution_count": 14,
   "id": "a6521d6f",
   "metadata": {
    "execution": {
     "iopub.execute_input": "2022-09-13T20:31:02.730823Z",
     "iopub.status.busy": "2022-09-13T20:31:02.730493Z",
     "iopub.status.idle": "2022-09-13T20:31:03.009730Z",
     "shell.execute_reply": "2022-09-13T20:31:03.008831Z"
    },
    "papermill": {
     "duration": 0.291268,
     "end_time": "2022-09-13T20:31:03.011910",
     "exception": false,
     "start_time": "2022-09-13T20:31:02.720642",
     "status": "completed"
    },
    "tags": []
   },
   "outputs": [
    {
     "name": "stderr",
     "output_type": "stream",
     "text": [
      "/opt/conda/lib/python3.7/site-packages/seaborn/_decorators.py:43: FutureWarning: Pass the following variables as keyword args: x, y. From version 0.12, the only valid positional argument will be `data`, and passing other arguments without an explicit keyword will result in an error or misinterpretation.\n",
      "  FutureWarning\n",
      "/opt/conda/lib/python3.7/site-packages/seaborn/_decorators.py:43: FutureWarning: Pass the following variables as keyword args: x, y. From version 0.12, the only valid positional argument will be `data`, and passing other arguments without an explicit keyword will result in an error or misinterpretation.\n",
      "  FutureWarning\n"
     ]
    },
    {
     "data": {
      "image/png": "[encoded data removed]",
      "text/plain": [
       "<Figure size 1080x576 with 1 Axes>"
      ]
     },
     "metadata": {
      "needs_background": "light"
     },
     "output_type": "display_data"
    }
   ],
   "source": [
    "def time_plot(data, x_col, y_col, title):\n",
    "    fig, ax = plt.subplots(figsize = (15,8))\n",
    "    sns.lineplot(x_col, y_col, data = data, ax = ax, color = 'darkblue', label='Total Sales')\n",
    "    \n",
    "    s_mean = data.groupby(data.date.dt.year)[y_col].mean().reset_index()\n",
    "    s_mean.date = pd.to_datetime(s_mean.date, format='%Y')\n",
    "    sns.lineplot((s_mean.date + datetime.timedelta(6*365/12)), y_col, data=s_mean, ax=ax, color='red', label='Mean Sales')   \n",
    "    \n",
    "    ax.set(xlabel = \"Years\",\n",
    "           ylabel = \"Sales\",\n",
    "           title = title)\n",
    "    \n",
    "    sns.despine()\n",
    "    \n",
    "\n",
    "time_plot(m_df, 'date', 'sales', 'Monthly Sales Before Diff Transformation' )"
   ]
  },
  {
   "cell_type": "markdown",
   "id": "dde8dd25",
   "metadata": {
    "papermill": {
     "duration": 0.008538,
     "end_time": "2022-09-13T20:31:03.029698",
     "exception": false,
     "start_time": "2022-09-13T20:31:03.021160",
     "status": "completed"
    },
    "tags": []
   },
   "source": [
    "**Differencing**\n",
    "\n",
    "> In this method, we compute the difference of consecutive terms in the series. Differencing is typically performed to get rid of the varying mean. "
   ]
  },
  {
   "cell_type": "code",
   "execution_count": 15,
   "id": "b8bafa7c",
   "metadata": {
    "execution": {
     "iopub.execute_input": "2022-09-13T20:31:03.048652Z",
     "iopub.status.busy": "2022-09-13T20:31:03.048310Z",
     "iopub.status.idle": "2022-09-13T20:31:03.326813Z",
     "shell.execute_reply": "2022-09-13T20:31:03.325250Z"
    },
    "papermill": {
     "duration": 0.29013,
     "end_time": "2022-09-13T20:31:03.328632",
     "exception": false,
     "start_time": "2022-09-13T20:31:03.038502",
     "status": "completed"
    },
    "tags": []
   },
   "outputs": [
    {
     "name": "stderr",
     "output_type": "stream",
     "text": [
      "/opt/conda/lib/python3.7/site-packages/seaborn/_decorators.py:43: FutureWarning: Pass the following variables as keyword args: x, y. From version 0.12, the only valid positional argument will be `data`, and passing other arguments without an explicit keyword will result in an error or misinterpretation.\n",
      "  FutureWarning\n",
      "/opt/conda/lib/python3.7/site-packages/seaborn/_decorators.py:43: FutureWarning: Pass the following variables as keyword args: x, y. From version 0.12, the only valid positional argument will be `data`, and passing other arguments without an explicit keyword will result in an error or misinterpretation.\n",
      "  FutureWarning\n"
     ]
    },
    {
     "data": {
      "image/png": "[encoded data removed]",
      "text/plain": [
       "<Figure size 1080x576 with 1 Axes>"
      ]
     },
     "metadata": {
      "needs_background": "light"
     },
     "output_type": "display_data"
    }
   ],
   "source": [
    "# Calculate the difference in sales month over month:\n",
    "\n",
    "def get_diff(data):\n",
    "    data['sales_diff'] = data.sales.diff()\n",
    "    data = data.dropna()\n",
    "    \n",
    "    filepath = Path('../data/stationary_df.csv')  \n",
    "    filepath.parent.mkdir(parents=True, exist_ok=True)  \n",
    "    data.to_csv('../data/stationary_df.csv')\n",
    "    \n",
    "    return data\n",
    "\n",
    "stationary_df = get_diff(m_df)\n",
    "time_plot(stationary_df, 'date', 'sales_diff', 'Monthly Sales After Diff Transformation')\n"
   ]
  },
  {
   "cell_type": "markdown",
   "id": "6e85f1db",
   "metadata": {
    "papermill": {
     "duration": 0.009433,
     "end_time": "2022-09-13T20:31:03.347564",
     "exception": false,
     "start_time": "2022-09-13T20:31:03.338131",
     "status": "completed"
    },
    "tags": []
   },
   "source": [
    "<div class=\"alert alert-block alert-info\">\n",
    "    <p style=\"padding: 10px;\n",
    "              color:black;\">Now that our data represent monthly sales and we have transformed it to be stationary, we will set up the \n",
    "                            data for our different model types. <br>\n",
    "        To do this, we will \n",
    "                            define two different structures: \n",
    "        <br>\n",
    "            1. one will be used for ARIMA modeling,\n",
    "        <br>\n",
    "            2. the other will be used for the rest of the models.\n",
    "     </p>\n",
    "   </div>\n"
   ]
  }
 ],
 "metadata": {
  "kernelspec": {
   "display_name": "Python 3",
   "language": "python",
   "name": "python3"
  },
  "language_info": {
   "codemirror_mode": {
    "name": "ipython",
    "version": 3
   },
   "file_extension": ".py",
   "mimetype": "text/x-python",
   "name": "python",
   "nbconvert_exporter": "python",
   "pygments_lexer": "ipython3",
   "version": "3.7.12"
  },
  "papermill": {
   "default_parameters": {},
   "duration": 24.000383,
   "end_time": "2022-09-13T20:31:06.715243",
   "environment_variables": {},
   "exception": null,
   "input_path": "__notebook__.ipynb",
   "output_path": "__notebook__.ipynb",
   "parameters": {},
   "start_time": "2022-09-13T20:30:42.714860",
   "version": "2.3.4"
  }
 },
 "nbformat": 4,
 "nbformat_minor": 5
}
