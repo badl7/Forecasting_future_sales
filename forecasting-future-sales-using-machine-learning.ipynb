{
 "cells": [
  {
   "cell_type": "code",
   "execution_count": 1,
   "id": "9f884a88",
   "metadata": {
    "_cell_guid": "b1076dfc-b9ad-4769-8c92-a6c4dae69d19",
    "_uuid": "8f2839f25d086af736a60e9eeb907d3b93b6e0e5",
    "execution": {
     "iopub.execute_input": "2022-09-24T20:51:52.535378Z",
     "iopub.status.busy": "2022-09-24T20:51:52.533971Z",
     "iopub.status.idle": "2022-09-24T20:51:52.554694Z",
     "shell.execute_reply": "2022-09-24T20:51:52.553210Z"
    },
    "papermill": {
     "duration": 0.057089,
     "end_time": "2022-09-24T20:51:52.560992",
     "exception": false,
     "start_time": "2022-09-24T20:51:52.503903",
     "status": "completed"
    },
    "tags": []
   },
   "outputs": [
    {
     "name": "stdout",
     "output_type": "stream",
     "text": [
      "/kaggle/input/demand-forecasting-kernels-only/sample_submission.csv\n",
      "/kaggle/input/demand-forecasting-kernels-only/train.csv\n",
      "/kaggle/input/demand-forecasting-kernels-only/test.csv\n"
     ]
    }
   ],
   "source": [
    "# This Python 3 environment comes with many helpful analytics libraries installed\n",
    "# It is defined by the kaggle/python Docker image: https://github.com/kaggle/docker-python\n",
    "# For example, here's several helpful packages to load\n",
    "\n",
    "import numpy as np # linear algebra\n",
    "import pandas as pd # data processing, CSV file I/O (e.g. pd.read_csv)\n",
    "\n",
    "# Input data files are available in the read-only \"../input/\" directory\n",
    "# For example, running this (by clicking run or pressing Shift+Enter) will list all files under the input directory\n",
    "\n",
    "import os\n",
    "for dirname, _, filenames in os.walk('/kaggle/input'):\n",
    "    for filename in filenames:\n",
    "        print(os.path.join(dirname, filename))\n",
    "\n",
    "# You can write up to 20GB to the current directory (/kaggle/working/) that gets preserved as output when you create a version using \"Save & Run All\" \n",
    "# You can also write temporary files to /kaggle/temp/, but they won't be saved outside of the current session"
   ]
  },
  {
   "cell_type": "markdown",
   "id": "88550a08",
   "metadata": {
    "papermill": {
     "duration": 0.016812,
     "end_time": "2022-09-24T20:51:52.603014",
     "exception": false,
     "start_time": "2022-09-24T20:51:52.586202",
     "status": "completed"
    },
    "tags": []
   },
   "source": [
    "# Forecasting Future Sales Using Machine Learning\n",
    "\n",
    "Forecasting future sales of a product offers many advantages. Predicting future sales of a product helps a company manage the cost of manufacturing and marketing the product. In this notebook, I will try to you through the task of future sales prediction with machine learning using Python."
   ]
  },
  {
   "cell_type": "code",
   "execution_count": 2,
   "id": "fe3e59d4",
   "metadata": {
    "execution": {
     "iopub.execute_input": "2022-09-24T20:51:52.638770Z",
     "iopub.status.busy": "2022-09-24T20:51:52.637971Z",
     "iopub.status.idle": "2022-09-24T20:52:00.718403Z",
     "shell.execute_reply": "2022-09-24T20:52:00.716950Z"
    },
    "papermill": {
     "duration": 8.101555,
     "end_time": "2022-09-24T20:52:00.721297",
     "exception": false,
     "start_time": "2022-09-24T20:51:52.619742",
     "status": "completed"
    },
    "tags": []
   },
   "outputs": [],
   "source": [
    "# EDA Libraries:\n",
    "\n",
    "import pandas as pd\n",
    "import numpy as np\n",
    "\n",
    "import matplotlib.colors as col\n",
    "from mpl_toolkits.mplot3d import Axes3D\n",
    "import matplotlib.pyplot as plt\n",
    "import seaborn as sns\n",
    "%matplotlib inline\n",
    "\n",
    "import datetime\n",
    "from pathlib import Path  \n",
    "import random\n",
    "\n",
    "# Scikit-Learn models:\n",
    "\n",
    "from sklearn.preprocessing import MinMaxScaler\n",
    "from sklearn.linear_model import LinearRegression\n",
    "from sklearn.metrics import mean_squared_error, mean_absolute_error, r2_score\n",
    "from sklearn.ensemble import RandomForestRegressor\n",
    "from xgboost.sklearn import XGBRegressor\n",
    "from sklearn.model_selection import KFold, cross_val_score, train_test_split\n",
    "\n",
    "# LSTM:\n",
    "\n",
    "import keras\n",
    "from keras.layers import Dense\n",
    "from keras.models import Sequential\n",
    "from keras.callbacks import EarlyStopping\n",
    "from keras.utils import np_utils\n",
    "from keras.layers import LSTM\n",
    "\n",
    "\n",
    "# ARIMA Model:\n",
    "\n",
    "import statsmodels.tsa.api as smt\n",
    "import statsmodels.api as sm\n",
    "from statsmodels.tools.eval_measures import rmse\n",
    "\n",
    "\n",
    "import pickle\n",
    "\n"
   ]
  },
  {
   "cell_type": "markdown",
   "id": "8eb8bc9e",
   "metadata": {
    "papermill": {
     "duration": 0.016382,
     "end_time": "2022-09-24T20:52:00.754783",
     "exception": false,
     "start_time": "2022-09-24T20:52:00.738401",
     "status": "completed"
    },
    "tags": []
   },
   "source": [
    "## **Loading Dataset & Data Exploration (EDA)** "
   ]
  },
  {
   "cell_type": "markdown",
   "id": "fc08b283",
   "metadata": {
    "papermill": {
     "duration": 0.016047,
     "end_time": "2022-09-24T20:52:00.787093",
     "exception": false,
     "start_time": "2022-09-24T20:52:00.771046",
     "status": "completed"
    },
    "tags": []
   },
   "source": [
    "   The first step is to load the data and transform it into a structure that we will then use for each of our models. In its raw form, each row of data represents a single day of sales at one of ten stores. Our goal is to predict monthly sales, so we will first consolidate all stores and days into total monthly sales."
   ]
  },
  {
   "cell_type": "code",
   "execution_count": 3,
   "id": "207cc3e4",
   "metadata": {
    "execution": {
     "iopub.execute_input": "2022-09-24T20:52:00.822018Z",
     "iopub.status.busy": "2022-09-24T20:52:00.821269Z",
     "iopub.status.idle": "2022-09-24T20:52:00.873234Z",
     "shell.execute_reply": "2022-09-24T20:52:00.871873Z"
    },
    "papermill": {
     "duration": 0.072413,
     "end_time": "2022-09-24T20:52:00.875914",
     "exception": false,
     "start_time": "2022-09-24T20:52:00.803501",
     "status": "completed"
    },
    "tags": []
   },
   "outputs": [
    {
     "data": {
      "text/html": [
       "<div>\n",
       "<style scoped>\n",
       "    .dataframe tbody tr th:only-of-type {\n",
       "        vertical-align: middle;\n",
       "    }\n",
       "\n",
       "    .dataframe tbody tr th {\n",
       "        vertical-align: top;\n",
       "    }\n",
       "\n",
       "    .dataframe thead th {\n",
       "        text-align: right;\n",
       "    }\n",
       "</style>\n",
       "<table border=\"1\" class=\"dataframe\">\n",
       "  <thead>\n",
       "    <tr style=\"text-align: right;\">\n",
       "      <th></th>\n",
       "      <th>id</th>\n",
       "      <th>sales</th>\n",
       "    </tr>\n",
       "  </thead>\n",
       "  <tbody>\n",
       "    <tr>\n",
       "      <th>0</th>\n",
       "      <td>0</td>\n",
       "      <td>52</td>\n",
       "    </tr>\n",
       "    <tr>\n",
       "      <th>1</th>\n",
       "      <td>1</td>\n",
       "      <td>52</td>\n",
       "    </tr>\n",
       "    <tr>\n",
       "      <th>2</th>\n",
       "      <td>2</td>\n",
       "      <td>52</td>\n",
       "    </tr>\n",
       "    <tr>\n",
       "      <th>3</th>\n",
       "      <td>3</td>\n",
       "      <td>52</td>\n",
       "    </tr>\n",
       "    <tr>\n",
       "      <th>4</th>\n",
       "      <td>4</td>\n",
       "      <td>52</td>\n",
       "    </tr>\n",
       "  </tbody>\n",
       "</table>\n",
       "</div>"
      ],
      "text/plain": [
       "   id  sales\n",
       "0   0     52\n",
       "1   1     52\n",
       "2   2     52\n",
       "3   3     52\n",
       "4   4     52"
      ]
     },
     "execution_count": 3,
     "metadata": {},
     "output_type": "execute_result"
    }
   ],
   "source": [
    "dataset = pd.read_csv('../input/demand-forecasting-kernels-only/sample_submission.csv')\n",
    "df = dataset.copy()\n",
    "df.head()"
   ]
  },
  {
   "cell_type": "code",
   "execution_count": 4,
   "id": "ce5241ca",
   "metadata": {
    "execution": {
     "iopub.execute_input": "2022-09-24T20:52:00.912422Z",
     "iopub.status.busy": "2022-09-24T20:52:00.911995Z",
     "iopub.status.idle": "2022-09-24T20:52:00.918168Z",
     "shell.execute_reply": "2022-09-24T20:52:00.916840Z"
    },
    "papermill": {
     "duration": 0.027286,
     "end_time": "2022-09-24T20:52:00.920533",
     "exception": false,
     "start_time": "2022-09-24T20:52:00.893247",
     "status": "completed"
    },
    "tags": []
   },
   "outputs": [],
   "source": [
    "def load_data(file_name):\n",
    "    \"\"\"Returns a pandas dataframe from a csv file.\"\"\"\n",
    "    return pd.read_csv(file_name)"
   ]
  },
  {
   "cell_type": "code",
   "execution_count": 5,
   "id": "2fd7b8a2",
   "metadata": {
    "execution": {
     "iopub.execute_input": "2022-09-24T20:52:00.957039Z",
     "iopub.status.busy": "2022-09-24T20:52:00.956566Z",
     "iopub.status.idle": "2022-09-24T20:52:01.665326Z",
     "shell.execute_reply": "2022-09-24T20:52:01.663704Z"
    },
    "papermill": {
     "duration": 0.730545,
     "end_time": "2022-09-24T20:52:01.668992",
     "exception": false,
     "start_time": "2022-09-24T20:52:00.938447",
     "status": "completed"
    },
    "tags": []
   },
   "outputs": [
    {
     "name": "stdout",
     "output_type": "stream",
     "text": [
      "<class 'pandas.core.frame.DataFrame'>\n",
      "RangeIndex: 913000 entries, 0 to 912999\n",
      "Data columns (total 4 columns):\n",
      " #   Column  Non-Null Count   Dtype \n",
      "---  ------  --------------   ----- \n",
      " 0   date    913000 non-null  object\n",
      " 1   store   913000 non-null  int64 \n",
      " 2   item    913000 non-null  int64 \n",
      " 3   sales   913000 non-null  int64 \n",
      "dtypes: int64(3), object(1)\n",
      "memory usage: 27.9+ MB\n"
     ]
    }
   ],
   "source": [
    "sales_data = load_data('../input/demand-forecasting-kernels-only/train.csv')\n",
    "df_s = sales_data.copy()\n",
    "df_s.info()"
   ]
  },
  {
   "cell_type": "code",
   "execution_count": 6,
   "id": "53df792e",
   "metadata": {
    "execution": {
     "iopub.execute_input": "2022-09-24T20:52:01.706600Z",
     "iopub.status.busy": "2022-09-24T20:52:01.706164Z",
     "iopub.status.idle": "2022-09-24T20:52:01.718640Z",
     "shell.execute_reply": "2022-09-24T20:52:01.717515Z"
    },
    "papermill": {
     "duration": 0.03388,
     "end_time": "2022-09-24T20:52:01.721216",
     "exception": false,
     "start_time": "2022-09-24T20:52:01.687336",
     "status": "completed"
    },
    "tags": []
   },
   "outputs": [
    {
     "data": {
      "text/html": [
       "<div>\n",
       "<style scoped>\n",
       "    .dataframe tbody tr th:only-of-type {\n",
       "        vertical-align: middle;\n",
       "    }\n",
       "\n",
       "    .dataframe tbody tr th {\n",
       "        vertical-align: top;\n",
       "    }\n",
       "\n",
       "    .dataframe thead th {\n",
       "        text-align: right;\n",
       "    }\n",
       "</style>\n",
       "<table border=\"1\" class=\"dataframe\">\n",
       "  <thead>\n",
       "    <tr style=\"text-align: right;\">\n",
       "      <th></th>\n",
       "      <th>date</th>\n",
       "      <th>store</th>\n",
       "      <th>item</th>\n",
       "      <th>sales</th>\n",
       "    </tr>\n",
       "  </thead>\n",
       "  <tbody>\n",
       "    <tr>\n",
       "      <th>912995</th>\n",
       "      <td>2017-12-27</td>\n",
       "      <td>10</td>\n",
       "      <td>50</td>\n",
       "      <td>63</td>\n",
       "    </tr>\n",
       "    <tr>\n",
       "      <th>912996</th>\n",
       "      <td>2017-12-28</td>\n",
       "      <td>10</td>\n",
       "      <td>50</td>\n",
       "      <td>59</td>\n",
       "    </tr>\n",
       "    <tr>\n",
       "      <th>912997</th>\n",
       "      <td>2017-12-29</td>\n",
       "      <td>10</td>\n",
       "      <td>50</td>\n",
       "      <td>74</td>\n",
       "    </tr>\n",
       "    <tr>\n",
       "      <th>912998</th>\n",
       "      <td>2017-12-30</td>\n",
       "      <td>10</td>\n",
       "      <td>50</td>\n",
       "      <td>62</td>\n",
       "    </tr>\n",
       "    <tr>\n",
       "      <th>912999</th>\n",
       "      <td>2017-12-31</td>\n",
       "      <td>10</td>\n",
       "      <td>50</td>\n",
       "      <td>82</td>\n",
       "    </tr>\n",
       "  </tbody>\n",
       "</table>\n",
       "</div>"
      ],
      "text/plain": [
       "              date  store  item  sales\n",
       "912995  2017-12-27     10    50     63\n",
       "912996  2017-12-28     10    50     59\n",
       "912997  2017-12-29     10    50     74\n",
       "912998  2017-12-30     10    50     62\n",
       "912999  2017-12-31     10    50     82"
      ]
     },
     "execution_count": 6,
     "metadata": {},
     "output_type": "execute_result"
    }
   ],
   "source": [
    "df_s.tail()"
   ]
  },
  {
   "cell_type": "code",
   "execution_count": 7,
   "id": "2888e68e",
   "metadata": {
    "execution": {
     "iopub.execute_input": "2022-09-24T20:52:01.758359Z",
     "iopub.status.busy": "2022-09-24T20:52:01.757935Z",
     "iopub.status.idle": "2022-09-24T20:52:01.809099Z",
     "shell.execute_reply": "2022-09-24T20:52:01.807827Z"
    },
    "papermill": {
     "duration": 0.072352,
     "end_time": "2022-09-24T20:52:01.811505",
     "exception": false,
     "start_time": "2022-09-24T20:52:01.739153",
     "status": "completed"
    },
    "tags": []
   },
   "outputs": [
    {
     "data": {
      "text/plain": [
       "count    913000.000000\n",
       "mean         52.250287\n",
       "std          28.801144\n",
       "min           0.000000\n",
       "25%          30.000000\n",
       "50%          47.000000\n",
       "75%          70.000000\n",
       "max         231.000000\n",
       "Name: sales, dtype: float64"
      ]
     },
     "execution_count": 7,
     "metadata": {},
     "output_type": "execute_result"
    }
   ],
   "source": [
    "# To view basic statistical details about dataset:\n",
    "\n",
    "df_s['sales'].describe()"
   ]
  },
  {
   "cell_type": "markdown",
   "id": "2a3744ab",
   "metadata": {
    "papermill": {
     "duration": 0.0171,
     "end_time": "2022-09-24T20:52:01.846289",
     "exception": false,
     "start_time": "2022-09-24T20:52:01.829189",
     "status": "completed"
    },
    "tags": []
   },
   "source": [
    " <div class=\"alert alert-block alert-danger\" style =\"background-color : #e6ebef;\">\n",
    "    <h4 style=\"padding: 15px;\n",
    "              color:black;\"><strong>📌 Sales seem to be unbalanced!</strong>\n",
    "    </h4>\n",
    "  </div>"
   ]
  },
  {
   "cell_type": "code",
   "execution_count": 8,
   "id": "c09e5c44",
   "metadata": {
    "execution": {
     "iopub.execute_input": "2022-09-24T20:52:01.884436Z",
     "iopub.status.busy": "2022-09-24T20:52:01.883594Z",
     "iopub.status.idle": "2022-09-24T20:52:02.445570Z",
     "shell.execute_reply": "2022-09-24T20:52:02.444211Z"
    },
    "papermill": {
     "duration": 0.584007,
     "end_time": "2022-09-24T20:52:02.448176",
     "exception": false,
     "start_time": "2022-09-24T20:52:01.864169",
     "status": "completed"
    },
    "tags": []
   },
   "outputs": [
    {
     "data": {
      "text/plain": [
       "<AxesSubplot:>"
      ]
     },
     "execution_count": 8,
     "metadata": {},
     "output_type": "execute_result"
    },
    {
     "data": {
      "image/png": "[encoded data removed]",
      "text/plain": [
       "<Figure size 432x288 with 1 Axes>"
      ]
     },
     "metadata": {
      "needs_background": "light"
     },
     "output_type": "display_data"
    }
   ],
   "source": [
    "df_s['sales'].plot()\n"
   ]
  },
  {
   "cell_type": "markdown",
   "id": "b840b672",
   "metadata": {
    "papermill": {
     "duration": 0.017855,
     "end_time": "2022-09-24T20:52:02.484605",
     "exception": false,
     "start_time": "2022-09-24T20:52:02.466750",
     "status": "completed"
    },
    "tags": []
   },
   "source": [
    "> Returns a dataframe where each row represents total sales for a given month. Columns include 'date' by month and 'sales'.\n",
    "    "
   ]
  },
  {
   "cell_type": "code",
   "execution_count": 9,
   "id": "4bd78716",
   "metadata": {
    "execution": {
     "iopub.execute_input": "2022-09-24T20:52:02.525834Z",
     "iopub.status.busy": "2022-09-24T20:52:02.525362Z",
     "iopub.status.idle": "2022-09-24T20:52:02.532925Z",
     "shell.execute_reply": "2022-09-24T20:52:02.531952Z"
    },
    "papermill": {
     "duration": 0.029701,
     "end_time": "2022-09-24T20:52:02.535072",
     "exception": false,
     "start_time": "2022-09-24T20:52:02.505371",
     "status": "completed"
    },
    "tags": []
   },
   "outputs": [],
   "source": [
    "def monthlyORyears_sales(data,time=['monthly','years']):\n",
    "    data = data.copy()\n",
    "    if time == \"monthly\":\n",
    "        # Drop the day indicator from the date column:\n",
    "        data.date = data.date.apply(lambda x: str(x)[:-3])\n",
    "    else:\n",
    "        data.date = data.date.apply(lambda x: str(x)[:4])\n",
    "        \n",
    "   # Sum sales per month: \n",
    "    data = data.groupby('date')['sales'].sum().reset_index()\n",
    "    data.date = pd.to_datetime(data.date)\n",
    "        \n",
    "    return data\n",
    "    "
   ]
  },
  {
   "cell_type": "code",
   "execution_count": 10,
   "id": "cf1fa7bb",
   "metadata": {
    "execution": {
     "iopub.execute_input": "2022-09-24T20:52:02.572686Z",
     "iopub.status.busy": "2022-09-24T20:52:02.571599Z",
     "iopub.status.idle": "2022-09-24T20:52:03.129358Z",
     "shell.execute_reply": "2022-09-24T20:52:03.128078Z"
    },
    "papermill": {
     "duration": 0.579556,
     "end_time": "2022-09-24T20:52:03.132470",
     "exception": false,
     "start_time": "2022-09-24T20:52:02.552914",
     "status": "completed"
    },
    "tags": []
   },
   "outputs": [],
   "source": [
    "m_df = monthlyORyears_sales(df_s,\"monthly\")\n",
    "\n",
    "filepath = Path('./monthly_data.csv')  \n",
    "filepath.parent.mkdir(parents=True, exist_ok=True) \n",
    "m_df.to_csv('./monthly_data.csv')"
   ]
  },
  {
   "cell_type": "code",
   "execution_count": 11,
   "id": "dd938875",
   "metadata": {
    "execution": {
     "iopub.execute_input": "2022-09-24T20:52:03.171374Z",
     "iopub.status.busy": "2022-09-24T20:52:03.170204Z",
     "iopub.status.idle": "2022-09-24T20:52:03.181468Z",
     "shell.execute_reply": "2022-09-24T20:52:03.180617Z"
    },
    "papermill": {
     "duration": 0.032513,
     "end_time": "2022-09-24T20:52:03.183603",
     "exception": false,
     "start_time": "2022-09-24T20:52:03.151090",
     "status": "completed"
    },
    "tags": []
   },
   "outputs": [
    {
     "data": {
      "text/html": [
       "<div>\n",
       "<style scoped>\n",
       "    .dataframe tbody tr th:only-of-type {\n",
       "        vertical-align: middle;\n",
       "    }\n",
       "\n",
       "    .dataframe tbody tr th {\n",
       "        vertical-align: top;\n",
       "    }\n",
       "\n",
       "    .dataframe thead th {\n",
       "        text-align: right;\n",
       "    }\n",
       "</style>\n",
       "<table border=\"1\" class=\"dataframe\">\n",
       "  <thead>\n",
       "    <tr style=\"text-align: right;\">\n",
       "      <th></th>\n",
       "      <th>date</th>\n",
       "      <th>sales</th>\n",
       "    </tr>\n",
       "  </thead>\n",
       "  <tbody>\n",
       "    <tr>\n",
       "      <th>0</th>\n",
       "      <td>2013-01-01</td>\n",
       "      <td>454904</td>\n",
       "    </tr>\n",
       "    <tr>\n",
       "      <th>1</th>\n",
       "      <td>2013-02-01</td>\n",
       "      <td>459417</td>\n",
       "    </tr>\n",
       "    <tr>\n",
       "      <th>2</th>\n",
       "      <td>2013-03-01</td>\n",
       "      <td>617382</td>\n",
       "    </tr>\n",
       "    <tr>\n",
       "      <th>3</th>\n",
       "      <td>2013-04-01</td>\n",
       "      <td>682274</td>\n",
       "    </tr>\n",
       "    <tr>\n",
       "      <th>4</th>\n",
       "      <td>2013-05-01</td>\n",
       "      <td>763242</td>\n",
       "    </tr>\n",
       "    <tr>\n",
       "      <th>5</th>\n",
       "      <td>2013-06-01</td>\n",
       "      <td>795597</td>\n",
       "    </tr>\n",
       "    <tr>\n",
       "      <th>6</th>\n",
       "      <td>2013-07-01</td>\n",
       "      <td>855922</td>\n",
       "    </tr>\n",
       "    <tr>\n",
       "      <th>7</th>\n",
       "      <td>2013-08-01</td>\n",
       "      <td>766761</td>\n",
       "    </tr>\n",
       "    <tr>\n",
       "      <th>8</th>\n",
       "      <td>2013-09-01</td>\n",
       "      <td>689907</td>\n",
       "    </tr>\n",
       "    <tr>\n",
       "      <th>9</th>\n",
       "      <td>2013-10-01</td>\n",
       "      <td>656587</td>\n",
       "    </tr>\n",
       "  </tbody>\n",
       "</table>\n",
       "</div>"
      ],
      "text/plain": [
       "        date   sales\n",
       "0 2013-01-01  454904\n",
       "1 2013-02-01  459417\n",
       "2 2013-03-01  617382\n",
       "3 2013-04-01  682274\n",
       "4 2013-05-01  763242\n",
       "5 2013-06-01  795597\n",
       "6 2013-07-01  855922\n",
       "7 2013-08-01  766761\n",
       "8 2013-09-01  689907\n",
       "9 2013-10-01  656587"
      ]
     },
     "execution_count": 11,
     "metadata": {},
     "output_type": "execute_result"
    }
   ],
   "source": [
    "m_df.head(10)"
   ]
  },
  {
   "cell_type": "markdown",
   "id": "c976435c",
   "metadata": {
    "papermill": {
     "duration": 0.017833,
     "end_time": "2022-09-24T20:52:03.219558",
     "exception": false,
     "start_time": "2022-09-24T20:52:03.201725",
     "status": "completed"
    },
    "tags": []
   },
   "source": [
    "> In our new data frame, each row now represents the total sales for a given month across stores."
   ]
  },
  {
   "cell_type": "code",
   "execution_count": 12,
   "id": "17b8909c",
   "metadata": {
    "execution": {
     "iopub.execute_input": "2022-09-24T20:52:03.259685Z",
     "iopub.status.busy": "2022-09-24T20:52:03.258255Z",
     "iopub.status.idle": "2022-09-24T20:52:03.819127Z",
     "shell.execute_reply": "2022-09-24T20:52:03.817912Z"
    },
    "papermill": {
     "duration": 0.583141,
     "end_time": "2022-09-24T20:52:03.821674",
     "exception": false,
     "start_time": "2022-09-24T20:52:03.238533",
     "status": "completed"
    },
    "tags": []
   },
   "outputs": [
    {
     "data": {
      "text/html": [
       "<div>\n",
       "<style scoped>\n",
       "    .dataframe tbody tr th:only-of-type {\n",
       "        vertical-align: middle;\n",
       "    }\n",
       "\n",
       "    .dataframe tbody tr th {\n",
       "        vertical-align: top;\n",
       "    }\n",
       "\n",
       "    .dataframe thead th {\n",
       "        text-align: right;\n",
       "    }\n",
       "</style>\n",
       "<table border=\"1\" class=\"dataframe\">\n",
       "  <thead>\n",
       "    <tr style=\"text-align: right;\">\n",
       "      <th></th>\n",
       "      <th>date</th>\n",
       "      <th>sales</th>\n",
       "    </tr>\n",
       "  </thead>\n",
       "  <tbody>\n",
       "    <tr>\n",
       "      <th>0</th>\n",
       "      <td>2013-01-01</td>\n",
       "      <td>7941243</td>\n",
       "    </tr>\n",
       "    <tr>\n",
       "      <th>1</th>\n",
       "      <td>2014-01-01</td>\n",
       "      <td>9135482</td>\n",
       "    </tr>\n",
       "    <tr>\n",
       "      <th>2</th>\n",
       "      <td>2015-01-01</td>\n",
       "      <td>9536887</td>\n",
       "    </tr>\n",
       "    <tr>\n",
       "      <th>3</th>\n",
       "      <td>2016-01-01</td>\n",
       "      <td>10357160</td>\n",
       "    </tr>\n",
       "    <tr>\n",
       "      <th>4</th>\n",
       "      <td>2017-01-01</td>\n",
       "      <td>10733740</td>\n",
       "    </tr>\n",
       "  </tbody>\n",
       "</table>\n",
       "</div>"
      ],
      "text/plain": [
       "        date     sales\n",
       "0 2013-01-01   7941243\n",
       "1 2014-01-01   9135482\n",
       "2 2015-01-01   9536887\n",
       "3 2016-01-01  10357160\n",
       "4 2017-01-01  10733740"
      ]
     },
     "execution_count": 12,
     "metadata": {},
     "output_type": "execute_result"
    }
   ],
   "source": [
    "y_df = monthlyORyears_sales(df_s,\"years\")\n",
    "y_df"
   ]
  },
  {
   "cell_type": "code",
   "execution_count": 13,
   "id": "34085143",
   "metadata": {
    "execution": {
     "iopub.execute_input": "2022-09-24T20:52:03.861813Z",
     "iopub.status.busy": "2022-09-24T20:52:03.861375Z",
     "iopub.status.idle": "2022-09-24T20:52:04.339206Z",
     "shell.execute_reply": "2022-09-24T20:52:04.337719Z"
    },
    "papermill": {
     "duration": 0.501076,
     "end_time": "2022-09-24T20:52:04.341866",
     "exception": false,
     "start_time": "2022-09-24T20:52:03.840790",
     "status": "completed"
    },
    "tags": []
   },
   "outputs": [
    {
     "data": {
      "text/plain": [
       "<matplotlib.legend.Legend at 0x7f5374542b10>"
      ]
     },
     "execution_count": 13,
     "metadata": {},
     "output_type": "execute_result"
    },
    {
     "data": {
      "image/png": "[encoded data removed]",
      "text/plain": [
       "<Figure size 864x360 with 2 Axes>"
      ]
     },
     "metadata": {
      "needs_background": "light"
     },
     "output_type": "display_data"
    }
   ],
   "source": [
    "layout = (1, 2)\n",
    "\n",
    "raw = plt.subplot2grid(layout, (0 ,0))\n",
    "law = plt.subplot2grid(layout, (0 ,1))\n",
    "\n",
    "years = y_df['sales'].plot(kind = \"bar\",color = 'mediumblue', label=\"Sales\",ax=raw, figsize=(12,5))\n",
    "months = m_df['sales'].plot(marker = 'o',color = 'darkorange', label=\"Sales\", ax=law)\n",
    "\n",
    "years.set(xlabel = \"Years\",title = \"Distribution of Sales Per Year\")\n",
    "months.set(xlabel = \"Months\", title = \"Distribution of Sales Per Mounth\")\n",
    "\n",
    "sns.despine()\n",
    "plt.tight_layout()\n",
    "\n",
    "years.legend()\n",
    "months.legend()\n"
   ]
  },
  {
   "cell_type": "markdown",
   "id": "12dfe9d9",
   "metadata": {
    "papermill": {
     "duration": 0.019263,
     "end_time": "2022-09-24T20:52:04.381279",
     "exception": false,
     "start_time": "2022-09-24T20:52:04.362016",
     "status": "completed"
    },
    "tags": []
   },
   "source": [
    "<div class=\"alert alert-block alert-danger\" style =\"background-color : #e6ebef;\">\n",
    "    <p style=\"padding: 15px;\n",
    "              color:black;\">📌 If we plot the total monthly sales over time, we see that the average monthly sales increase over time, so our data is not stationary.\n",
    "    </p>\n",
    "</div>"
   ]
  },
  {
   "cell_type": "markdown",
   "id": "32fd1dee",
   "metadata": {
    "papermill": {
     "duration": 0.021145,
     "end_time": "2022-09-24T20:52:04.421267",
     "exception": false,
     "start_time": "2022-09-24T20:52:04.400122",
     "status": "completed"
    },
    "tags": []
   },
   "source": [
    "[🦎 TREND AND SEASONALITY](https://www.amazon.com/Hands-Machine-Learning-Scikit-Learn-TensorFlow/dp/1492032646)\n",
    "> There are many other models to forecast time series, such as weighted\n",
    "moving average models or autoregressive integrated moving average\n",
    "(ARIMA) models. Some of them require you to first remove the trend\n",
    "and seasonality. For example, if you are studying the number of active\n",
    "users on your website, and it is growing by 10% every month, you\n",
    "would have to remove this trend from the time series. Once the model\n",
    "is trained and starts making predictions, you would have to add the\n",
    "trend back to get the final predictions. Similarly, if you are trying to\n",
    "predict the amount of sunscreen lotion sold every month, you will\n",
    "probably observe strong seasonality: since it sells well every summer,\n",
    "a similar pattern will be repeated every year. You would have to\n",
    "remove this seasonality from the time series, for example by\n",
    "computing the difference between the value at each time step and the\n",
    "value one year earlier (this technique is called differencing). Again,\n",
    "after the model is trained and makes predictions, you would have to\n",
    "add the seasonal pattern back to get the final predictions.\n"
   ]
  },
  {
   "cell_type": "markdown",
   "id": "399f5554",
   "metadata": {
    "papermill": {
     "duration": 0.01866,
     "end_time": "2022-09-24T20:52:04.458954",
     "exception": false,
     "start_time": "2022-09-24T20:52:04.440294",
     "status": "completed"
    },
    "tags": []
   },
   "source": [
    "# **Data Exploration (EDA)**"
   ]
  },
  {
   "cell_type": "markdown",
   "id": "40419817",
   "metadata": {
    "papermill": {
     "duration": 0.022139,
     "end_time": "2022-09-24T20:52:04.500038",
     "exception": false,
     "start_time": "2022-09-24T20:52:04.477899",
     "status": "completed"
    },
    "tags": []
   },
   "source": [
    " To make it stationary, we will calculate the difference between the sales of each month and add it to our data frame as a new column.\n",
    "> Further details of the stationary and differences are available [here.](https://www.analyticsvidhya.com/blog/2016/02/time-series-forecasting-codes-python/) But first let's take a closer look at the data set you work with by learning more about the data."
   ]
  },
  {
   "cell_type": "code",
   "execution_count": 14,
   "id": "86d57a18",
   "metadata": {
    "execution": {
     "iopub.execute_input": "2022-09-24T20:52:04.540852Z",
     "iopub.status.busy": "2022-09-24T20:52:04.539985Z",
     "iopub.status.idle": "2022-09-24T20:52:04.546101Z",
     "shell.execute_reply": "2022-09-24T20:52:04.545156Z"
    },
    "papermill": {
     "duration": 0.028723,
     "end_time": "2022-09-24T20:52:04.548332",
     "exception": false,
     "start_time": "2022-09-24T20:52:04.519609",
     "status": "completed"
    },
    "tags": []
   },
   "outputs": [],
   "source": [
    "def sales_time(data):\n",
    "    \"\"\"Time interval of dataset:\"\"\"\n",
    "\n",
    "    data.date = pd.to_datetime(data.date)\n",
    "    n_of_days = data.date.max() - data.date.min()\n",
    "    n_of_years = int(n_of_days.days / 365)\n",
    "    \n",
    "    print(f\"Days: {n_of_days.days}\\nYears: {n_of_years}\\nMonth: {12 * n_of_years}\")\n"
   ]
  },
  {
   "cell_type": "code",
   "execution_count": 15,
   "id": "5062a6ad",
   "metadata": {
    "execution": {
     "iopub.execute_input": "2022-09-24T20:52:04.589839Z",
     "iopub.status.busy": "2022-09-24T20:52:04.589110Z",
     "iopub.status.idle": "2022-09-24T20:52:04.737878Z",
     "shell.execute_reply": "2022-09-24T20:52:04.736744Z"
    },
    "papermill": {
     "duration": 0.172419,
     "end_time": "2022-09-24T20:52:04.740776",
     "exception": false,
     "start_time": "2022-09-24T20:52:04.568357",
     "status": "completed"
    },
    "tags": []
   },
   "outputs": [
    {
     "name": "stdout",
     "output_type": "stream",
     "text": [
      "Days: 1825\n",
      "Years: 5\n",
      "Month: 60\n"
     ]
    }
   ],
   "source": [
    "sales_time(df_s)"
   ]
  },
  {
   "cell_type": "markdown",
   "id": "594ab6af",
   "metadata": {
    "papermill": {
     "duration": 0.018818,
     "end_time": "2022-09-24T20:52:04.779216",
     "exception": false,
     "start_time": "2022-09-24T20:52:04.760398",
     "status": "completed"
    },
    "tags": []
   },
   "source": [
    "**Sales Data Per Store**"
   ]
  },
  {
   "cell_type": "code",
   "execution_count": 16,
   "id": "5d06032b",
   "metadata": {
    "execution": {
     "iopub.execute_input": "2022-09-24T20:52:04.819466Z",
     "iopub.status.busy": "2022-09-24T20:52:04.819066Z",
     "iopub.status.idle": "2022-09-24T20:52:04.825975Z",
     "shell.execute_reply": "2022-09-24T20:52:04.824742Z"
    },
    "papermill": {
     "duration": 0.029672,
     "end_time": "2022-09-24T20:52:04.828164",
     "exception": false,
     "start_time": "2022-09-24T20:52:04.798492",
     "status": "completed"
    },
    "tags": []
   },
   "outputs": [],
   "source": [
    "# Let's sell it per store:\n",
    "\n",
    "def sales_per_store(data):\n",
    "    sales_by_store = data.groupby('store')['sales'].sum().reset_index()\n",
    "    \n",
    "    fig, ax = plt.subplots(figsize=(8,6))\n",
    "    sns.barplot(sales_by_store.store, sales_by_store.sales, color='darkred')\n",
    "    \n",
    "    ax.set(xlabel = \"Store Id\", ylabel = \"Sum of Sales\", title = \"Total Sales Per Store\")\n",
    "    \n",
    "    return sales_by_store\n",
    "    "
   ]
  },
  {
   "cell_type": "code",
   "execution_count": 17,
   "id": "2bc4a935",
   "metadata": {
    "execution": {
     "iopub.execute_input": "2022-09-24T20:52:04.867719Z",
     "iopub.status.busy": "2022-09-24T20:52:04.867288Z",
     "iopub.status.idle": "2022-09-24T20:52:05.138761Z",
     "shell.execute_reply": "2022-09-24T20:52:05.137412Z"
    },
    "papermill": {
     "duration": 0.294139,
     "end_time": "2022-09-24T20:52:05.141392",
     "exception": false,
     "start_time": "2022-09-24T20:52:04.847253",
     "status": "completed"
    },
    "tags": []
   },
   "outputs": [
    {
     "name": "stderr",
     "output_type": "stream",
     "text": [
      "/opt/conda/lib/python3.7/site-packages/seaborn/_decorators.py:43: FutureWarning: Pass the following variables as keyword args: x, y. From version 0.12, the only valid positional argument will be `data`, and passing other arguments without an explicit keyword will result in an error or misinterpretation.\n",
      "  FutureWarning\n"
     ]
    },
    {
     "data": {
      "text/html": [
       "<div>\n",
       "<style scoped>\n",
       "    .dataframe tbody tr th:only-of-type {\n",
       "        vertical-align: middle;\n",
       "    }\n",
       "\n",
       "    .dataframe tbody tr th {\n",
       "        vertical-align: top;\n",
       "    }\n",
       "\n",
       "    .dataframe thead th {\n",
       "        text-align: right;\n",
       "    }\n",
       "</style>\n",
       "<table border=\"1\" class=\"dataframe\">\n",
       "  <thead>\n",
       "    <tr style=\"text-align: right;\">\n",
       "      <th></th>\n",
       "      <th>store</th>\n",
       "      <th>sales</th>\n",
       "    </tr>\n",
       "  </thead>\n",
       "  <tbody>\n",
       "    <tr>\n",
       "      <th>0</th>\n",
       "      <td>1</td>\n",
       "      <td>4315603</td>\n",
       "    </tr>\n",
       "    <tr>\n",
       "      <th>1</th>\n",
       "      <td>2</td>\n",
       "      <td>6120128</td>\n",
       "    </tr>\n",
       "    <tr>\n",
       "      <th>2</th>\n",
       "      <td>3</td>\n",
       "      <td>5435144</td>\n",
       "    </tr>\n",
       "    <tr>\n",
       "      <th>3</th>\n",
       "      <td>4</td>\n",
       "      <td>5012639</td>\n",
       "    </tr>\n",
       "    <tr>\n",
       "      <th>4</th>\n",
       "      <td>5</td>\n",
       "      <td>3631016</td>\n",
       "    </tr>\n",
       "    <tr>\n",
       "      <th>5</th>\n",
       "      <td>6</td>\n",
       "      <td>3627670</td>\n",
       "    </tr>\n",
       "    <tr>\n",
       "      <th>6</th>\n",
       "      <td>7</td>\n",
       "      <td>3320009</td>\n",
       "    </tr>\n",
       "    <tr>\n",
       "      <th>7</th>\n",
       "      <td>8</td>\n",
       "      <td>5856169</td>\n",
       "    </tr>\n",
       "    <tr>\n",
       "      <th>8</th>\n",
       "      <td>9</td>\n",
       "      <td>5025976</td>\n",
       "    </tr>\n",
       "    <tr>\n",
       "      <th>9</th>\n",
       "      <td>10</td>\n",
       "      <td>5360158</td>\n",
       "    </tr>\n",
       "  </tbody>\n",
       "</table>\n",
       "</div>"
      ],
      "text/plain": [
       "   store    sales\n",
       "0      1  4315603\n",
       "1      2  6120128\n",
       "2      3  5435144\n",
       "3      4  5012639\n",
       "4      5  3631016\n",
       "5      6  3627670\n",
       "6      7  3320009\n",
       "7      8  5856169\n",
       "8      9  5025976\n",
       "9     10  5360158"
      ]
     },
     "execution_count": 17,
     "metadata": {},
     "output_type": "execute_result"
    },
    {
     "data": {
      "image/png": "[encoded data removed]",
      "text/plain": [
       "<Figure size 576x432 with 1 Axes>"
      ]
     },
     "metadata": {
      "needs_background": "light"
     },
     "output_type": "display_data"
    }
   ],
   "source": [
    "sales_per_store(df_s)"
   ]
  },
  {
   "cell_type": "markdown",
   "id": "efc8ffb0",
   "metadata": {
    "papermill": {
     "duration": 0.019055,
     "end_time": "2022-09-24T20:52:05.180309",
     "exception": false,
     "start_time": "2022-09-24T20:52:05.161254",
     "status": "completed"
    },
    "tags": []
   },
   "source": [
    "**Mean Monthly Sales**"
   ]
  },
  {
   "cell_type": "code",
   "execution_count": 18,
   "id": "3bcbc175",
   "metadata": {
    "execution": {
     "iopub.execute_input": "2022-09-24T20:52:05.221353Z",
     "iopub.status.busy": "2022-09-24T20:52:05.220928Z",
     "iopub.status.idle": "2022-09-24T20:52:05.228318Z",
     "shell.execute_reply": "2022-09-24T20:52:05.227015Z"
    },
    "papermill": {
     "duration": 0.03205,
     "end_time": "2022-09-24T20:52:05.232084",
     "exception": false,
     "start_time": "2022-09-24T20:52:05.200034",
     "status": "completed"
    },
    "tags": []
   },
   "outputs": [
    {
     "name": "stdout",
     "output_type": "stream",
     "text": [
      "Overall Avarage Monthly Sales: $795075.2\n",
      "Last 12 months average monthly sales: $894478.3333333334\n"
     ]
    }
   ],
   "source": [
    "# Overall for 5 years:\n",
    "\n",
    "average_m_sales = m_df.sales.mean()\n",
    "print(f\"Overall Avarage Monthly Sales: ${average_m_sales}\")\n",
    "\n",
    "# Last 1 years (this will be the forecasted sales):\n",
    "average_m_sales_1y = m_df.sales[-12:].mean()\n",
    "print(f\"Last 12 months average monthly sales: ${average_m_sales_1y}\")\n"
   ]
  },
  {
   "cell_type": "markdown",
   "id": "e3c91ce9",
   "metadata": {
    "papermill": {
     "duration": 0.019742,
     "end_time": "2022-09-24T20:52:05.271863",
     "exception": false,
     "start_time": "2022-09-24T20:52:05.252121",
     "status": "completed"
    },
    "tags": []
   },
   "source": [
    "# **Determining Time Series Stationary**"
   ]
  },
  {
   "cell_type": "markdown",
   "id": "5df1132c",
   "metadata": {
    "papermill": {
     "duration": 0.019761,
     "end_time": "2022-09-24T20:52:05.311645",
     "exception": false,
     "start_time": "2022-09-24T20:52:05.291884",
     "status": "completed"
    },
    "tags": []
   },
   "source": [
    "The underlying principle is to model or estimate the trend and seasonality in the series and remove those from the series to get a stationary series. Then statistical forecasting techniques can be implemented in this series. The final step would be to convert the forecasted values into the original scale by applying trend and seasonality constraints back."
   ]
  },
  {
   "cell_type": "code",
   "execution_count": 19,
   "id": "3e37a87b",
   "metadata": {
    "execution": {
     "iopub.execute_input": "2022-09-24T20:52:05.353523Z",
     "iopub.status.busy": "2022-09-24T20:52:05.353105Z",
     "iopub.status.idle": "2022-09-24T20:52:05.361014Z",
     "shell.execute_reply": "2022-09-24T20:52:05.360047Z"
    },
    "papermill": {
     "duration": 0.031403,
     "end_time": "2022-09-24T20:52:05.363307",
     "exception": false,
     "start_time": "2022-09-24T20:52:05.331904",
     "status": "completed"
    },
    "tags": []
   },
   "outputs": [],
   "source": [
    "def time_plot(data, x_col, y_col, title):\n",
    "    fig, ax = plt.subplots(figsize = (15,8))\n",
    "    sns.lineplot(x_col, y_col, data = data, ax = ax, color = 'darkblue', label='Total Sales')\n",
    "    \n",
    "    s_mean = data.groupby(data.date.dt.year)[y_col].mean().reset_index()\n",
    "    s_mean.date = pd.to_datetime(s_mean.date, format='%Y')\n",
    "    sns.lineplot((s_mean.date + datetime.timedelta(6*365/12)), y_col, data=s_mean, ax=ax, color='red', label='Mean Sales')   \n",
    "    \n",
    "    ax.set(xlabel = \"Years\",\n",
    "           ylabel = \"Sales\",\n",
    "           title = title)\n"
   ]
  },
  {
   "cell_type": "code",
   "execution_count": 20,
   "id": "b8d0b9d2",
   "metadata": {
    "execution": {
     "iopub.execute_input": "2022-09-24T20:52:05.405088Z",
     "iopub.status.busy": "2022-09-24T20:52:05.404153Z",
     "iopub.status.idle": "2022-09-24T20:52:05.822234Z",
     "shell.execute_reply": "2022-09-24T20:52:05.819605Z"
    },
    "papermill": {
     "duration": 0.441406,
     "end_time": "2022-09-24T20:52:05.824599",
     "exception": false,
     "start_time": "2022-09-24T20:52:05.383193",
     "status": "completed"
    },
    "tags": []
   },
   "outputs": [
    {
     "name": "stderr",
     "output_type": "stream",
     "text": [
      "/opt/conda/lib/python3.7/site-packages/seaborn/_decorators.py:43: FutureWarning: Pass the following variables as keyword args: x, y. From version 0.12, the only valid positional argument will be `data`, and passing other arguments without an explicit keyword will result in an error or misinterpretation.\n",
      "  FutureWarning\n",
      "/opt/conda/lib/python3.7/site-packages/seaborn/_decorators.py:43: FutureWarning: Pass the following variables as keyword args: x, y. From version 0.12, the only valid positional argument will be `data`, and passing other arguments without an explicit keyword will result in an error or misinterpretation.\n",
      "  FutureWarning\n"
     ]
    },
    {
     "data": {
      "image/png": "[encoded data removed]",
      "text/plain": [
       "<Figure size 1080x576 with 1 Axes>"
      ]
     },
     "metadata": {
      "needs_background": "light"
     },
     "output_type": "display_data"
    }
   ],
   "source": [
    "time_plot(m_df, 'date', 'sales', 'Monthly Sales Before Diff Transformation' )"
   ]
  },
  {
   "cell_type": "markdown",
   "id": "fc5ec71c",
   "metadata": {
    "papermill": {
     "duration": 0.020307,
     "end_time": "2022-09-24T20:52:05.866208",
     "exception": false,
     "start_time": "2022-09-24T20:52:05.845901",
     "status": "completed"
    },
    "tags": []
   },
   "source": [
    "* **Differencing**\n",
    "\n",
    "In this method, we compute the difference of consecutive terms in the series. Differencing is typically performed to get rid of the varying mean. "
   ]
  },
  {
   "cell_type": "code",
   "execution_count": 21,
   "id": "346dc50a",
   "metadata": {
    "execution": {
     "iopub.execute_input": "2022-09-24T20:52:05.909208Z",
     "iopub.status.busy": "2022-09-24T20:52:05.908448Z",
     "iopub.status.idle": "2022-09-24T20:52:05.913592Z",
     "shell.execute_reply": "2022-09-24T20:52:05.912779Z"
    },
    "papermill": {
     "duration": 0.029209,
     "end_time": "2022-09-24T20:52:05.915714",
     "exception": false,
     "start_time": "2022-09-24T20:52:05.886505",
     "status": "completed"
    },
    "tags": []
   },
   "outputs": [],
   "source": [
    "def get_diff(data):\n",
    "    \"\"\"Calculate the difference in sales month over month:\"\"\"\n",
    "    \n",
    "    data['sales_diff'] = data.sales.diff()\n",
    "    data = data.dropna()\n",
    "    \n",
    "    data.to_csv('./stationary_df.csv')\n",
    "    \n",
    "    return data\n"
   ]
  },
  {
   "cell_type": "code",
   "execution_count": 22,
   "id": "da60bb36",
   "metadata": {
    "execution": {
     "iopub.execute_input": "2022-09-24T20:52:05.958597Z",
     "iopub.status.busy": "2022-09-24T20:52:05.957775Z",
     "iopub.status.idle": "2022-09-24T20:52:06.298711Z",
     "shell.execute_reply": "2022-09-24T20:52:06.297449Z"
    },
    "papermill": {
     "duration": 0.365191,
     "end_time": "2022-09-24T20:52:06.301473",
     "exception": false,
     "start_time": "2022-09-24T20:52:05.936282",
     "status": "completed"
    },
    "tags": []
   },
   "outputs": [
    {
     "name": "stderr",
     "output_type": "stream",
     "text": [
      "/opt/conda/lib/python3.7/site-packages/seaborn/_decorators.py:43: FutureWarning: Pass the following variables as keyword args: x, y. From version 0.12, the only valid positional argument will be `data`, and passing other arguments without an explicit keyword will result in an error or misinterpretation.\n",
      "  FutureWarning\n",
      "/opt/conda/lib/python3.7/site-packages/seaborn/_decorators.py:43: FutureWarning: Pass the following variables as keyword args: x, y. From version 0.12, the only valid positional argument will be `data`, and passing other arguments without an explicit keyword will result in an error or misinterpretation.\n",
      "  FutureWarning\n"
     ]
    },
    {
     "data": {
      "image/png": "[encoded data removed]",
      "text/plain": [
       "<Figure size 1080x576 with 1 Axes>"
      ]
     },
     "metadata": {
      "needs_background": "light"
     },
     "output_type": "display_data"
    }
   ],
   "source": [
    "stationary_df = get_diff(m_df)\n",
    "time_plot(stationary_df, 'date', 'sales_diff', \n",
    "          'Monthly Sales After Diff Transformation')"
   ]
  },
  {
   "cell_type": "markdown",
   "id": "5a5dbf9b",
   "metadata": {
    "papermill": {
     "duration": 0.021569,
     "end_time": "2022-09-24T20:52:06.345556",
     "exception": false,
     "start_time": "2022-09-24T20:52:06.323987",
     "status": "completed"
    },
    "tags": []
   },
   "source": [
    "<div class=\"alert alert-block alert-danger\" style =\"background-color : #e6ebef;\">\n",
    "    <h5 style=\"padding: 15px;\n",
    "              color:black;\">📌 Now that our data represent monthly sales and we have transformed it to be stationary, we will set up the \n",
    "                            data for our different model types. <br> <br>\n",
    "              ✔ To do this, we will \n",
    "                            define two different structures: \n",
    "        <br> <br>\n",
    "                    1. one will be used for ARIMA modeling,\n",
    "        <br><br>\n",
    "                    2. the other will be used for the rest of the models.\n",
    "    </h5>\n",
    "</div>\n",
    "\n"
   ]
  },
  {
   "cell_type": "markdown",
   "id": "20a492eb",
   "metadata": {
    "papermill": {
     "duration": 0.021224,
     "end_time": "2022-09-24T20:52:06.388321",
     "exception": false,
     "start_time": "2022-09-24T20:52:06.367097",
     "status": "completed"
    },
    "tags": []
   },
   "source": [
    "# **Preparing Dataset Modeling**"
   ]
  },
  {
   "cell_type": "markdown",
   "id": "592768a6",
   "metadata": {
    "papermill": {
     "duration": 0.021508,
     "end_time": "2022-09-24T20:52:06.431638",
     "exception": false,
     "start_time": "2022-09-24T20:52:06.410130",
     "status": "completed"
    },
    "tags": []
   },
   "source": [
    "# ARIMA Modeling\n",
    "\n",
    ">  For our Arima model, we will need only a datetime index and the dependent variable (diff in sales) columns."
   ]
  },
  {
   "cell_type": "code",
   "execution_count": 23,
   "id": "b31fffb1",
   "metadata": {
    "execution": {
     "iopub.execute_input": "2022-09-24T20:52:06.476861Z",
     "iopub.status.busy": "2022-09-24T20:52:06.476427Z",
     "iopub.status.idle": "2022-09-24T20:52:06.482705Z",
     "shell.execute_reply": "2022-09-24T20:52:06.481343Z"
    },
    "papermill": {
     "duration": 0.031874,
     "end_time": "2022-09-24T20:52:06.485116",
     "exception": false,
     "start_time": "2022-09-24T20:52:06.453242",
     "status": "completed"
    },
    "tags": []
   },
   "outputs": [],
   "source": [
    "def build_arima_data(data):\n",
    "    \"\"\"Generates a csv-file with a datetime index and a dependent sales column for ARIMA modeling.\"\"\"\n",
    "    \n",
    "    da_data = data.set_index('date').drop('sales', axis=1)\n",
    "    da_data.dropna(axis=0)\n",
    "    \n",
    "    da_data.to_csv('./arima_df.csv')\n",
    "    \n",
    "    return da_data\n"
   ]
  },
  {
   "cell_type": "code",
   "execution_count": 24,
   "id": "4eb47faf",
   "metadata": {
    "execution": {
     "iopub.execute_input": "2022-09-24T20:52:06.530942Z",
     "iopub.status.busy": "2022-09-24T20:52:06.530490Z",
     "iopub.status.idle": "2022-09-24T20:52:06.552281Z",
     "shell.execute_reply": "2022-09-24T20:52:06.551156Z"
    },
    "papermill": {
     "duration": 0.047862,
     "end_time": "2022-09-24T20:52:06.554777",
     "exception": false,
     "start_time": "2022-09-24T20:52:06.506915",
     "status": "completed"
    },
    "tags": []
   },
   "outputs": [
    {
     "data": {
      "text/html": [
       "<div>\n",
       "<style scoped>\n",
       "    .dataframe tbody tr th:only-of-type {\n",
       "        vertical-align: middle;\n",
       "    }\n",
       "\n",
       "    .dataframe tbody tr th {\n",
       "        vertical-align: top;\n",
       "    }\n",
       "\n",
       "    .dataframe thead th {\n",
       "        text-align: right;\n",
       "    }\n",
       "</style>\n",
       "<table border=\"1\" class=\"dataframe\">\n",
       "  <thead>\n",
       "    <tr style=\"text-align: right;\">\n",
       "      <th></th>\n",
       "      <th>sales_diff</th>\n",
       "    </tr>\n",
       "    <tr>\n",
       "      <th>date</th>\n",
       "      <th></th>\n",
       "    </tr>\n",
       "  </thead>\n",
       "  <tbody>\n",
       "    <tr>\n",
       "      <th>2013-02-01</th>\n",
       "      <td>4513.0</td>\n",
       "    </tr>\n",
       "    <tr>\n",
       "      <th>2013-03-01</th>\n",
       "      <td>157965.0</td>\n",
       "    </tr>\n",
       "    <tr>\n",
       "      <th>2013-04-01</th>\n",
       "      <td>64892.0</td>\n",
       "    </tr>\n",
       "    <tr>\n",
       "      <th>2013-05-01</th>\n",
       "      <td>80968.0</td>\n",
       "    </tr>\n",
       "    <tr>\n",
       "      <th>2013-06-01</th>\n",
       "      <td>32355.0</td>\n",
       "    </tr>\n",
       "    <tr>\n",
       "      <th>2013-07-01</th>\n",
       "      <td>60325.0</td>\n",
       "    </tr>\n",
       "    <tr>\n",
       "      <th>2013-08-01</th>\n",
       "      <td>-89161.0</td>\n",
       "    </tr>\n",
       "    <tr>\n",
       "      <th>2013-09-01</th>\n",
       "      <td>-76854.0</td>\n",
       "    </tr>\n",
       "    <tr>\n",
       "      <th>2013-10-01</th>\n",
       "      <td>-33320.0</td>\n",
       "    </tr>\n",
       "    <tr>\n",
       "      <th>2013-11-01</th>\n",
       "      <td>36056.0</td>\n",
       "    </tr>\n",
       "    <tr>\n",
       "      <th>2013-12-01</th>\n",
       "      <td>-186036.0</td>\n",
       "    </tr>\n",
       "    <tr>\n",
       "      <th>2014-01-01</th>\n",
       "      <td>19380.0</td>\n",
       "    </tr>\n",
       "    <tr>\n",
       "      <th>2014-02-01</th>\n",
       "      <td>3130.0</td>\n",
       "    </tr>\n",
       "    <tr>\n",
       "      <th>2014-03-01</th>\n",
       "      <td>175184.0</td>\n",
       "    </tr>\n",
       "    <tr>\n",
       "      <th>2014-04-01</th>\n",
       "      <td>84613.0</td>\n",
       "    </tr>\n",
       "    <tr>\n",
       "      <th>2014-05-01</th>\n",
       "      <td>93963.0</td>\n",
       "    </tr>\n",
       "    <tr>\n",
       "      <th>2014-06-01</th>\n",
       "      <td>23965.0</td>\n",
       "    </tr>\n",
       "    <tr>\n",
       "      <th>2014-07-01</th>\n",
       "      <td>82168.0</td>\n",
       "    </tr>\n",
       "    <tr>\n",
       "      <th>2014-08-01</th>\n",
       "      <td>-103414.0</td>\n",
       "    </tr>\n",
       "    <tr>\n",
       "      <th>2014-09-01</th>\n",
       "      <td>-100472.0</td>\n",
       "    </tr>\n",
       "    <tr>\n",
       "      <th>2014-10-01</th>\n",
       "      <td>-26241.0</td>\n",
       "    </tr>\n",
       "    <tr>\n",
       "      <th>2014-11-01</th>\n",
       "      <td>41900.0</td>\n",
       "    </tr>\n",
       "    <tr>\n",
       "      <th>2014-12-01</th>\n",
       "      <td>-222735.0</td>\n",
       "    </tr>\n",
       "    <tr>\n",
       "      <th>2015-01-01</th>\n",
       "      <td>-25535.0</td>\n",
       "    </tr>\n",
       "    <tr>\n",
       "      <th>2015-02-01</th>\n",
       "      <td>-1196.0</td>\n",
       "    </tr>\n",
       "    <tr>\n",
       "      <th>2015-03-01</th>\n",
       "      <td>179634.0</td>\n",
       "    </tr>\n",
       "    <tr>\n",
       "      <th>2015-04-01</th>\n",
       "      <td>93516.0</td>\n",
       "    </tr>\n",
       "    <tr>\n",
       "      <th>2015-05-01</th>\n",
       "      <td>102435.0</td>\n",
       "    </tr>\n",
       "    <tr>\n",
       "      <th>2015-06-01</th>\n",
       "      <td>10282.0</td>\n",
       "    </tr>\n",
       "    <tr>\n",
       "      <th>2015-07-01</th>\n",
       "      <td>100166.0</td>\n",
       "    </tr>\n",
       "    <tr>\n",
       "      <th>2015-08-01</th>\n",
       "      <td>-116949.0</td>\n",
       "    </tr>\n",
       "    <tr>\n",
       "      <th>2015-09-01</th>\n",
       "      <td>-97069.0</td>\n",
       "    </tr>\n",
       "    <tr>\n",
       "      <th>2015-10-01</th>\n",
       "      <td>-26079.0</td>\n",
       "    </tr>\n",
       "    <tr>\n",
       "      <th>2015-11-01</th>\n",
       "      <td>30392.0</td>\n",
       "    </tr>\n",
       "    <tr>\n",
       "      <th>2015-12-01</th>\n",
       "      <td>-220073.0</td>\n",
       "    </tr>\n",
       "    <tr>\n",
       "      <th>2016-01-01</th>\n",
       "      <td>-5133.0</td>\n",
       "    </tr>\n",
       "    <tr>\n",
       "      <th>2016-02-01</th>\n",
       "      <td>12518.0</td>\n",
       "    </tr>\n",
       "    <tr>\n",
       "      <th>2016-03-01</th>\n",
       "      <td>175924.0</td>\n",
       "    </tr>\n",
       "    <tr>\n",
       "      <th>2016-04-01</th>\n",
       "      <td>111069.0</td>\n",
       "    </tr>\n",
       "    <tr>\n",
       "      <th>2016-05-01</th>\n",
       "      <td>86780.0</td>\n",
       "    </tr>\n",
       "    <tr>\n",
       "      <th>2016-06-01</th>\n",
       "      <td>33934.0</td>\n",
       "    </tr>\n",
       "    <tr>\n",
       "      <th>2016-07-01</th>\n",
       "      <td>116054.0</td>\n",
       "    </tr>\n",
       "    <tr>\n",
       "      <th>2016-08-01</th>\n",
       "      <td>-157224.0</td>\n",
       "    </tr>\n",
       "    <tr>\n",
       "      <th>2016-09-01</th>\n",
       "      <td>-84663.0</td>\n",
       "    </tr>\n",
       "    <tr>\n",
       "      <th>2016-10-01</th>\n",
       "      <td>-33194.0</td>\n",
       "    </tr>\n",
       "    <tr>\n",
       "      <th>2016-11-01</th>\n",
       "      <td>27811.0</td>\n",
       "    </tr>\n",
       "    <tr>\n",
       "      <th>2016-12-01</th>\n",
       "      <td>-228037.0</td>\n",
       "    </tr>\n",
       "    <tr>\n",
       "      <th>2017-01-01</th>\n",
       "      <td>-46105.0</td>\n",
       "    </tr>\n",
       "    <tr>\n",
       "      <th>2017-02-01</th>\n",
       "      <td>4063.0</td>\n",
       "    </tr>\n",
       "    <tr>\n",
       "      <th>2017-03-01</th>\n",
       "      <td>201298.0</td>\n",
       "    </tr>\n",
       "    <tr>\n",
       "      <th>2017-04-01</th>\n",
       "      <td>116195.0</td>\n",
       "    </tr>\n",
       "    <tr>\n",
       "      <th>2017-05-01</th>\n",
       "      <td>81824.0</td>\n",
       "    </tr>\n",
       "    <tr>\n",
       "      <th>2017-06-01</th>\n",
       "      <td>43938.0</td>\n",
       "    </tr>\n",
       "    <tr>\n",
       "      <th>2017-07-01</th>\n",
       "      <td>106769.0</td>\n",
       "    </tr>\n",
       "    <tr>\n",
       "      <th>2017-08-01</th>\n",
       "      <td>-144990.0</td>\n",
       "    </tr>\n",
       "    <tr>\n",
       "      <th>2017-09-01</th>\n",
       "      <td>-91140.0</td>\n",
       "    </tr>\n",
       "    <tr>\n",
       "      <th>2017-10-01</th>\n",
       "      <td>-44103.0</td>\n",
       "    </tr>\n",
       "    <tr>\n",
       "      <th>2017-11-01</th>\n",
       "      <td>37677.0</td>\n",
       "    </tr>\n",
       "    <tr>\n",
       "      <th>2017-12-01</th>\n",
       "      <td>-233667.0</td>\n",
       "    </tr>\n",
       "  </tbody>\n",
       "</table>\n",
       "</div>"
      ],
      "text/plain": [
       "            sales_diff\n",
       "date                  \n",
       "2013-02-01      4513.0\n",
       "2013-03-01    157965.0\n",
       "2013-04-01     64892.0\n",
       "2013-05-01     80968.0\n",
       "2013-06-01     32355.0\n",
       "2013-07-01     60325.0\n",
       "2013-08-01    -89161.0\n",
       "2013-09-01    -76854.0\n",
       "2013-10-01    -33320.0\n",
       "2013-11-01     36056.0\n",
       "2013-12-01   -186036.0\n",
       "2014-01-01     19380.0\n",
       "2014-02-01      3130.0\n",
       "2014-03-01    175184.0\n",
       "2014-04-01     84613.0\n",
       "2014-05-01     93963.0\n",
       "2014-06-01     23965.0\n",
       "2014-07-01     82168.0\n",
       "2014-08-01   -103414.0\n",
       "2014-09-01   -100472.0\n",
       "2014-10-01    -26241.0\n",
       "2014-11-01     41900.0\n",
       "2014-12-01   -222735.0\n",
       "2015-01-01    -25535.0\n",
       "2015-02-01     -1196.0\n",
       "2015-03-01    179634.0\n",
       "2015-04-01     93516.0\n",
       "2015-05-01    102435.0\n",
       "2015-06-01     10282.0\n",
       "2015-07-01    100166.0\n",
       "2015-08-01   -116949.0\n",
       "2015-09-01    -97069.0\n",
       "2015-10-01    -26079.0\n",
       "2015-11-01     30392.0\n",
       "2015-12-01   -220073.0\n",
       "2016-01-01     -5133.0\n",
       "2016-02-01     12518.0\n",
       "2016-03-01    175924.0\n",
       "2016-04-01    111069.0\n",
       "2016-05-01     86780.0\n",
       "2016-06-01     33934.0\n",
       "2016-07-01    116054.0\n",
       "2016-08-01   -157224.0\n",
       "2016-09-01    -84663.0\n",
       "2016-10-01    -33194.0\n",
       "2016-11-01     27811.0\n",
       "2016-12-01   -228037.0\n",
       "2017-01-01    -46105.0\n",
       "2017-02-01      4063.0\n",
       "2017-03-01    201298.0\n",
       "2017-04-01    116195.0\n",
       "2017-05-01     81824.0\n",
       "2017-06-01     43938.0\n",
       "2017-07-01    106769.0\n",
       "2017-08-01   -144990.0\n",
       "2017-09-01    -91140.0\n",
       "2017-10-01    -44103.0\n",
       "2017-11-01     37677.0\n",
       "2017-12-01   -233667.0"
      ]
     },
     "execution_count": 24,
     "metadata": {},
     "output_type": "execute_result"
    }
   ],
   "source": [
    "datatime_df = build_arima_data(stationary_df)\n",
    "datatime_df # ARIMA Dataframe"
   ]
  },
  {
   "cell_type": "markdown",
   "id": "a2334009",
   "metadata": {
    "papermill": {
     "duration": 0.02271,
     "end_time": "2022-09-24T20:52:06.600001",
     "exception": false,
     "start_time": "2022-09-24T20:52:06.577291",
     "status": "completed"
    },
    "tags": []
   },
   "source": [
    "* **Observing Lags**"
   ]
  },
  {
   "cell_type": "markdown",
   "id": "18a70324",
   "metadata": {
    "papermill": {
     "duration": 0.022045,
     "end_time": "2022-09-24T20:52:06.644135",
     "exception": false,
     "start_time": "2022-09-24T20:52:06.622090",
     "status": "completed"
    },
    "tags": []
   },
   "source": [
    "For our other models, we will create a new data frame where each feature represents a previous month’s sales. To determine how many months to include in our feature set, we will observe the autocorrelation and partial autocorrelation plots and use the [rules for selecting lags in ARIMA modeling](https://people.duke.edu/~rnau/arimrule.htm). This way, we can keep consistent a look-back period for our ARIMA and regressive models.\n",
    "\n",
    ">  **[Statsmodels](https://www.statsmodels.org/dev/generated/statsmodels.graphics.tsaplots.plot_acf.html)**\n",
    "\n"
   ]
  },
  {
   "cell_type": "code",
   "execution_count": 25,
   "id": "9243b4dc",
   "metadata": {
    "execution": {
     "iopub.execute_input": "2022-09-24T20:52:06.690687Z",
     "iopub.status.busy": "2022-09-24T20:52:06.689594Z",
     "iopub.status.idle": "2022-09-24T20:52:07.414875Z",
     "shell.execute_reply": "2022-09-24T20:52:07.413625Z"
    },
    "papermill": {
     "duration": 0.751238,
     "end_time": "2022-09-24T20:52:07.417379",
     "exception": false,
     "start_time": "2022-09-24T20:52:06.666141",
     "status": "completed"
    },
    "tags": []
   },
   "outputs": [
    {
     "name": "stderr",
     "output_type": "stream",
     "text": [
      "/opt/conda/lib/python3.7/site-packages/statsmodels/graphics/tsaplots.py:353: FutureWarning: The default method 'yw' can produce PACF values outside of the [-1,1] interval. After 0.13, the default will change tounadjusted Yule-Walker ('ywm'). You can use this method now by setting method='ywm'.\n",
      "  FutureWarning,\n"
     ]
    },
    {
     "data": {
      "image/png": "[encoded data removed]",
      "text/plain": [
       "<Figure size 720x360 with 3 Axes>"
      ]
     },
     "metadata": {
      "needs_background": "light"
     },
     "output_type": "display_data"
    }
   ],
   "source": [
    "def plots_lag(data, lags=None):\n",
    "    \"\"\"Convert dataframe to datetime index\"\"\"\n",
    "    dt_data = data.set_index('date').drop('sales', axis=1)\n",
    "    dt_data.dropna(axis=0)\n",
    "    \n",
    "    \n",
    "    law  = plt.subplot(122)\n",
    "    acf  = plt.subplot(221)\n",
    "    pacf = plt.subplot(223)\n",
    "    \n",
    "    dt_data.plot(ax=law, figsize=(10, 5), color='orange')\n",
    "    # Plot the autocorrelation function:\n",
    "    smt.graphics.plot_acf(dt_data, lags=lags, ax=acf, color='mediumblue')\n",
    "    smt.graphics.plot_pacf(dt_data, lags=lags, ax=pacf, color='mediumblue')\n",
    "    \n",
    "    # Will also adjust spacing between subplots to minimize the overlaps:\n",
    "    plt.tight_layout()\n",
    "\n",
    "plots_lag(stationary_df, lags=24);\n",
    "    \n",
    "    "
   ]
  },
  {
   "cell_type": "markdown",
   "id": "22f82101",
   "metadata": {
    "papermill": {
     "duration": 0.023217,
     "end_time": "2022-09-24T20:52:07.464620",
     "exception": false,
     "start_time": "2022-09-24T20:52:07.441403",
     "status": "completed"
    },
    "tags": []
   },
   "source": [
    "\n",
    "> [🎦 Autocorrelation Function](https://www.youtube.com/watch?v=ZjaBn93YPWo&t=12s)\n",
    "\n",
    "\n",
    ">[ Time Series & Autocorrelation](https://online.stat.psu.edu/stat501/book/export/html/995 )\n"
   ]
  },
  {
   "cell_type": "markdown",
   "id": "12223bcb",
   "metadata": {
    "papermill": {
     "duration": 0.023974,
     "end_time": "2022-09-24T20:52:07.513533",
     "exception": false,
     "start_time": "2022-09-24T20:52:07.489559",
     "status": "completed"
    },
    "tags": []
   },
   "source": [
    "<div class=\"alert alert-block alert-danger\" style =\"background-color : #e6ebef;\">\n",
    "    <p style=\"padding: 15px;\n",
    "              color:black;\">📌 Based on the above, we will choose our look-back period to be 12 months. We will, therefore, generate a data frame that has 13 columns, 1 column for each of the 12 months and the column for our dependent variable, difference in sales.\n",
    "    </p>\n",
    "</div>\n"
   ]
  },
  {
   "cell_type": "markdown",
   "id": "25496ea7",
   "metadata": {
    "papermill": {
     "duration": 0.023797,
     "end_time": "2022-09-24T20:52:07.561477",
     "exception": false,
     "start_time": "2022-09-24T20:52:07.537680",
     "status": "completed"
    },
    "tags": []
   },
   "source": [
    "# Regressive Modeling\n",
    "\n",
    "> Let's create a CSV file where each row represents a month and the columns will have sales, dependent variables, and previous sales for each delay. The 12 delay properties are created according to the EDA. Data is used for regression modeling.\n",
    "\n",
    "\n",
    "Code was taken from [Baris Karaman’s 'Data Driven Growth' series.](https://towardsdatascience.com/predicting-sales-611cb5a252de)"
   ]
  },
  {
   "cell_type": "code",
   "execution_count": 26,
   "id": "da1246e2",
   "metadata": {
    "execution": {
     "iopub.execute_input": "2022-09-24T20:52:07.614505Z",
     "iopub.status.busy": "2022-09-24T20:52:07.614093Z",
     "iopub.status.idle": "2022-09-24T20:52:07.620908Z",
     "shell.execute_reply": "2022-09-24T20:52:07.619686Z"
    },
    "papermill": {
     "duration": 0.036717,
     "end_time": "2022-09-24T20:52:07.623353",
     "exception": false,
     "start_time": "2022-09-24T20:52:07.586636",
     "status": "completed"
    },
    "tags": []
   },
   "outputs": [],
   "source": [
    "# Let's create a data frame for transformation from time series to supervised:\n",
    "\n",
    "def built_supervised(data):\n",
    "    supervised_df = data.copy()\n",
    "\n",
    "    # Create column for each lag:\n",
    "    for i in range(1, 13):\n",
    "        col_name = 'lag_' + str(i)\n",
    "        supervised_df[col_name] = supervised_df['sales_diff'].shift(i)\n",
    "\n",
    "    # Drop null values:\n",
    "    supervised_df = supervised_df.dropna().reset_index(drop=True)\n",
    "\n",
    "    supervised_df.to_csv('./model_df.csv', index=False)\n",
    "    \n",
    "    return supervised_df\n",
    "    "
   ]
  },
  {
   "cell_type": "code",
   "execution_count": 27,
   "id": "2c968774",
   "metadata": {
    "execution": {
     "iopub.execute_input": "2022-09-24T20:52:07.673981Z",
     "iopub.status.busy": "2022-09-24T20:52:07.673538Z",
     "iopub.status.idle": "2022-09-24T20:52:07.758071Z",
     "shell.execute_reply": "2022-09-24T20:52:07.756726Z"
    },
    "papermill": {
     "duration": 0.11324,
     "end_time": "2022-09-24T20:52:07.761072",
     "exception": false,
     "start_time": "2022-09-24T20:52:07.647832",
     "status": "completed"
    },
    "tags": []
   },
   "outputs": [
    {
     "data": {
      "text/html": [
       "<div>\n",
       "<style scoped>\n",
       "    .dataframe tbody tr th:only-of-type {\n",
       "        vertical-align: middle;\n",
       "    }\n",
       "\n",
       "    .dataframe tbody tr th {\n",
       "        vertical-align: top;\n",
       "    }\n",
       "\n",
       "    .dataframe thead th {\n",
       "        text-align: right;\n",
       "    }\n",
       "</style>\n",
       "<table border=\"1\" class=\"dataframe\">\n",
       "  <thead>\n",
       "    <tr style=\"text-align: right;\">\n",
       "      <th></th>\n",
       "      <th>date</th>\n",
       "      <th>sales</th>\n",
       "      <th>sales_diff</th>\n",
       "      <th>lag_1</th>\n",
       "      <th>lag_2</th>\n",
       "      <th>lag_3</th>\n",
       "      <th>lag_4</th>\n",
       "      <th>lag_5</th>\n",
       "      <th>lag_6</th>\n",
       "      <th>lag_7</th>\n",
       "      <th>lag_8</th>\n",
       "      <th>lag_9</th>\n",
       "      <th>lag_10</th>\n",
       "      <th>lag_11</th>\n",
       "      <th>lag_12</th>\n",
       "    </tr>\n",
       "  </thead>\n",
       "  <tbody>\n",
       "    <tr>\n",
       "      <th>0</th>\n",
       "      <td>2014-02-01</td>\n",
       "      <td>529117</td>\n",
       "      <td>3130.0</td>\n",
       "      <td>19380.0</td>\n",
       "      <td>-186036.0</td>\n",
       "      <td>36056.0</td>\n",
       "      <td>-33320.0</td>\n",
       "      <td>-76854.0</td>\n",
       "      <td>-89161.0</td>\n",
       "      <td>60325.0</td>\n",
       "      <td>32355.0</td>\n",
       "      <td>80968.0</td>\n",
       "      <td>64892.0</td>\n",
       "      <td>157965.0</td>\n",
       "      <td>4513.0</td>\n",
       "    </tr>\n",
       "    <tr>\n",
       "      <th>1</th>\n",
       "      <td>2014-03-01</td>\n",
       "      <td>704301</td>\n",
       "      <td>175184.0</td>\n",
       "      <td>3130.0</td>\n",
       "      <td>19380.0</td>\n",
       "      <td>-186036.0</td>\n",
       "      <td>36056.0</td>\n",
       "      <td>-33320.0</td>\n",
       "      <td>-76854.0</td>\n",
       "      <td>-89161.0</td>\n",
       "      <td>60325.0</td>\n",
       "      <td>32355.0</td>\n",
       "      <td>80968.0</td>\n",
       "      <td>64892.0</td>\n",
       "      <td>157965.0</td>\n",
       "    </tr>\n",
       "    <tr>\n",
       "      <th>2</th>\n",
       "      <td>2014-04-01</td>\n",
       "      <td>788914</td>\n",
       "      <td>84613.0</td>\n",
       "      <td>175184.0</td>\n",
       "      <td>3130.0</td>\n",
       "      <td>19380.0</td>\n",
       "      <td>-186036.0</td>\n",
       "      <td>36056.0</td>\n",
       "      <td>-33320.0</td>\n",
       "      <td>-76854.0</td>\n",
       "      <td>-89161.0</td>\n",
       "      <td>60325.0</td>\n",
       "      <td>32355.0</td>\n",
       "      <td>80968.0</td>\n",
       "      <td>64892.0</td>\n",
       "    </tr>\n",
       "    <tr>\n",
       "      <th>3</th>\n",
       "      <td>2014-05-01</td>\n",
       "      <td>882877</td>\n",
       "      <td>93963.0</td>\n",
       "      <td>84613.0</td>\n",
       "      <td>175184.0</td>\n",
       "      <td>3130.0</td>\n",
       "      <td>19380.0</td>\n",
       "      <td>-186036.0</td>\n",
       "      <td>36056.0</td>\n",
       "      <td>-33320.0</td>\n",
       "      <td>-76854.0</td>\n",
       "      <td>-89161.0</td>\n",
       "      <td>60325.0</td>\n",
       "      <td>32355.0</td>\n",
       "      <td>80968.0</td>\n",
       "    </tr>\n",
       "    <tr>\n",
       "      <th>4</th>\n",
       "      <td>2014-06-01</td>\n",
       "      <td>906842</td>\n",
       "      <td>23965.0</td>\n",
       "      <td>93963.0</td>\n",
       "      <td>84613.0</td>\n",
       "      <td>175184.0</td>\n",
       "      <td>3130.0</td>\n",
       "      <td>19380.0</td>\n",
       "      <td>-186036.0</td>\n",
       "      <td>36056.0</td>\n",
       "      <td>-33320.0</td>\n",
       "      <td>-76854.0</td>\n",
       "      <td>-89161.0</td>\n",
       "      <td>60325.0</td>\n",
       "      <td>32355.0</td>\n",
       "    </tr>\n",
       "    <tr>\n",
       "      <th>5</th>\n",
       "      <td>2014-07-01</td>\n",
       "      <td>989010</td>\n",
       "      <td>82168.0</td>\n",
       "      <td>23965.0</td>\n",
       "      <td>93963.0</td>\n",
       "      <td>84613.0</td>\n",
       "      <td>175184.0</td>\n",
       "      <td>3130.0</td>\n",
       "      <td>19380.0</td>\n",
       "      <td>-186036.0</td>\n",
       "      <td>36056.0</td>\n",
       "      <td>-33320.0</td>\n",
       "      <td>-76854.0</td>\n",
       "      <td>-89161.0</td>\n",
       "      <td>60325.0</td>\n",
       "    </tr>\n",
       "    <tr>\n",
       "      <th>6</th>\n",
       "      <td>2014-08-01</td>\n",
       "      <td>885596</td>\n",
       "      <td>-103414.0</td>\n",
       "      <td>82168.0</td>\n",
       "      <td>23965.0</td>\n",
       "      <td>93963.0</td>\n",
       "      <td>84613.0</td>\n",
       "      <td>175184.0</td>\n",
       "      <td>3130.0</td>\n",
       "      <td>19380.0</td>\n",
       "      <td>-186036.0</td>\n",
       "      <td>36056.0</td>\n",
       "      <td>-33320.0</td>\n",
       "      <td>-76854.0</td>\n",
       "      <td>-89161.0</td>\n",
       "    </tr>\n",
       "    <tr>\n",
       "      <th>7</th>\n",
       "      <td>2014-09-01</td>\n",
       "      <td>785124</td>\n",
       "      <td>-100472.0</td>\n",
       "      <td>-103414.0</td>\n",
       "      <td>82168.0</td>\n",
       "      <td>23965.0</td>\n",
       "      <td>93963.0</td>\n",
       "      <td>84613.0</td>\n",
       "      <td>175184.0</td>\n",
       "      <td>3130.0</td>\n",
       "      <td>19380.0</td>\n",
       "      <td>-186036.0</td>\n",
       "      <td>36056.0</td>\n",
       "      <td>-33320.0</td>\n",
       "      <td>-76854.0</td>\n",
       "    </tr>\n",
       "    <tr>\n",
       "      <th>8</th>\n",
       "      <td>2014-10-01</td>\n",
       "      <td>758883</td>\n",
       "      <td>-26241.0</td>\n",
       "      <td>-100472.0</td>\n",
       "      <td>-103414.0</td>\n",
       "      <td>82168.0</td>\n",
       "      <td>23965.0</td>\n",
       "      <td>93963.0</td>\n",
       "      <td>84613.0</td>\n",
       "      <td>175184.0</td>\n",
       "      <td>3130.0</td>\n",
       "      <td>19380.0</td>\n",
       "      <td>-186036.0</td>\n",
       "      <td>36056.0</td>\n",
       "      <td>-33320.0</td>\n",
       "    </tr>\n",
       "    <tr>\n",
       "      <th>9</th>\n",
       "      <td>2014-11-01</td>\n",
       "      <td>800783</td>\n",
       "      <td>41900.0</td>\n",
       "      <td>-26241.0</td>\n",
       "      <td>-100472.0</td>\n",
       "      <td>-103414.0</td>\n",
       "      <td>82168.0</td>\n",
       "      <td>23965.0</td>\n",
       "      <td>93963.0</td>\n",
       "      <td>84613.0</td>\n",
       "      <td>175184.0</td>\n",
       "      <td>3130.0</td>\n",
       "      <td>19380.0</td>\n",
       "      <td>-186036.0</td>\n",
       "      <td>36056.0</td>\n",
       "    </tr>\n",
       "    <tr>\n",
       "      <th>10</th>\n",
       "      <td>2014-12-01</td>\n",
       "      <td>578048</td>\n",
       "      <td>-222735.0</td>\n",
       "      <td>41900.0</td>\n",
       "      <td>-26241.0</td>\n",
       "      <td>-100472.0</td>\n",
       "      <td>-103414.0</td>\n",
       "      <td>82168.0</td>\n",
       "      <td>23965.0</td>\n",
       "      <td>93963.0</td>\n",
       "      <td>84613.0</td>\n",
       "      <td>175184.0</td>\n",
       "      <td>3130.0</td>\n",
       "      <td>19380.0</td>\n",
       "      <td>-186036.0</td>\n",
       "    </tr>\n",
       "    <tr>\n",
       "      <th>11</th>\n",
       "      <td>2015-01-01</td>\n",
       "      <td>552513</td>\n",
       "      <td>-25535.0</td>\n",
       "      <td>-222735.0</td>\n",
       "      <td>41900.0</td>\n",
       "      <td>-26241.0</td>\n",
       "      <td>-100472.0</td>\n",
       "      <td>-103414.0</td>\n",
       "      <td>82168.0</td>\n",
       "      <td>23965.0</td>\n",
       "      <td>93963.0</td>\n",
       "      <td>84613.0</td>\n",
       "      <td>175184.0</td>\n",
       "      <td>3130.0</td>\n",
       "      <td>19380.0</td>\n",
       "    </tr>\n",
       "    <tr>\n",
       "      <th>12</th>\n",
       "      <td>2015-02-01</td>\n",
       "      <td>551317</td>\n",
       "      <td>-1196.0</td>\n",
       "      <td>-25535.0</td>\n",
       "      <td>-222735.0</td>\n",
       "      <td>41900.0</td>\n",
       "      <td>-26241.0</td>\n",
       "      <td>-100472.0</td>\n",
       "      <td>-103414.0</td>\n",
       "      <td>82168.0</td>\n",
       "      <td>23965.0</td>\n",
       "      <td>93963.0</td>\n",
       "      <td>84613.0</td>\n",
       "      <td>175184.0</td>\n",
       "      <td>3130.0</td>\n",
       "    </tr>\n",
       "    <tr>\n",
       "      <th>13</th>\n",
       "      <td>2015-03-01</td>\n",
       "      <td>730951</td>\n",
       "      <td>179634.0</td>\n",
       "      <td>-1196.0</td>\n",
       "      <td>-25535.0</td>\n",
       "      <td>-222735.0</td>\n",
       "      <td>41900.0</td>\n",
       "      <td>-26241.0</td>\n",
       "      <td>-100472.0</td>\n",
       "      <td>-103414.0</td>\n",
       "      <td>82168.0</td>\n",
       "      <td>23965.0</td>\n",
       "      <td>93963.0</td>\n",
       "      <td>84613.0</td>\n",
       "      <td>175184.0</td>\n",
       "    </tr>\n",
       "    <tr>\n",
       "      <th>14</th>\n",
       "      <td>2015-04-01</td>\n",
       "      <td>824467</td>\n",
       "      <td>93516.0</td>\n",
       "      <td>179634.0</td>\n",
       "      <td>-1196.0</td>\n",
       "      <td>-25535.0</td>\n",
       "      <td>-222735.0</td>\n",
       "      <td>41900.0</td>\n",
       "      <td>-26241.0</td>\n",
       "      <td>-100472.0</td>\n",
       "      <td>-103414.0</td>\n",
       "      <td>82168.0</td>\n",
       "      <td>23965.0</td>\n",
       "      <td>93963.0</td>\n",
       "      <td>84613.0</td>\n",
       "    </tr>\n",
       "    <tr>\n",
       "      <th>15</th>\n",
       "      <td>2015-05-01</td>\n",
       "      <td>926902</td>\n",
       "      <td>102435.0</td>\n",
       "      <td>93516.0</td>\n",
       "      <td>179634.0</td>\n",
       "      <td>-1196.0</td>\n",
       "      <td>-25535.0</td>\n",
       "      <td>-222735.0</td>\n",
       "      <td>41900.0</td>\n",
       "      <td>-26241.0</td>\n",
       "      <td>-100472.0</td>\n",
       "      <td>-103414.0</td>\n",
       "      <td>82168.0</td>\n",
       "      <td>23965.0</td>\n",
       "      <td>93963.0</td>\n",
       "    </tr>\n",
       "    <tr>\n",
       "      <th>16</th>\n",
       "      <td>2015-06-01</td>\n",
       "      <td>937184</td>\n",
       "      <td>10282.0</td>\n",
       "      <td>102435.0</td>\n",
       "      <td>93516.0</td>\n",
       "      <td>179634.0</td>\n",
       "      <td>-1196.0</td>\n",
       "      <td>-25535.0</td>\n",
       "      <td>-222735.0</td>\n",
       "      <td>41900.0</td>\n",
       "      <td>-26241.0</td>\n",
       "      <td>-100472.0</td>\n",
       "      <td>-103414.0</td>\n",
       "      <td>82168.0</td>\n",
       "      <td>23965.0</td>\n",
       "    </tr>\n",
       "    <tr>\n",
       "      <th>17</th>\n",
       "      <td>2015-07-01</td>\n",
       "      <td>1037350</td>\n",
       "      <td>100166.0</td>\n",
       "      <td>10282.0</td>\n",
       "      <td>102435.0</td>\n",
       "      <td>93516.0</td>\n",
       "      <td>179634.0</td>\n",
       "      <td>-1196.0</td>\n",
       "      <td>-25535.0</td>\n",
       "      <td>-222735.0</td>\n",
       "      <td>41900.0</td>\n",
       "      <td>-26241.0</td>\n",
       "      <td>-100472.0</td>\n",
       "      <td>-103414.0</td>\n",
       "      <td>82168.0</td>\n",
       "    </tr>\n",
       "    <tr>\n",
       "      <th>18</th>\n",
       "      <td>2015-08-01</td>\n",
       "      <td>920401</td>\n",
       "      <td>-116949.0</td>\n",
       "      <td>100166.0</td>\n",
       "      <td>10282.0</td>\n",
       "      <td>102435.0</td>\n",
       "      <td>93516.0</td>\n",
       "      <td>179634.0</td>\n",
       "      <td>-1196.0</td>\n",
       "      <td>-25535.0</td>\n",
       "      <td>-222735.0</td>\n",
       "      <td>41900.0</td>\n",
       "      <td>-26241.0</td>\n",
       "      <td>-100472.0</td>\n",
       "      <td>-103414.0</td>\n",
       "    </tr>\n",
       "    <tr>\n",
       "      <th>19</th>\n",
       "      <td>2015-09-01</td>\n",
       "      <td>823332</td>\n",
       "      <td>-97069.0</td>\n",
       "      <td>-116949.0</td>\n",
       "      <td>100166.0</td>\n",
       "      <td>10282.0</td>\n",
       "      <td>102435.0</td>\n",
       "      <td>93516.0</td>\n",
       "      <td>179634.0</td>\n",
       "      <td>-1196.0</td>\n",
       "      <td>-25535.0</td>\n",
       "      <td>-222735.0</td>\n",
       "      <td>41900.0</td>\n",
       "      <td>-26241.0</td>\n",
       "      <td>-100472.0</td>\n",
       "    </tr>\n",
       "    <tr>\n",
       "      <th>20</th>\n",
       "      <td>2015-10-01</td>\n",
       "      <td>797253</td>\n",
       "      <td>-26079.0</td>\n",
       "      <td>-97069.0</td>\n",
       "      <td>-116949.0</td>\n",
       "      <td>100166.0</td>\n",
       "      <td>10282.0</td>\n",
       "      <td>102435.0</td>\n",
       "      <td>93516.0</td>\n",
       "      <td>179634.0</td>\n",
       "      <td>-1196.0</td>\n",
       "      <td>-25535.0</td>\n",
       "      <td>-222735.0</td>\n",
       "      <td>41900.0</td>\n",
       "      <td>-26241.0</td>\n",
       "    </tr>\n",
       "    <tr>\n",
       "      <th>21</th>\n",
       "      <td>2015-11-01</td>\n",
       "      <td>827645</td>\n",
       "      <td>30392.0</td>\n",
       "      <td>-26079.0</td>\n",
       "      <td>-97069.0</td>\n",
       "      <td>-116949.0</td>\n",
       "      <td>100166.0</td>\n",
       "      <td>10282.0</td>\n",
       "      <td>102435.0</td>\n",
       "      <td>93516.0</td>\n",
       "      <td>179634.0</td>\n",
       "      <td>-1196.0</td>\n",
       "      <td>-25535.0</td>\n",
       "      <td>-222735.0</td>\n",
       "      <td>41900.0</td>\n",
       "    </tr>\n",
       "    <tr>\n",
       "      <th>22</th>\n",
       "      <td>2015-12-01</td>\n",
       "      <td>607572</td>\n",
       "      <td>-220073.0</td>\n",
       "      <td>30392.0</td>\n",
       "      <td>-26079.0</td>\n",
       "      <td>-97069.0</td>\n",
       "      <td>-116949.0</td>\n",
       "      <td>100166.0</td>\n",
       "      <td>10282.0</td>\n",
       "      <td>102435.0</td>\n",
       "      <td>93516.0</td>\n",
       "      <td>179634.0</td>\n",
       "      <td>-1196.0</td>\n",
       "      <td>-25535.0</td>\n",
       "      <td>-222735.0</td>\n",
       "    </tr>\n",
       "    <tr>\n",
       "      <th>23</th>\n",
       "      <td>2016-01-01</td>\n",
       "      <td>602439</td>\n",
       "      <td>-5133.0</td>\n",
       "      <td>-220073.0</td>\n",
       "      <td>30392.0</td>\n",
       "      <td>-26079.0</td>\n",
       "      <td>-97069.0</td>\n",
       "      <td>-116949.0</td>\n",
       "      <td>100166.0</td>\n",
       "      <td>10282.0</td>\n",
       "      <td>102435.0</td>\n",
       "      <td>93516.0</td>\n",
       "      <td>179634.0</td>\n",
       "      <td>-1196.0</td>\n",
       "      <td>-25535.0</td>\n",
       "    </tr>\n",
       "    <tr>\n",
       "      <th>24</th>\n",
       "      <td>2016-02-01</td>\n",
       "      <td>614957</td>\n",
       "      <td>12518.0</td>\n",
       "      <td>-5133.0</td>\n",
       "      <td>-220073.0</td>\n",
       "      <td>30392.0</td>\n",
       "      <td>-26079.0</td>\n",
       "      <td>-97069.0</td>\n",
       "      <td>-116949.0</td>\n",
       "      <td>100166.0</td>\n",
       "      <td>10282.0</td>\n",
       "      <td>102435.0</td>\n",
       "      <td>93516.0</td>\n",
       "      <td>179634.0</td>\n",
       "      <td>-1196.0</td>\n",
       "    </tr>\n",
       "    <tr>\n",
       "      <th>25</th>\n",
       "      <td>2016-03-01</td>\n",
       "      <td>790881</td>\n",
       "      <td>175924.0</td>\n",
       "      <td>12518.0</td>\n",
       "      <td>-5133.0</td>\n",
       "      <td>-220073.0</td>\n",
       "      <td>30392.0</td>\n",
       "      <td>-26079.0</td>\n",
       "      <td>-97069.0</td>\n",
       "      <td>-116949.0</td>\n",
       "      <td>100166.0</td>\n",
       "      <td>10282.0</td>\n",
       "      <td>102435.0</td>\n",
       "      <td>93516.0</td>\n",
       "      <td>179634.0</td>\n",
       "    </tr>\n",
       "    <tr>\n",
       "      <th>26</th>\n",
       "      <td>2016-04-01</td>\n",
       "      <td>901950</td>\n",
       "      <td>111069.0</td>\n",
       "      <td>175924.0</td>\n",
       "      <td>12518.0</td>\n",
       "      <td>-5133.0</td>\n",
       "      <td>-220073.0</td>\n",
       "      <td>30392.0</td>\n",
       "      <td>-26079.0</td>\n",
       "      <td>-97069.0</td>\n",
       "      <td>-116949.0</td>\n",
       "      <td>100166.0</td>\n",
       "      <td>10282.0</td>\n",
       "      <td>102435.0</td>\n",
       "      <td>93516.0</td>\n",
       "    </tr>\n",
       "    <tr>\n",
       "      <th>27</th>\n",
       "      <td>2016-05-01</td>\n",
       "      <td>988730</td>\n",
       "      <td>86780.0</td>\n",
       "      <td>111069.0</td>\n",
       "      <td>175924.0</td>\n",
       "      <td>12518.0</td>\n",
       "      <td>-5133.0</td>\n",
       "      <td>-220073.0</td>\n",
       "      <td>30392.0</td>\n",
       "      <td>-26079.0</td>\n",
       "      <td>-97069.0</td>\n",
       "      <td>-116949.0</td>\n",
       "      <td>100166.0</td>\n",
       "      <td>10282.0</td>\n",
       "      <td>102435.0</td>\n",
       "    </tr>\n",
       "    <tr>\n",
       "      <th>28</th>\n",
       "      <td>2016-06-01</td>\n",
       "      <td>1022664</td>\n",
       "      <td>33934.0</td>\n",
       "      <td>86780.0</td>\n",
       "      <td>111069.0</td>\n",
       "      <td>175924.0</td>\n",
       "      <td>12518.0</td>\n",
       "      <td>-5133.0</td>\n",
       "      <td>-220073.0</td>\n",
       "      <td>30392.0</td>\n",
       "      <td>-26079.0</td>\n",
       "      <td>-97069.0</td>\n",
       "      <td>-116949.0</td>\n",
       "      <td>100166.0</td>\n",
       "      <td>10282.0</td>\n",
       "    </tr>\n",
       "    <tr>\n",
       "      <th>29</th>\n",
       "      <td>2016-07-01</td>\n",
       "      <td>1138718</td>\n",
       "      <td>116054.0</td>\n",
       "      <td>33934.0</td>\n",
       "      <td>86780.0</td>\n",
       "      <td>111069.0</td>\n",
       "      <td>175924.0</td>\n",
       "      <td>12518.0</td>\n",
       "      <td>-5133.0</td>\n",
       "      <td>-220073.0</td>\n",
       "      <td>30392.0</td>\n",
       "      <td>-26079.0</td>\n",
       "      <td>-97069.0</td>\n",
       "      <td>-116949.0</td>\n",
       "      <td>100166.0</td>\n",
       "    </tr>\n",
       "    <tr>\n",
       "      <th>30</th>\n",
       "      <td>2016-08-01</td>\n",
       "      <td>981494</td>\n",
       "      <td>-157224.0</td>\n",
       "      <td>116054.0</td>\n",
       "      <td>33934.0</td>\n",
       "      <td>86780.0</td>\n",
       "      <td>111069.0</td>\n",
       "      <td>175924.0</td>\n",
       "      <td>12518.0</td>\n",
       "      <td>-5133.0</td>\n",
       "      <td>-220073.0</td>\n",
       "      <td>30392.0</td>\n",
       "      <td>-26079.0</td>\n",
       "      <td>-97069.0</td>\n",
       "      <td>-116949.0</td>\n",
       "    </tr>\n",
       "    <tr>\n",
       "      <th>31</th>\n",
       "      <td>2016-09-01</td>\n",
       "      <td>896831</td>\n",
       "      <td>-84663.0</td>\n",
       "      <td>-157224.0</td>\n",
       "      <td>116054.0</td>\n",
       "      <td>33934.0</td>\n",
       "      <td>86780.0</td>\n",
       "      <td>111069.0</td>\n",
       "      <td>175924.0</td>\n",
       "      <td>12518.0</td>\n",
       "      <td>-5133.0</td>\n",
       "      <td>-220073.0</td>\n",
       "      <td>30392.0</td>\n",
       "      <td>-26079.0</td>\n",
       "      <td>-97069.0</td>\n",
       "    </tr>\n",
       "    <tr>\n",
       "      <th>32</th>\n",
       "      <td>2016-10-01</td>\n",
       "      <td>863637</td>\n",
       "      <td>-33194.0</td>\n",
       "      <td>-84663.0</td>\n",
       "      <td>-157224.0</td>\n",
       "      <td>116054.0</td>\n",
       "      <td>33934.0</td>\n",
       "      <td>86780.0</td>\n",
       "      <td>111069.0</td>\n",
       "      <td>175924.0</td>\n",
       "      <td>12518.0</td>\n",
       "      <td>-5133.0</td>\n",
       "      <td>-220073.0</td>\n",
       "      <td>30392.0</td>\n",
       "      <td>-26079.0</td>\n",
       "    </tr>\n",
       "    <tr>\n",
       "      <th>33</th>\n",
       "      <td>2016-11-01</td>\n",
       "      <td>891448</td>\n",
       "      <td>27811.0</td>\n",
       "      <td>-33194.0</td>\n",
       "      <td>-84663.0</td>\n",
       "      <td>-157224.0</td>\n",
       "      <td>116054.0</td>\n",
       "      <td>33934.0</td>\n",
       "      <td>86780.0</td>\n",
       "      <td>111069.0</td>\n",
       "      <td>175924.0</td>\n",
       "      <td>12518.0</td>\n",
       "      <td>-5133.0</td>\n",
       "      <td>-220073.0</td>\n",
       "      <td>30392.0</td>\n",
       "    </tr>\n",
       "    <tr>\n",
       "      <th>34</th>\n",
       "      <td>2016-12-01</td>\n",
       "      <td>663411</td>\n",
       "      <td>-228037.0</td>\n",
       "      <td>27811.0</td>\n",
       "      <td>-33194.0</td>\n",
       "      <td>-84663.0</td>\n",
       "      <td>-157224.0</td>\n",
       "      <td>116054.0</td>\n",
       "      <td>33934.0</td>\n",
       "      <td>86780.0</td>\n",
       "      <td>111069.0</td>\n",
       "      <td>175924.0</td>\n",
       "      <td>12518.0</td>\n",
       "      <td>-5133.0</td>\n",
       "      <td>-220073.0</td>\n",
       "    </tr>\n",
       "    <tr>\n",
       "      <th>35</th>\n",
       "      <td>2017-01-01</td>\n",
       "      <td>617306</td>\n",
       "      <td>-46105.0</td>\n",
       "      <td>-228037.0</td>\n",
       "      <td>27811.0</td>\n",
       "      <td>-33194.0</td>\n",
       "      <td>-84663.0</td>\n",
       "      <td>-157224.0</td>\n",
       "      <td>116054.0</td>\n",
       "      <td>33934.0</td>\n",
       "      <td>86780.0</td>\n",
       "      <td>111069.0</td>\n",
       "      <td>175924.0</td>\n",
       "      <td>12518.0</td>\n",
       "      <td>-5133.0</td>\n",
       "    </tr>\n",
       "    <tr>\n",
       "      <th>36</th>\n",
       "      <td>2017-02-01</td>\n",
       "      <td>621369</td>\n",
       "      <td>4063.0</td>\n",
       "      <td>-46105.0</td>\n",
       "      <td>-228037.0</td>\n",
       "      <td>27811.0</td>\n",
       "      <td>-33194.0</td>\n",
       "      <td>-84663.0</td>\n",
       "      <td>-157224.0</td>\n",
       "      <td>116054.0</td>\n",
       "      <td>33934.0</td>\n",
       "      <td>86780.0</td>\n",
       "      <td>111069.0</td>\n",
       "      <td>175924.0</td>\n",
       "      <td>12518.0</td>\n",
       "    </tr>\n",
       "    <tr>\n",
       "      <th>37</th>\n",
       "      <td>2017-03-01</td>\n",
       "      <td>822667</td>\n",
       "      <td>201298.0</td>\n",
       "      <td>4063.0</td>\n",
       "      <td>-46105.0</td>\n",
       "      <td>-228037.0</td>\n",
       "      <td>27811.0</td>\n",
       "      <td>-33194.0</td>\n",
       "      <td>-84663.0</td>\n",
       "      <td>-157224.0</td>\n",
       "      <td>116054.0</td>\n",
       "      <td>33934.0</td>\n",
       "      <td>86780.0</td>\n",
       "      <td>111069.0</td>\n",
       "      <td>175924.0</td>\n",
       "    </tr>\n",
       "    <tr>\n",
       "      <th>38</th>\n",
       "      <td>2017-04-01</td>\n",
       "      <td>938862</td>\n",
       "      <td>116195.0</td>\n",
       "      <td>201298.0</td>\n",
       "      <td>4063.0</td>\n",
       "      <td>-46105.0</td>\n",
       "      <td>-228037.0</td>\n",
       "      <td>27811.0</td>\n",
       "      <td>-33194.0</td>\n",
       "      <td>-84663.0</td>\n",
       "      <td>-157224.0</td>\n",
       "      <td>116054.0</td>\n",
       "      <td>33934.0</td>\n",
       "      <td>86780.0</td>\n",
       "      <td>111069.0</td>\n",
       "    </tr>\n",
       "    <tr>\n",
       "      <th>39</th>\n",
       "      <td>2017-05-01</td>\n",
       "      <td>1020686</td>\n",
       "      <td>81824.0</td>\n",
       "      <td>116195.0</td>\n",
       "      <td>201298.0</td>\n",
       "      <td>4063.0</td>\n",
       "      <td>-46105.0</td>\n",
       "      <td>-228037.0</td>\n",
       "      <td>27811.0</td>\n",
       "      <td>-33194.0</td>\n",
       "      <td>-84663.0</td>\n",
       "      <td>-157224.0</td>\n",
       "      <td>116054.0</td>\n",
       "      <td>33934.0</td>\n",
       "      <td>86780.0</td>\n",
       "    </tr>\n",
       "    <tr>\n",
       "      <th>40</th>\n",
       "      <td>2017-06-01</td>\n",
       "      <td>1064624</td>\n",
       "      <td>43938.0</td>\n",
       "      <td>81824.0</td>\n",
       "      <td>116195.0</td>\n",
       "      <td>201298.0</td>\n",
       "      <td>4063.0</td>\n",
       "      <td>-46105.0</td>\n",
       "      <td>-228037.0</td>\n",
       "      <td>27811.0</td>\n",
       "      <td>-33194.0</td>\n",
       "      <td>-84663.0</td>\n",
       "      <td>-157224.0</td>\n",
       "      <td>116054.0</td>\n",
       "      <td>33934.0</td>\n",
       "    </tr>\n",
       "    <tr>\n",
       "      <th>41</th>\n",
       "      <td>2017-07-01</td>\n",
       "      <td>1171393</td>\n",
       "      <td>106769.0</td>\n",
       "      <td>43938.0</td>\n",
       "      <td>81824.0</td>\n",
       "      <td>116195.0</td>\n",
       "      <td>201298.0</td>\n",
       "      <td>4063.0</td>\n",
       "      <td>-46105.0</td>\n",
       "      <td>-228037.0</td>\n",
       "      <td>27811.0</td>\n",
       "      <td>-33194.0</td>\n",
       "      <td>-84663.0</td>\n",
       "      <td>-157224.0</td>\n",
       "      <td>116054.0</td>\n",
       "    </tr>\n",
       "    <tr>\n",
       "      <th>42</th>\n",
       "      <td>2017-08-01</td>\n",
       "      <td>1026403</td>\n",
       "      <td>-144990.0</td>\n",
       "      <td>106769.0</td>\n",
       "      <td>43938.0</td>\n",
       "      <td>81824.0</td>\n",
       "      <td>116195.0</td>\n",
       "      <td>201298.0</td>\n",
       "      <td>4063.0</td>\n",
       "      <td>-46105.0</td>\n",
       "      <td>-228037.0</td>\n",
       "      <td>27811.0</td>\n",
       "      <td>-33194.0</td>\n",
       "      <td>-84663.0</td>\n",
       "      <td>-157224.0</td>\n",
       "    </tr>\n",
       "    <tr>\n",
       "      <th>43</th>\n",
       "      <td>2017-09-01</td>\n",
       "      <td>935263</td>\n",
       "      <td>-91140.0</td>\n",
       "      <td>-144990.0</td>\n",
       "      <td>106769.0</td>\n",
       "      <td>43938.0</td>\n",
       "      <td>81824.0</td>\n",
       "      <td>116195.0</td>\n",
       "      <td>201298.0</td>\n",
       "      <td>4063.0</td>\n",
       "      <td>-46105.0</td>\n",
       "      <td>-228037.0</td>\n",
       "      <td>27811.0</td>\n",
       "      <td>-33194.0</td>\n",
       "      <td>-84663.0</td>\n",
       "    </tr>\n",
       "    <tr>\n",
       "      <th>44</th>\n",
       "      <td>2017-10-01</td>\n",
       "      <td>891160</td>\n",
       "      <td>-44103.0</td>\n",
       "      <td>-91140.0</td>\n",
       "      <td>-144990.0</td>\n",
       "      <td>106769.0</td>\n",
       "      <td>43938.0</td>\n",
       "      <td>81824.0</td>\n",
       "      <td>116195.0</td>\n",
       "      <td>201298.0</td>\n",
       "      <td>4063.0</td>\n",
       "      <td>-46105.0</td>\n",
       "      <td>-228037.0</td>\n",
       "      <td>27811.0</td>\n",
       "      <td>-33194.0</td>\n",
       "    </tr>\n",
       "    <tr>\n",
       "      <th>45</th>\n",
       "      <td>2017-11-01</td>\n",
       "      <td>928837</td>\n",
       "      <td>37677.0</td>\n",
       "      <td>-44103.0</td>\n",
       "      <td>-91140.0</td>\n",
       "      <td>-144990.0</td>\n",
       "      <td>106769.0</td>\n",
       "      <td>43938.0</td>\n",
       "      <td>81824.0</td>\n",
       "      <td>116195.0</td>\n",
       "      <td>201298.0</td>\n",
       "      <td>4063.0</td>\n",
       "      <td>-46105.0</td>\n",
       "      <td>-228037.0</td>\n",
       "      <td>27811.0</td>\n",
       "    </tr>\n",
       "    <tr>\n",
       "      <th>46</th>\n",
       "      <td>2017-12-01</td>\n",
       "      <td>695170</td>\n",
       "      <td>-233667.0</td>\n",
       "      <td>37677.0</td>\n",
       "      <td>-44103.0</td>\n",
       "      <td>-91140.0</td>\n",
       "      <td>-144990.0</td>\n",
       "      <td>106769.0</td>\n",
       "      <td>43938.0</td>\n",
       "      <td>81824.0</td>\n",
       "      <td>116195.0</td>\n",
       "      <td>201298.0</td>\n",
       "      <td>4063.0</td>\n",
       "      <td>-46105.0</td>\n",
       "      <td>-228037.0</td>\n",
       "    </tr>\n",
       "  </tbody>\n",
       "</table>\n",
       "</div>"
      ],
      "text/plain": [
       "         date    sales  sales_diff     lag_1     lag_2     lag_3     lag_4  \\\n",
       "0  2014-02-01   529117      3130.0   19380.0 -186036.0   36056.0  -33320.0   \n",
       "1  2014-03-01   704301    175184.0    3130.0   19380.0 -186036.0   36056.0   \n",
       "2  2014-04-01   788914     84613.0  175184.0    3130.0   19380.0 -186036.0   \n",
       "3  2014-05-01   882877     93963.0   84613.0  175184.0    3130.0   19380.0   \n",
       "4  2014-06-01   906842     23965.0   93963.0   84613.0  175184.0    3130.0   \n",
       "5  2014-07-01   989010     82168.0   23965.0   93963.0   84613.0  175184.0   \n",
       "6  2014-08-01   885596   -103414.0   82168.0   23965.0   93963.0   84613.0   \n",
       "7  2014-09-01   785124   -100472.0 -103414.0   82168.0   23965.0   93963.0   \n",
       "8  2014-10-01   758883    -26241.0 -100472.0 -103414.0   82168.0   23965.0   \n",
       "9  2014-11-01   800783     41900.0  -26241.0 -100472.0 -103414.0   82168.0   \n",
       "10 2014-12-01   578048   -222735.0   41900.0  -26241.0 -100472.0 -103414.0   \n",
       "11 2015-01-01   552513    -25535.0 -222735.0   41900.0  -26241.0 -100472.0   \n",
       "12 2015-02-01   551317     -1196.0  -25535.0 -222735.0   41900.0  -26241.0   \n",
       "13 2015-03-01   730951    179634.0   -1196.0  -25535.0 -222735.0   41900.0   \n",
       "14 2015-04-01   824467     93516.0  179634.0   -1196.0  -25535.0 -222735.0   \n",
       "15 2015-05-01   926902    102435.0   93516.0  179634.0   -1196.0  -25535.0   \n",
       "16 2015-06-01   937184     10282.0  102435.0   93516.0  179634.0   -1196.0   \n",
       "17 2015-07-01  1037350    100166.0   10282.0  102435.0   93516.0  179634.0   \n",
       "18 2015-08-01   920401   -116949.0  100166.0   10282.0  102435.0   93516.0   \n",
       "19 2015-09-01   823332    -97069.0 -116949.0  100166.0   10282.0  102435.0   \n",
       "20 2015-10-01   797253    -26079.0  -97069.0 -116949.0  100166.0   10282.0   \n",
       "21 2015-11-01   827645     30392.0  -26079.0  -97069.0 -116949.0  100166.0   \n",
       "22 2015-12-01   607572   -220073.0   30392.0  -26079.0  -97069.0 -116949.0   \n",
       "23 2016-01-01   602439     -5133.0 -220073.0   30392.0  -26079.0  -97069.0   \n",
       "24 2016-02-01   614957     12518.0   -5133.0 -220073.0   30392.0  -26079.0   \n",
       "25 2016-03-01   790881    175924.0   12518.0   -5133.0 -220073.0   30392.0   \n",
       "26 2016-04-01   901950    111069.0  175924.0   12518.0   -5133.0 -220073.0   \n",
       "27 2016-05-01   988730     86780.0  111069.0  175924.0   12518.0   -5133.0   \n",
       "28 2016-06-01  1022664     33934.0   86780.0  111069.0  175924.0   12518.0   \n",
       "29 2016-07-01  1138718    116054.0   33934.0   86780.0  111069.0  175924.0   \n",
       "30 2016-08-01   981494   -157224.0  116054.0   33934.0   86780.0  111069.0   \n",
       "31 2016-09-01   896831    -84663.0 -157224.0  116054.0   33934.0   86780.0   \n",
       "32 2016-10-01   863637    -33194.0  -84663.0 -157224.0  116054.0   33934.0   \n",
       "33 2016-11-01   891448     27811.0  -33194.0  -84663.0 -157224.0  116054.0   \n",
       "34 2016-12-01   663411   -228037.0   27811.0  -33194.0  -84663.0 -157224.0   \n",
       "35 2017-01-01   617306    -46105.0 -228037.0   27811.0  -33194.0  -84663.0   \n",
       "36 2017-02-01   621369      4063.0  -46105.0 -228037.0   27811.0  -33194.0   \n",
       "37 2017-03-01   822667    201298.0    4063.0  -46105.0 -228037.0   27811.0   \n",
       "38 2017-04-01   938862    116195.0  201298.0    4063.0  -46105.0 -228037.0   \n",
       "39 2017-05-01  1020686     81824.0  116195.0  201298.0    4063.0  -46105.0   \n",
       "40 2017-06-01  1064624     43938.0   81824.0  116195.0  201298.0    4063.0   \n",
       "41 2017-07-01  1171393    106769.0   43938.0   81824.0  116195.0  201298.0   \n",
       "42 2017-08-01  1026403   -144990.0  106769.0   43938.0   81824.0  116195.0   \n",
       "43 2017-09-01   935263    -91140.0 -144990.0  106769.0   43938.0   81824.0   \n",
       "44 2017-10-01   891160    -44103.0  -91140.0 -144990.0  106769.0   43938.0   \n",
       "45 2017-11-01   928837     37677.0  -44103.0  -91140.0 -144990.0  106769.0   \n",
       "46 2017-12-01   695170   -233667.0   37677.0  -44103.0  -91140.0 -144990.0   \n",
       "\n",
       "       lag_5     lag_6     lag_7     lag_8     lag_9    lag_10    lag_11  \\\n",
       "0   -76854.0  -89161.0   60325.0   32355.0   80968.0   64892.0  157965.0   \n",
       "1   -33320.0  -76854.0  -89161.0   60325.0   32355.0   80968.0   64892.0   \n",
       "2    36056.0  -33320.0  -76854.0  -89161.0   60325.0   32355.0   80968.0   \n",
       "3  -186036.0   36056.0  -33320.0  -76854.0  -89161.0   60325.0   32355.0   \n",
       "4    19380.0 -186036.0   36056.0  -33320.0  -76854.0  -89161.0   60325.0   \n",
       "5     3130.0   19380.0 -186036.0   36056.0  -33320.0  -76854.0  -89161.0   \n",
       "6   175184.0    3130.0   19380.0 -186036.0   36056.0  -33320.0  -76854.0   \n",
       "7    84613.0  175184.0    3130.0   19380.0 -186036.0   36056.0  -33320.0   \n",
       "8    93963.0   84613.0  175184.0    3130.0   19380.0 -186036.0   36056.0   \n",
       "9    23965.0   93963.0   84613.0  175184.0    3130.0   19380.0 -186036.0   \n",
       "10   82168.0   23965.0   93963.0   84613.0  175184.0    3130.0   19380.0   \n",
       "11 -103414.0   82168.0   23965.0   93963.0   84613.0  175184.0    3130.0   \n",
       "12 -100472.0 -103414.0   82168.0   23965.0   93963.0   84613.0  175184.0   \n",
       "13  -26241.0 -100472.0 -103414.0   82168.0   23965.0   93963.0   84613.0   \n",
       "14   41900.0  -26241.0 -100472.0 -103414.0   82168.0   23965.0   93963.0   \n",
       "15 -222735.0   41900.0  -26241.0 -100472.0 -103414.0   82168.0   23965.0   \n",
       "16  -25535.0 -222735.0   41900.0  -26241.0 -100472.0 -103414.0   82168.0   \n",
       "17   -1196.0  -25535.0 -222735.0   41900.0  -26241.0 -100472.0 -103414.0   \n",
       "18  179634.0   -1196.0  -25535.0 -222735.0   41900.0  -26241.0 -100472.0   \n",
       "19   93516.0  179634.0   -1196.0  -25535.0 -222735.0   41900.0  -26241.0   \n",
       "20  102435.0   93516.0  179634.0   -1196.0  -25535.0 -222735.0   41900.0   \n",
       "21   10282.0  102435.0   93516.0  179634.0   -1196.0  -25535.0 -222735.0   \n",
       "22  100166.0   10282.0  102435.0   93516.0  179634.0   -1196.0  -25535.0   \n",
       "23 -116949.0  100166.0   10282.0  102435.0   93516.0  179634.0   -1196.0   \n",
       "24  -97069.0 -116949.0  100166.0   10282.0  102435.0   93516.0  179634.0   \n",
       "25  -26079.0  -97069.0 -116949.0  100166.0   10282.0  102435.0   93516.0   \n",
       "26   30392.0  -26079.0  -97069.0 -116949.0  100166.0   10282.0  102435.0   \n",
       "27 -220073.0   30392.0  -26079.0  -97069.0 -116949.0  100166.0   10282.0   \n",
       "28   -5133.0 -220073.0   30392.0  -26079.0  -97069.0 -116949.0  100166.0   \n",
       "29   12518.0   -5133.0 -220073.0   30392.0  -26079.0  -97069.0 -116949.0   \n",
       "30  175924.0   12518.0   -5133.0 -220073.0   30392.0  -26079.0  -97069.0   \n",
       "31  111069.0  175924.0   12518.0   -5133.0 -220073.0   30392.0  -26079.0   \n",
       "32   86780.0  111069.0  175924.0   12518.0   -5133.0 -220073.0   30392.0   \n",
       "33   33934.0   86780.0  111069.0  175924.0   12518.0   -5133.0 -220073.0   \n",
       "34  116054.0   33934.0   86780.0  111069.0  175924.0   12518.0   -5133.0   \n",
       "35 -157224.0  116054.0   33934.0   86780.0  111069.0  175924.0   12518.0   \n",
       "36  -84663.0 -157224.0  116054.0   33934.0   86780.0  111069.0  175924.0   \n",
       "37  -33194.0  -84663.0 -157224.0  116054.0   33934.0   86780.0  111069.0   \n",
       "38   27811.0  -33194.0  -84663.0 -157224.0  116054.0   33934.0   86780.0   \n",
       "39 -228037.0   27811.0  -33194.0  -84663.0 -157224.0  116054.0   33934.0   \n",
       "40  -46105.0 -228037.0   27811.0  -33194.0  -84663.0 -157224.0  116054.0   \n",
       "41    4063.0  -46105.0 -228037.0   27811.0  -33194.0  -84663.0 -157224.0   \n",
       "42  201298.0    4063.0  -46105.0 -228037.0   27811.0  -33194.0  -84663.0   \n",
       "43  116195.0  201298.0    4063.0  -46105.0 -228037.0   27811.0  -33194.0   \n",
       "44   81824.0  116195.0  201298.0    4063.0  -46105.0 -228037.0   27811.0   \n",
       "45   43938.0   81824.0  116195.0  201298.0    4063.0  -46105.0 -228037.0   \n",
       "46  106769.0   43938.0   81824.0  116195.0  201298.0    4063.0  -46105.0   \n",
       "\n",
       "      lag_12  \n",
       "0     4513.0  \n",
       "1   157965.0  \n",
       "2    64892.0  \n",
       "3    80968.0  \n",
       "4    32355.0  \n",
       "5    60325.0  \n",
       "6   -89161.0  \n",
       "7   -76854.0  \n",
       "8   -33320.0  \n",
       "9    36056.0  \n",
       "10 -186036.0  \n",
       "11   19380.0  \n",
       "12    3130.0  \n",
       "13  175184.0  \n",
       "14   84613.0  \n",
       "15   93963.0  \n",
       "16   23965.0  \n",
       "17   82168.0  \n",
       "18 -103414.0  \n",
       "19 -100472.0  \n",
       "20  -26241.0  \n",
       "21   41900.0  \n",
       "22 -222735.0  \n",
       "23  -25535.0  \n",
       "24   -1196.0  \n",
       "25  179634.0  \n",
       "26   93516.0  \n",
       "27  102435.0  \n",
       "28   10282.0  \n",
       "29  100166.0  \n",
       "30 -116949.0  \n",
       "31  -97069.0  \n",
       "32  -26079.0  \n",
       "33   30392.0  \n",
       "34 -220073.0  \n",
       "35   -5133.0  \n",
       "36   12518.0  \n",
       "37  175924.0  \n",
       "38  111069.0  \n",
       "39   86780.0  \n",
       "40   33934.0  \n",
       "41  116054.0  \n",
       "42 -157224.0  \n",
       "43  -84663.0  \n",
       "44  -33194.0  \n",
       "45   27811.0  \n",
       "46 -228037.0  "
      ]
     },
     "execution_count": 27,
     "metadata": {},
     "output_type": "execute_result"
    }
   ],
   "source": [
    "model_df = built_supervised(stationary_df)\n",
    "model_df "
   ]
  },
  {
   "cell_type": "code",
   "execution_count": 28,
   "id": "b9969a58",
   "metadata": {
    "execution": {
     "iopub.execute_input": "2022-09-24T20:52:07.813012Z",
     "iopub.status.busy": "2022-09-24T20:52:07.812552Z",
     "iopub.status.idle": "2022-09-24T20:52:07.827089Z",
     "shell.execute_reply": "2022-09-24T20:52:07.825683Z"
    },
    "papermill": {
     "duration": 0.044818,
     "end_time": "2022-09-24T20:52:07.830744",
     "exception": false,
     "start_time": "2022-09-24T20:52:07.785926",
     "status": "completed"
    },
    "tags": []
   },
   "outputs": [
    {
     "name": "stdout",
     "output_type": "stream",
     "text": [
      "<class 'pandas.core.frame.DataFrame'>\n",
      "RangeIndex: 47 entries, 0 to 46\n",
      "Data columns (total 15 columns):\n",
      " #   Column      Non-Null Count  Dtype         \n",
      "---  ------      --------------  -----         \n",
      " 0   date        47 non-null     datetime64[ns]\n",
      " 1   sales       47 non-null     int64         \n",
      " 2   sales_diff  47 non-null     float64       \n",
      " 3   lag_1       47 non-null     float64       \n",
      " 4   lag_2       47 non-null     float64       \n",
      " 5   lag_3       47 non-null     float64       \n",
      " 6   lag_4       47 non-null     float64       \n",
      " 7   lag_5       47 non-null     float64       \n",
      " 8   lag_6       47 non-null     float64       \n",
      " 9   lag_7       47 non-null     float64       \n",
      " 10  lag_8       47 non-null     float64       \n",
      " 11  lag_9       47 non-null     float64       \n",
      " 12  lag_10      47 non-null     float64       \n",
      " 13  lag_11      47 non-null     float64       \n",
      " 14  lag_12      47 non-null     float64       \n",
      "dtypes: datetime64[ns](1), float64(13), int64(1)\n",
      "memory usage: 5.6 KB\n"
     ]
    }
   ],
   "source": [
    "model_df.info() # Supervised Dataframe"
   ]
  },
  {
   "cell_type": "markdown",
   "id": "04e6d0d5",
   "metadata": {
    "papermill": {
     "duration": 0.024683,
     "end_time": "2022-09-24T20:52:07.882398",
     "exception": false,
     "start_time": "2022-09-24T20:52:07.857715",
     "status": "completed"
    },
    "tags": []
   },
   "source": [
    "<div class=\"alert alert-block alert-danger\" style =\"background-color : #e6ebef;\">\n",
    "    <h5 style=\"padding: 15px;\n",
    "              color:black;\">📌 Now we have two separate data structures: <br> <br><br>\n",
    "              ✔ Our Arima structure which includes a DataTime index,\n",
    "        <br><br>\n",
    "             ✔ Our supervised structure which includes lags as features.\n",
    "    </h5>\n",
    "</div>\n"
   ]
  },
  {
   "cell_type": "markdown",
   "id": "c1bf524f",
   "metadata": {
    "papermill": {
     "duration": 0.024453,
     "end_time": "2022-09-24T20:52:07.931746",
     "exception": false,
     "start_time": "2022-09-24T20:52:07.907293",
     "status": "completed"
    },
    "tags": []
   },
   "source": [
    "## **Functions For Modeling** "
   ]
  },
  {
   "cell_type": "markdown",
   "id": "99ab7179",
   "metadata": {
    "papermill": {
     "duration": 0.024401,
     "end_time": "2022-09-24T20:52:07.980816",
     "exception": false,
     "start_time": "2022-09-24T20:52:07.956415",
     "status": "completed"
    },
    "tags": []
   },
   "source": [
    "To create and assess all of our models, we will use a series of helper functions that perform the following functions:\n",
    "* *Train test split*\n",
    "* *Scale the data*\n",
    "* *Reverse scaling*\n",
    "* *Create a predictions data frame*\n",
    "* *Score the models*\n"
   ]
  },
  {
   "cell_type": "markdown",
   "id": "c1b795e1",
   "metadata": {
    "papermill": {
     "duration": 0.025039,
     "end_time": "2022-09-24T20:52:08.030715",
     "exception": false,
     "start_time": "2022-09-24T20:52:08.005676",
     "status": "completed"
    },
    "tags": []
   },
   "source": [
    " # Train Test Split\n",
    "\n",
    ">       We detach our data so that the last 12 months are part of the test set and the rest of the data is used to train our model."
   ]
  },
  {
   "cell_type": "code",
   "execution_count": 29,
   "id": "4599f4b1",
   "metadata": {
    "execution": {
     "iopub.execute_input": "2022-09-24T20:52:08.082449Z",
     "iopub.status.busy": "2022-09-24T20:52:08.082005Z",
     "iopub.status.idle": "2022-09-24T20:52:08.091006Z",
     "shell.execute_reply": "2022-09-24T20:52:08.089563Z"
    },
    "papermill": {
     "duration": 0.038026,
     "end_time": "2022-09-24T20:52:08.093826",
     "exception": false,
     "start_time": "2022-09-24T20:52:08.055800",
     "status": "completed"
    },
    "tags": []
   },
   "outputs": [
    {
     "name": "stdout",
     "output_type": "stream",
     "text": [
      "Shape of  Train: (35, 13)\n",
      "Shape of  Test: (12, 13)\n"
     ]
    }
   ],
   "source": [
    "def train_test_split(data):\n",
    "    data = data.drop(['sales','date'], axis=1)\n",
    "    train , test = data[:-12].values, data[-12:].values\n",
    "    \n",
    "    return train, test\n",
    "\n",
    "train, test = train_test_split(model_df)\n",
    "print(f\"Shape of  Train: {train.shape}\\nShape of  Test: {test.shape}\")"
   ]
  },
  {
   "cell_type": "markdown",
   "id": "1f89dfae",
   "metadata": {
    "papermill": {
     "duration": 0.025013,
     "end_time": "2022-09-24T20:52:08.144599",
     "exception": false,
     "start_time": "2022-09-24T20:52:08.119586",
     "status": "completed"
    },
    "tags": []
   },
   "source": [
    " # Scale The Data\n",
    "\n",
    ">      Using a min-max scaler, we will scale the data so that all of our variables fall within the range of -1 to 1."
   ]
  },
  {
   "cell_type": "code",
   "execution_count": 30,
   "id": "682de6fb",
   "metadata": {
    "execution": {
     "iopub.execute_input": "2022-09-24T20:52:08.197155Z",
     "iopub.status.busy": "2022-09-24T20:52:08.196691Z",
     "iopub.status.idle": "2022-09-24T20:52:08.208757Z",
     "shell.execute_reply": "2022-09-24T20:52:08.207409Z"
    },
    "papermill": {
     "duration": 0.04138,
     "end_time": "2022-09-24T20:52:08.211331",
     "exception": false,
     "start_time": "2022-09-24T20:52:08.169951",
     "status": "completed"
    },
    "tags": []
   },
   "outputs": [
    {
     "name": "stdout",
     "output_type": "stream",
     "text": [
      "Shape of X Train: (35, 12)\n",
      "Shape of y Train: (35,)\n",
      "Shape of X Test: (12, 12)\n",
      "Shape of y Test: (12,)\n"
     ]
    }
   ],
   "source": [
    "def scale_data(train_set,test_set):\n",
    "    \"\"\"Scales data using MinMaxScaler and separates data into X_train, y_train,\n",
    "    X_test, and y_test.\"\"\"\n",
    "    \n",
    "    # Apply Min Max Scaler:\n",
    "    scaler = MinMaxScaler(feature_range=(-1, 1))\n",
    "    scaler = scaler.fit(train_set)\n",
    "    \n",
    "    # Reshape training set:\n",
    "    train_set = train_set.reshape(train_set.shape[0],\n",
    "                                  train_set.shape[1])\n",
    "    train_set_scaled = scaler.transform(train_set)\n",
    "    \n",
    "    # Reshape test set:\n",
    "    test_set = test_set.reshape(test_set.shape[0], \n",
    "                                test_set.shape[1])\n",
    "    test_set_scaled = scaler.transform(test_set)\n",
    "    \n",
    "    X_train, y_train = train_set_scaled[:, 1:], train_set_scaled[:, 0:1].ravel() # returns the array, flattened!\n",
    "    X_test, y_test = test_set_scaled[:, 1:], test_set_scaled[:, 0:1].ravel()\n",
    "    \n",
    "    return X_train, y_train, X_test, y_test, scaler\n",
    "\n",
    "\n",
    "X_train, y_train, X_test, y_test, scaler_object = scale_data(train, test)\n",
    "print(f\"Shape of X Train: {X_train.shape}\\nShape of y Train: {y_train.shape}\\nShape of X Test: {X_test.shape}\\nShape of y Test: {y_test.shape}\")"
   ]
  },
  {
   "cell_type": "markdown",
   "id": "cb581e6f",
   "metadata": {
    "papermill": {
     "duration": 0.025405,
     "end_time": "2022-09-24T20:52:08.262347",
     "exception": false,
     "start_time": "2022-09-24T20:52:08.236942",
     "status": "completed"
    },
    "tags": []
   },
   "source": [
    " # Reverse Scaling\n",
    ">       After running our models, we will use this helper function to reverse the scaling of step 2."
   ]
  },
  {
   "cell_type": "code",
   "execution_count": 31,
   "id": "1ce66fd5",
   "metadata": {
    "execution": {
     "iopub.execute_input": "2022-09-24T20:52:08.316246Z",
     "iopub.status.busy": "2022-09-24T20:52:08.315825Z",
     "iopub.status.idle": "2022-09-24T20:52:08.325337Z",
     "shell.execute_reply": "2022-09-24T20:52:08.324083Z"
    },
    "papermill": {
     "duration": 0.039293,
     "end_time": "2022-09-24T20:52:08.327864",
     "exception": false,
     "start_time": "2022-09-24T20:52:08.288571",
     "status": "completed"
    },
    "tags": []
   },
   "outputs": [],
   "source": [
    "def re_scaling(y_pred, x_test, scaler_obj, lstm=False):\n",
    "    \"\"\"For visualizing and comparing results, undoes the scaling effect on predictions.\"\"\"\n",
    "   # y_pred: model predictions\n",
    "   # x_test: features from the test set used for predictions\n",
    "   # scaler_obj: the scaler objects used for min-max scaling\n",
    "   # lstm: indicate if the model run is the lstm. If True, additional transformation occurs \n",
    "    \n",
    "    # Reshape y_pred:\n",
    "    y_pred = y_pred.reshape(y_pred.shape[0],\n",
    "                            1,\n",
    "                            1)\n",
    "\n",
    "    if not lstm:\n",
    "        x_test = x_test.reshape(x_test.shape[0],\n",
    "                                1, \n",
    "                                x_test.shape[1])\n",
    "\n",
    "    # Rebuild test set for inverse transform:\n",
    "    pred_test_set = []\n",
    "    for index in range(0, len(y_pred)):\n",
    "        pred_test_set.append(np.concatenate([y_pred[index], \n",
    "                                             x_test[index]],\n",
    "                                             axis=1) )\n",
    "\n",
    "    # Reshape pred_test_set:\n",
    "    pred_test_set = np.array(pred_test_set)\n",
    "    pred_test_set = pred_test_set.reshape(pred_test_set.shape[0],\n",
    "                                          pred_test_set.shape[2])\n",
    "\n",
    "    # Inverse transform:\n",
    "    pred_test_set_inverted = scaler_obj.inverse_transform(pred_test_set)\n",
    "\n",
    "    return pred_test_set_inverted\n",
    "    \n"
   ]
  },
  {
   "cell_type": "markdown",
   "id": "3f5e2e3e",
   "metadata": {
    "papermill": {
     "duration": 0.024728,
     "end_time": "2022-09-24T20:52:08.378158",
     "exception": false,
     "start_time": "2022-09-24T20:52:08.353430",
     "status": "completed"
    },
    "tags": []
   },
   "source": [
    " # Predictions Dataframe\n",
    ">     Generate a dataframe that includes the actual sales captured in our test set and the predicted results from our model so that we can quantify our success."
   ]
  },
  {
   "cell_type": "code",
   "execution_count": 32,
   "id": "3bdd0801",
   "metadata": {
    "execution": {
     "iopub.execute_input": "2022-09-24T20:52:08.430449Z",
     "iopub.status.busy": "2022-09-24T20:52:08.430031Z",
     "iopub.status.idle": "2022-09-24T20:52:08.437524Z",
     "shell.execute_reply": "2022-09-24T20:52:08.436181Z"
    },
    "papermill": {
     "duration": 0.036675,
     "end_time": "2022-09-24T20:52:08.440040",
     "exception": false,
     "start_time": "2022-09-24T20:52:08.403365",
     "status": "completed"
    },
    "tags": []
   },
   "outputs": [],
   "source": [
    "def prediction_df(unscale_predictions, origin_df):\n",
    "    \"\"\"Generates a dataframe that shows the predicted sales for each month\n",
    "    for plotting results.\"\"\"\n",
    "    \n",
    "    # unscale_predictions: the model predictions that do not have min-max or other scaling applied\n",
    "    # origin_df: the original monthly sales dataframe\n",
    "    \n",
    "    # Create dataframe that shows the predicted sales:\n",
    "    result_list = []\n",
    "    sales_dates = list(origin_df[-13:].date)\n",
    "    act_sales = list(origin_df[-13:].sales)\n",
    "\n",
    "    for index in range(0, len(unscale_predictions)):\n",
    "        result_dict = {}\n",
    "        result_dict['pred_value'] = int(unscale_predictions[index][0] + act_sales[index])\n",
    "        result_dict['date'] = sales_dates[index + 1]\n",
    "        result_list.append(result_dict)\n",
    "\n",
    "    df_result = pd.DataFrame(result_list)\n",
    "\n",
    "    return df_result"
   ]
  },
  {
   "cell_type": "markdown",
   "id": "5aafad74",
   "metadata": {
    "papermill": {
     "duration": 0.025351,
     "end_time": "2022-09-24T20:52:08.491355",
     "exception": false,
     "start_time": "2022-09-24T20:52:08.466004",
     "status": "completed"
    },
    "tags": []
   },
   "source": [
    "# Score The Models\n",
    ">      This helper function will save the root mean squared error (RMSE) and mean absolute error (MAE) of our predictions to compare the performance of our models.\n",
    "[Regression Metrics](https://scikit-learn.org/0.24/modules/model_evaluation.html#regression-metrics)"
   ]
  },
  {
   "cell_type": "markdown",
   "id": "321e4a98",
   "metadata": {
    "papermill": {
     "duration": 0.024523,
     "end_time": "2022-09-24T20:52:08.541043",
     "exception": false,
     "start_time": "2022-09-24T20:52:08.516520",
     "status": "completed"
    },
    "tags": []
   },
   "source": [
    "![](https://4.bp.blogspot.com/-wG7IbjTfE6k/XGUvqm7TCVI/AAAAAAAAAZU/vpH1kuKTIooKTcVlnm1EVRCXLVZM9cPNgCLcBGAs/s1600/formula-MAE-MSE-RMSE-RSquared.JPG)"
   ]
  },
  {
   "cell_type": "code",
   "execution_count": 33,
   "id": "27bc65c4",
   "metadata": {
    "execution": {
     "iopub.execute_input": "2022-09-24T20:52:08.593955Z",
     "iopub.status.busy": "2022-09-24T20:52:08.593201Z",
     "iopub.status.idle": "2022-09-24T20:52:08.599921Z",
     "shell.execute_reply": "2022-09-24T20:52:08.599069Z"
    },
    "papermill": {
     "duration": 0.036166,
     "end_time": "2022-09-24T20:52:08.602115",
     "exception": false,
     "start_time": "2022-09-24T20:52:08.565949",
     "status": "completed"
    },
    "tags": []
   },
   "outputs": [],
   "source": [
    "model_scores = {}\n",
    "\n",
    "def get_scores(unscale_df, origin_df, model_name):\n",
    "    \"\"\"Prints the root mean squared error, mean absolute error, and r2 scores\n",
    "    for each model. Saves all results in a model_scores dictionary for\n",
    "    comparison.\"\"\"\n",
    "    \n",
    "    rmse = np.sqrt(mean_squared_error(origin_df.sales[-12:], \n",
    "                                      unscale_df.pred_value[-12:]))\n",
    "    \n",
    "    mae = mean_absolute_error(origin_df.sales[-12:], \n",
    "                              unscale_df.pred_value[-12:])\n",
    "    \n",
    "    r2 = r2_score(origin_df.sales[-12:], \n",
    "                  unscale_df.pred_value[-12:])\n",
    "    \n",
    "    model_scores[model_name] = [rmse, mae, r2]\n",
    "\n",
    "    print(f\"RMSE: {rmse}\\nMAE: {mae}\\nR2 Score: {r2}\")"
   ]
  },
  {
   "cell_type": "markdown",
   "id": "edb5304f",
   "metadata": {
    "papermill": {
     "duration": 0.025086,
     "end_time": "2022-09-24T20:52:08.652948",
     "exception": false,
     "start_time": "2022-09-24T20:52:08.627862",
     "status": "completed"
    },
    "tags": []
   },
   "source": [
    "# Graph of Results"
   ]
  },
  {
   "cell_type": "code",
   "execution_count": 34,
   "id": "8709e323",
   "metadata": {
    "execution": {
     "iopub.execute_input": "2022-09-24T20:52:08.706335Z",
     "iopub.status.busy": "2022-09-24T20:52:08.705624Z",
     "iopub.status.idle": "2022-09-24T20:52:08.713172Z",
     "shell.execute_reply": "2022-09-24T20:52:08.712079Z"
    },
    "papermill": {
     "duration": 0.037236,
     "end_time": "2022-09-24T20:52:08.715594",
     "exception": false,
     "start_time": "2022-09-24T20:52:08.678358",
     "status": "completed"
    },
    "tags": []
   },
   "outputs": [],
   "source": [
    "def plot_results(results, origin_df, model_name):\n",
    "# results: a dataframe with unscaled predictions\n",
    "\n",
    "    fig, ax = plt.subplots(figsize=(15,5))\n",
    "    sns.lineplot(origin_df.date, origin_df.sales, data=origin_df, ax=ax, \n",
    "                 label='Original', color='blue')\n",
    "    sns.lineplot(results.date, results.pred_value, data=results, ax=ax, \n",
    "                 label='Predicted', color='red')\n",
    "    \n",
    "    \n",
    "    ax.set(xlabel = \"Date\",\n",
    "           ylabel = \"Sales\",\n",
    "           title = f\"{model_name} Sales Forecasting Prediction\")\n",
    "    \n",
    "    ax.legend(loc='best')\n",
    "    \n",
    "    filepath = Path('./model_output/{model_name}_forecasting.svg')  \n",
    "    filepath.parent.mkdir(parents=True, exist_ok=True) \n",
    "    plt.savefig(f'./model_output/{model_name}_forecasting.svg')"
   ]
  },
  {
   "cell_type": "code",
   "execution_count": 35,
   "id": "0deefb1a",
   "metadata": {
    "execution": {
     "iopub.execute_input": "2022-09-24T20:52:08.769696Z",
     "iopub.status.busy": "2022-09-24T20:52:08.769245Z",
     "iopub.status.idle": "2022-09-24T20:52:08.776912Z",
     "shell.execute_reply": "2022-09-24T20:52:08.775673Z"
    },
    "papermill": {
     "duration": 0.038579,
     "end_time": "2022-09-24T20:52:08.779628",
     "exception": false,
     "start_time": "2022-09-24T20:52:08.741049",
     "status": "completed"
    },
    "tags": []
   },
   "outputs": [],
   "source": [
    "def regressive_model(train_data, test_data, model, model_name):\n",
    "    \"\"\"Runs regressive models in SKlearn framework. First calls scale_data\n",
    "    to split into X and y and scale the data. Then fits and predicts. Finally,\n",
    "    predictions are unscaled, scores are printed, and results are plotted and\n",
    "    saved.\"\"\"\n",
    "    \n",
    "    # Split into X & y and scale data:\n",
    "    X_train, y_train, X_test, y_test, scaler_object = scale_data(train_data,\n",
    "                                                                 test_data)\n",
    "\n",
    "    # Run sklearn models:\n",
    "    mod = model\n",
    "    mod.fit(X_train, y_train)\n",
    "    predictions = mod.predict(X_test) # y_pred=predictions\n",
    "\n",
    "    # Undo scaling to compare predictions against original data:\n",
    "    origin_df = m_df\n",
    "    unscaled = re_scaling(predictions, X_test, scaler_object) # unscaled_predictions\n",
    "    unscaled_df = prediction_df(unscaled, origin_df)\n",
    "\n",
    "    # Print scores and plot results:\n",
    "    get_scores(unscaled_df, origin_df, model_name)\n",
    "    plot_results(unscaled_df, origin_df, model_name)"
   ]
  },
  {
   "cell_type": "markdown",
   "id": "2ce91f90",
   "metadata": {
    "papermill": {
     "duration": 0.025557,
     "end_time": "2022-09-24T20:52:08.831047",
     "exception": false,
     "start_time": "2022-09-24T20:52:08.805490",
     "status": "completed"
    },
    "tags": []
   },
   "source": [
    "# **Modeling**\n",
    "# Regressive Models\n",
    "* Linear Regression\n",
    "* Random Forest Regressor\n",
    "* XGBoost\n",
    "* LSTM"
   ]
  },
  {
   "cell_type": "markdown",
   "id": "d527f76e",
   "metadata": {
    "papermill": {
     "duration": 0.025553,
     "end_time": "2022-09-24T20:52:08.882787",
     "exception": false,
     "start_time": "2022-09-24T20:52:08.857234",
     "status": "completed"
    },
    "tags": []
   },
   "source": [
    "# [Linear Regression](http://)"
   ]
  },
  {
   "cell_type": "code",
   "execution_count": 36,
   "id": "fe08a057",
   "metadata": {
    "execution": {
     "iopub.execute_input": "2022-09-24T20:52:08.936565Z",
     "iopub.status.busy": "2022-09-24T20:52:08.936122Z",
     "iopub.status.idle": "2022-09-24T20:52:09.417612Z",
     "shell.execute_reply": "2022-09-24T20:52:09.416283Z"
    },
    "papermill": {
     "duration": 0.511767,
     "end_time": "2022-09-24T20:52:09.420201",
     "exception": false,
     "start_time": "2022-09-24T20:52:08.908434",
     "status": "completed"
    },
    "tags": []
   },
   "outputs": [
    {
     "name": "stdout",
     "output_type": "stream",
     "text": [
      "RMSE: 16221.040790693221\n",
      "MAE: 12433.0\n",
      "R2 Score: 0.9907155879704752\n"
     ]
    },
    {
     "name": "stderr",
     "output_type": "stream",
     "text": [
      "/opt/conda/lib/python3.7/site-packages/seaborn/_decorators.py:43: FutureWarning: Pass the following variables as keyword args: x, y. From version 0.12, the only valid positional argument will be `data`, and passing other arguments without an explicit keyword will result in an error or misinterpretation.\n",
      "  FutureWarning\n",
      "/opt/conda/lib/python3.7/site-packages/seaborn/_decorators.py:43: FutureWarning: Pass the following variables as keyword args: x, y. From version 0.12, the only valid positional argument will be `data`, and passing other arguments without an explicit keyword will result in an error or misinterpretation.\n",
      "  FutureWarning\n"
     ]
    },
    {
     "data": {
      "image/png": "[encoded data removed]",
      "text/plain": [
       "<Figure size 1080x360 with 1 Axes>"
      ]
     },
     "metadata": {
      "needs_background": "light"
     },
     "output_type": "display_data"
    }
   ],
   "source": [
    "regressive_model(train, test, LinearRegression(), 'LinearRegression')"
   ]
  },
  {
   "cell_type": "markdown",
   "id": "5eef1912",
   "metadata": {
    "papermill": {
     "duration": 0.025536,
     "end_time": "2022-09-24T20:52:09.486466",
     "exception": false,
     "start_time": "2022-09-24T20:52:09.460930",
     "status": "completed"
    },
    "tags": []
   },
   "source": [
    " # [ Random Forest Regressor ](https://scikit-learn.org/0.24/modules/generated/sklearn.ensemble.RandomForestRegressor.html?highlight=random%20forest%20reg#sklearn.ensemble.RandomForestRegressor)"
   ]
  },
  {
   "cell_type": "code",
   "execution_count": 37,
   "id": "c7964290",
   "metadata": {
    "execution": {
     "iopub.execute_input": "2022-09-24T20:52:09.540777Z",
     "iopub.status.busy": "2022-09-24T20:52:09.540305Z",
     "iopub.status.idle": "2022-09-24T20:52:10.145913Z",
     "shell.execute_reply": "2022-09-24T20:52:10.144577Z"
    },
    "papermill": {
     "duration": 0.635601,
     "end_time": "2022-09-24T20:52:10.148435",
     "exception": false,
     "start_time": "2022-09-24T20:52:09.512834",
     "status": "completed"
    },
    "tags": []
   },
   "outputs": [
    {
     "name": "stdout",
     "output_type": "stream",
     "text": [
      "RMSE: 18719.73440427686\n",
      "MAE: 15378.833333333334\n",
      "R2 Score: 0.9876349368660562\n"
     ]
    },
    {
     "name": "stderr",
     "output_type": "stream",
     "text": [
      "/opt/conda/lib/python3.7/site-packages/seaborn/_decorators.py:43: FutureWarning: Pass the following variables as keyword args: x, y. From version 0.12, the only valid positional argument will be `data`, and passing other arguments without an explicit keyword will result in an error or misinterpretation.\n",
      "  FutureWarning\n",
      "/opt/conda/lib/python3.7/site-packages/seaborn/_decorators.py:43: FutureWarning: Pass the following variables as keyword args: x, y. From version 0.12, the only valid positional argument will be `data`, and passing other arguments without an explicit keyword will result in an error or misinterpretation.\n",
      "  FutureWarning\n"
     ]
    },
    {
     "data": {
      "image/png": "[encoded data removed]",
      "text/plain": [
       "<Figure size 1080x360 with 1 Axes>"
      ]
     },
     "metadata": {
      "needs_background": "light"
     },
     "output_type": "display_data"
    }
   ],
   "source": [
    "regressive_model(train, test, RandomForestRegressor(n_estimators=100, max_depth=20), \n",
    "          'RandomForest')"
   ]
  },
  {
   "cell_type": "markdown",
   "id": "3b4baf09",
   "metadata": {
    "papermill": {
     "duration": 0.028266,
     "end_time": "2022-09-24T20:52:10.205142",
     "exception": false,
     "start_time": "2022-09-24T20:52:10.176876",
     "status": "completed"
    },
    "tags": []
   },
   "source": [
    "# [  XGBoost](https://xgboost.readthedocs.io/en/stable/parameter.html)"
   ]
  },
  {
   "cell_type": "code",
   "execution_count": 38,
   "id": "68a95367",
   "metadata": {
    "execution": {
     "iopub.execute_input": "2022-09-24T20:52:10.264042Z",
     "iopub.status.busy": "2022-09-24T20:52:10.263112Z",
     "iopub.status.idle": "2022-09-24T20:52:11.168229Z",
     "shell.execute_reply": "2022-09-24T20:52:11.166976Z"
    },
    "papermill": {
     "duration": 0.937459,
     "end_time": "2022-09-24T20:52:11.170778",
     "exception": false,
     "start_time": "2022-09-24T20:52:10.233319",
     "status": "completed"
    },
    "tags": []
   },
   "outputs": [
    {
     "name": "stdout",
     "output_type": "stream",
     "text": [
      "RMSE: 13574.854581787116\n",
      "MAE: 11649.75\n",
      "R2 Score: 0.993497694881536\n"
     ]
    },
    {
     "name": "stderr",
     "output_type": "stream",
     "text": [
      "/opt/conda/lib/python3.7/site-packages/seaborn/_decorators.py:43: FutureWarning: Pass the following variables as keyword args: x, y. From version 0.12, the only valid positional argument will be `data`, and passing other arguments without an explicit keyword will result in an error or misinterpretation.\n",
      "  FutureWarning\n",
      "/opt/conda/lib/python3.7/site-packages/seaborn/_decorators.py:43: FutureWarning: Pass the following variables as keyword args: x, y. From version 0.12, the only valid positional argument will be `data`, and passing other arguments without an explicit keyword will result in an error or misinterpretation.\n",
      "  FutureWarning\n"
     ]
    },
    {
     "data": {
      "image/png": "[encoded data removed]",
      "text/plain": [
       "<Figure size 1080x360 with 1 Axes>"
      ]
     },
     "metadata": {
      "needs_background": "light"
     },
     "output_type": "display_data"
    }
   ],
   "source": [
    "regressive_model(train, test, XGBRegressor(n_estimators=100,max_depth=3, \n",
    "                                           learning_rate=0.2,objective='reg:squarederror'), 'XGBoost')"
   ]
  },
  {
   "cell_type": "markdown",
   "id": "b0459cb2",
   "metadata": {
    "papermill": {
     "duration": 0.02868,
     "end_time": "2022-09-24T20:52:11.229548",
     "exception": false,
     "start_time": "2022-09-24T20:52:11.200868",
     "status": "completed"
    },
    "tags": []
   },
   "source": [
    "# [LSTM](https://keras.io/api/layers/recurrent_layers/lstm/)\n",
    "\n",
    "> LSTM is a type of recurring neural network that is especially useful for predicting sequential data. [Getting started with the Keras Sequential model](https://faroit.com/keras-docs/1.2.0/getting-started/sequential-model-guide/#sequence-classification-with-lstm)"
   ]
  },
  {
   "cell_type": "code",
   "execution_count": 39,
   "id": "5dc2a5bb",
   "metadata": {
    "execution": {
     "iopub.execute_input": "2022-09-24T20:52:11.291843Z",
     "iopub.status.busy": "2022-09-24T20:52:11.291398Z",
     "iopub.status.idle": "2022-09-24T20:52:11.301871Z",
     "shell.execute_reply": "2022-09-24T20:52:11.300580Z"
    },
    "papermill": {
     "duration": 0.044738,
     "end_time": "2022-09-24T20:52:11.304554",
     "exception": false,
     "start_time": "2022-09-24T20:52:11.259816",
     "status": "completed"
    },
    "tags": []
   },
   "outputs": [],
   "source": [
    "def lstm_model(train_data, test_data):\n",
    "    \"\"\"Runs a long-short-term-memory neural net with 2 dense layers. \n",
    "    Generates predictions that are then unscaled. \n",
    "    Scores are printed and the results are plotted and saved.\"\"\"\n",
    "    # train_set: dataset used to train the model\n",
    "    # test_set: dataset used to test the model\n",
    "   \n",
    "    \n",
    "    # Split into X & y and scale data:\n",
    "    X_train, y_train, X_test, y_test, scaler_object = scale_data(train_data, test_data)\n",
    "    \n",
    "    X_train = X_train.reshape(X_train.shape[0], 1, X_train.shape[1])\n",
    "    X_test = X_test.reshape(X_test.shape[0], 1, X_test.shape[1])\n",
    "   \n",
    "    \n",
    "    # Build LSTM:\n",
    "    model = Sequential()\n",
    "    model.add(LSTM(4, batch_input_shape=(1, X_train.shape[1], X_train.shape[2]), \n",
    "                   stateful=True))\n",
    "    model.add(Dense(1))\n",
    "    model.add(Dense(1))\n",
    "    model.compile(loss='mse', optimizer='adam', metrics=['accuracy'])\n",
    "    model.fit(X_train, y_train, epochs=60, batch_size=1, verbose=1, \n",
    "              shuffle=False)\n",
    "    predictions = model.predict(X_test,batch_size=1)\n",
    "    \n",
    "    # Undo scaling to compare predictions against original data:\n",
    "    origin_df = m_df\n",
    "    unscaled = re_scaling(predictions, X_test, scaler_object, lstm=True)\n",
    "    unscaled_df = prediction_df(unscaled, origin_df)\n",
    "    \n",
    "    get_scores(unscaled_df, origin_df, 'LSTM')\n",
    "    plot_results(unscaled_df, origin_df, 'LSTM')"
   ]
  },
  {
   "cell_type": "code",
   "execution_count": 40,
   "id": "1f973db8",
   "metadata": {
    "execution": {
     "iopub.execute_input": "2022-09-24T20:52:11.364705Z",
     "iopub.status.busy": "2022-09-24T20:52:11.364282Z",
     "iopub.status.idle": "2022-09-24T20:52:19.996442Z",
     "shell.execute_reply": "2022-09-24T20:52:19.995090Z"
    },
    "papermill": {
     "duration": 8.665204,
     "end_time": "2022-09-24T20:52:19.999438",
     "exception": false,
     "start_time": "2022-09-24T20:52:11.334234",
     "status": "completed"
    },
    "tags": []
   },
   "outputs": [
    {
     "name": "stderr",
     "output_type": "stream",
     "text": [
      "2022-09-24 20:52:11.403020: I tensorflow/core/common_runtime/process_util.cc:146] Creating new thread pool with default inter op setting: 2. Tune using inter_op_parallelism_threads for best performance.\n",
      "2022-09-24 20:52:12.111385: I tensorflow/compiler/mlir/mlir_graph_optimization_pass.cc:185] None of the MLIR Optimization Passes are enabled (registered 2)\n"
     ]
    },
    {
     "name": "stdout",
     "output_type": "stream",
     "text": [
      "Epoch 1/60\n",
      "35/35 [==============================] - 2s 4ms/step - loss: 0.2983 - accuracy: 0.0000e+00\n",
      "Epoch 2/60\n",
      "35/35 [==============================] - 0s 4ms/step - loss: 0.2698 - accuracy: 0.0000e+00\n",
      "Epoch 3/60\n",
      "35/35 [==============================] - 0s 2ms/step - loss: 0.2251 - accuracy: 0.0000e+00\n",
      "Epoch 4/60\n",
      "35/35 [==============================] - 0s 2ms/step - loss: 0.1927 - accuracy: 0.0000e+00\n",
      "Epoch 5/60\n",
      "35/35 [==============================] - 0s 2ms/step - loss: 0.1674 - accuracy: 0.0000e+00\n",
      "Epoch 6/60\n",
      "35/35 [==============================] - 0s 2ms/step - loss: 0.1468 - accuracy: 0.0000e+00\n",
      "Epoch 7/60\n",
      "35/35 [==============================] - 0s 2ms/step - loss: 0.1296 - accuracy: 0.0000e+00\n",
      "Epoch 8/60\n",
      "35/35 [==============================] - 0s 2ms/step - loss: 0.1149 - accuracy: 0.0000e+00\n",
      "Epoch 9/60\n",
      "35/35 [==============================] - 0s 2ms/step - loss: 0.1022 - accuracy: 0.0286\n",
      "Epoch 10/60\n",
      "35/35 [==============================] - 0s 2ms/step - loss: 0.0910 - accuracy: 0.0286\n",
      "Epoch 11/60\n",
      "35/35 [==============================] - 0s 2ms/step - loss: 0.0811 - accuracy: 0.0286\n",
      "Epoch 12/60\n",
      "35/35 [==============================] - 0s 2ms/step - loss: 0.0722 - accuracy: 0.0286\n",
      "Epoch 13/60\n",
      "35/35 [==============================] - 0s 2ms/step - loss: 0.0642 - accuracy: 0.0286\n",
      "Epoch 14/60\n",
      "35/35 [==============================] - 0s 2ms/step - loss: 0.0568 - accuracy: 0.0286\n",
      "Epoch 15/60\n",
      "35/35 [==============================] - 0s 2ms/step - loss: 0.0501 - accuracy: 0.0286\n",
      "Epoch 16/60\n",
      "35/35 [==============================] - 0s 2ms/step - loss: 0.0440 - accuracy: 0.0286\n",
      "Epoch 17/60\n",
      "35/35 [==============================] - 0s 2ms/step - loss: 0.0384 - accuracy: 0.0286\n",
      "Epoch 18/60\n",
      "35/35 [==============================] - 0s 2ms/step - loss: 0.0334 - accuracy: 0.0286\n",
      "Epoch 19/60\n",
      "35/35 [==============================] - 0s 2ms/step - loss: 0.0289 - accuracy: 0.0286\n",
      "Epoch 20/60\n",
      "35/35 [==============================] - 0s 2ms/step - loss: 0.0250 - accuracy: 0.0286\n",
      "Epoch 21/60\n",
      "35/35 [==============================] - 0s 2ms/step - loss: 0.0216 - accuracy: 0.0286\n",
      "Epoch 22/60\n",
      "35/35 [==============================] - 0s 2ms/step - loss: 0.0187 - accuracy: 0.0286\n",
      "Epoch 23/60\n",
      "35/35 [==============================] - 0s 2ms/step - loss: 0.0163 - accuracy: 0.0286\n",
      "Epoch 24/60\n",
      "35/35 [==============================] - 0s 2ms/step - loss: 0.0143 - accuracy: 0.0286\n",
      "Epoch 25/60\n",
      "35/35 [==============================] - 0s 2ms/step - loss: 0.0126 - accuracy: 0.0286\n",
      "Epoch 26/60\n",
      "35/35 [==============================] - 0s 2ms/step - loss: 0.0113 - accuracy: 0.0286\n",
      "Epoch 27/60\n",
      "35/35 [==============================] - 0s 2ms/step - loss: 0.0102 - accuracy: 0.0286\n",
      "Epoch 28/60\n",
      "35/35 [==============================] - 0s 2ms/step - loss: 0.0094 - accuracy: 0.0286\n",
      "Epoch 29/60\n",
      "35/35 [==============================] - 0s 2ms/step - loss: 0.0087 - accuracy: 0.0286\n",
      "Epoch 30/60\n",
      "35/35 [==============================] - 0s 4ms/step - loss: 0.0081 - accuracy: 0.0286\n",
      "Epoch 31/60\n",
      "35/35 [==============================] - 0s 2ms/step - loss: 0.0077 - accuracy: 0.0286\n",
      "Epoch 32/60\n",
      "35/35 [==============================] - 0s 2ms/step - loss: 0.0073 - accuracy: 0.0286\n",
      "Epoch 33/60\n",
      "35/35 [==============================] - 0s 2ms/step - loss: 0.0070 - accuracy: 0.0286\n",
      "Epoch 34/60\n",
      "35/35 [==============================] - 0s 2ms/step - loss: 0.0068 - accuracy: 0.0286\n",
      "Epoch 35/60\n",
      "35/35 [==============================] - 0s 2ms/step - loss: 0.0066 - accuracy: 0.0286\n",
      "Epoch 36/60\n",
      "35/35 [==============================] - 0s 2ms/step - loss: 0.0064 - accuracy: 0.0286\n",
      "Epoch 37/60\n",
      "35/35 [==============================] - 0s 2ms/step - loss: 0.0063 - accuracy: 0.0286\n",
      "Epoch 38/60\n",
      "35/35 [==============================] - 0s 2ms/step - loss: 0.0062 - accuracy: 0.0286\n",
      "Epoch 39/60\n",
      "35/35 [==============================] - 0s 2ms/step - loss: 0.0060 - accuracy: 0.0286\n",
      "Epoch 40/60\n",
      "35/35 [==============================] - 0s 2ms/step - loss: 0.0059 - accuracy: 0.0286\n",
      "Epoch 41/60\n",
      "35/35 [==============================] - 0s 2ms/step - loss: 0.0058 - accuracy: 0.0286\n",
      "Epoch 42/60\n",
      "35/35 [==============================] - 0s 2ms/step - loss: 0.0058 - accuracy: 0.0286\n",
      "Epoch 43/60\n",
      "35/35 [==============================] - 0s 2ms/step - loss: 0.0057 - accuracy: 0.0286\n",
      "Epoch 44/60\n",
      "35/35 [==============================] - 0s 2ms/step - loss: 0.0056 - accuracy: 0.0286\n",
      "Epoch 45/60\n",
      "35/35 [==============================] - 0s 2ms/step - loss: 0.0055 - accuracy: 0.0286\n",
      "Epoch 46/60\n",
      "35/35 [==============================] - 0s 2ms/step - loss: 0.0055 - accuracy: 0.0286\n",
      "Epoch 47/60\n",
      "35/35 [==============================] - 0s 2ms/step - loss: 0.0054 - accuracy: 0.0286\n",
      "Epoch 48/60\n",
      "35/35 [==============================] - 0s 2ms/step - loss: 0.0053 - accuracy: 0.0286\n",
      "Epoch 49/60\n",
      "35/35 [==============================] - 0s 2ms/step - loss: 0.0053 - accuracy: 0.0286\n",
      "Epoch 50/60\n",
      "35/35 [==============================] - 0s 2ms/step - loss: 0.0052 - accuracy: 0.0286\n",
      "Epoch 51/60\n",
      "35/35 [==============================] - 0s 2ms/step - loss: 0.0051 - accuracy: 0.0286\n",
      "Epoch 52/60\n",
      "35/35 [==============================] - 0s 2ms/step - loss: 0.0051 - accuracy: 0.0286\n",
      "Epoch 53/60\n",
      "35/35 [==============================] - 0s 2ms/step - loss: 0.0050 - accuracy: 0.0286\n",
      "Epoch 54/60\n",
      "35/35 [==============================] - 0s 2ms/step - loss: 0.0050 - accuracy: 0.0286\n",
      "Epoch 55/60\n",
      "35/35 [==============================] - 0s 2ms/step - loss: 0.0049 - accuracy: 0.0286\n",
      "Epoch 56/60\n",
      "35/35 [==============================] - 0s 3ms/step - loss: 0.0049 - accuracy: 0.0286\n",
      "Epoch 57/60\n",
      "35/35 [==============================] - 0s 2ms/step - loss: 0.0048 - accuracy: 0.0286\n",
      "Epoch 58/60\n",
      "35/35 [==============================] - 0s 2ms/step - loss: 0.0048 - accuracy: 0.0286\n",
      "Epoch 59/60\n",
      "35/35 [==============================] - 0s 2ms/step - loss: 0.0047 - accuracy: 0.0286\n",
      "Epoch 60/60\n",
      "35/35 [==============================] - 0s 2ms/step - loss: 0.0047 - accuracy: 0.0286\n",
      "RMSE: 14164.19602083601\n",
      "MAE: 10062.25\n",
      "R2 Score: 0.9929208546468972\n"
     ]
    },
    {
     "name": "stderr",
     "output_type": "stream",
     "text": [
      "/opt/conda/lib/python3.7/site-packages/seaborn/_decorators.py:43: FutureWarning: Pass the following variables as keyword args: x, y. From version 0.12, the only valid positional argument will be `data`, and passing other arguments without an explicit keyword will result in an error or misinterpretation.\n",
      "  FutureWarning\n",
      "/opt/conda/lib/python3.7/site-packages/seaborn/_decorators.py:43: FutureWarning: Pass the following variables as keyword args: x, y. From version 0.12, the only valid positional argument will be `data`, and passing other arguments without an explicit keyword will result in an error or misinterpretation.\n",
      "  FutureWarning\n"
     ]
    },
    {
     "data": {
      "image/png": "[encoded data removed]",
      "text/plain": [
       "<Figure size 1080x360 with 1 Axes>"
      ]
     },
     "metadata": {
      "needs_background": "light"
     },
     "output_type": "display_data"
    }
   ],
   "source": [
    "lstm_model(train,test)"
   ]
  },
  {
   "cell_type": "code",
   "execution_count": 41,
   "id": "6aedf0c4",
   "metadata": {
    "execution": {
     "iopub.execute_input": "2022-09-24T20:52:20.086961Z",
     "iopub.status.busy": "2022-09-24T20:52:20.086506Z",
     "iopub.status.idle": "2022-09-24T20:52:20.093019Z",
     "shell.execute_reply": "2022-09-24T20:52:20.091993Z"
    },
    "papermill": {
     "duration": 0.052727,
     "end_time": "2022-09-24T20:52:20.095392",
     "exception": false,
     "start_time": "2022-09-24T20:52:20.042665",
     "status": "completed"
    },
    "tags": []
   },
   "outputs": [],
   "source": [
    "pickle.dump(model_scores, open( \"model_scores.p\", \"wb\" ))"
   ]
  },
  {
   "cell_type": "markdown",
   "id": "9cd71a06",
   "metadata": {
    "papermill": {
     "duration": 0.042576,
     "end_time": "2022-09-24T20:52:20.180918",
     "exception": false,
     "start_time": "2022-09-24T20:52:20.138342",
     "status": "completed"
    },
    "tags": []
   },
   "source": [
    "# ARIMA Modeling\n",
    "\n",
    "[ **SARIMAX Modeling**  ](https://machinelearningmastery.com/sarima-for-time-series-forecasting-in-python/)\n",
    "\n",
    "> We use the statsmodels SARIMAX package to train the model and generate dynamic predictions. The SARIMA model breaks down into a few parts.\n",
    "\n",
    "     AR: represented as p, is the autoregressive model\n",
    "     I : represented as d, is the differencing term\n",
    "     MA: represented as q, is the moving average model\n",
    "     S: enables us to add a seasonal component\n"
   ]
  },
  {
   "cell_type": "code",
   "execution_count": 42,
   "id": "bf6eda45",
   "metadata": {
    "execution": {
     "iopub.execute_input": "2022-09-24T20:52:20.273902Z",
     "iopub.status.busy": "2022-09-24T20:52:20.273417Z",
     "iopub.status.idle": "2022-09-24T20:52:20.280843Z",
     "shell.execute_reply": "2022-09-24T20:52:20.279666Z"
    },
    "papermill": {
     "duration": 0.057435,
     "end_time": "2022-09-24T20:52:20.283416",
     "exception": false,
     "start_time": "2022-09-24T20:52:20.225981",
     "status": "completed"
    },
    "tags": []
   },
   "outputs": [],
   "source": [
    "datatime_df.index = pd.to_datetime(datatime_df.index)"
   ]
  },
  {
   "cell_type": "markdown",
   "id": "cef17828",
   "metadata": {
    "papermill": {
     "duration": 0.042897,
     "end_time": "2022-09-24T20:52:20.369576",
     "exception": false,
     "start_time": "2022-09-24T20:52:20.326679",
     "status": "completed"
    },
    "tags": []
   },
   "source": [
    "<div class=\"alert alert-block alert-danger\" style =\"background-color : #e6ebef;\">\n",
    "    <p style=\"padding: 15px;\n",
    "              color:black;\">📌 In the code below, we define our model and then make dynamic predictions for the last 12 months of the data. For standard, non-dynamic predictions, the following month’s prediction is made using the actual sales from the prior months. In contrast, for dynamic predictions, the following month’s prediction is made using the predicted sales from the prior months.\n",
    "    </p>\n",
    "</div>\n"
   ]
  },
  {
   "cell_type": "code",
   "execution_count": 43,
   "id": "143ef007",
   "metadata": {
    "execution": {
     "iopub.execute_input": "2022-09-24T20:52:20.457301Z",
     "iopub.status.busy": "2022-09-24T20:52:20.456884Z",
     "iopub.status.idle": "2022-09-24T20:52:20.468450Z",
     "shell.execute_reply": "2022-09-24T20:52:20.467049Z"
    },
    "papermill": {
     "duration": 0.05905,
     "end_time": "2022-09-24T20:52:20.471130",
     "exception": false,
     "start_time": "2022-09-24T20:52:20.412080",
     "status": "completed"
    },
    "tags": []
   },
   "outputs": [],
   "source": [
    "def sarimax_model(data):\n",
    "    # Model:\n",
    "    sar = sm.tsa.statespace.SARIMAX(data.sales_diff, order=(12, 0, 0),\n",
    "                                    seasonal_order=(0, 1, 0, 12),\n",
    "                                    trend='c').fit()\n",
    "    \n",
    "    # Generate predictions:\n",
    "    start, end, dynamic = 40, 100, 7\n",
    "    data['pred_value'] = sar.predict(start=start, end=end, dynamic=dynamic)\n",
    "    pred_df = data.pred_value[start+dynamic:end]\n",
    "    \n",
    "    data[[\"sales_diff\",\"pred_value\"]].plot(color=['blue', 'Red'])\n",
    "    plt.legend(loc='upper left')\n",
    "    \n",
    "    model_score = {}\n",
    "    \n",
    "    rmse = np.sqrt(mean_squared_error(data.sales_diff[-12:], data.pred_value[-12:]))\n",
    "    mae = mean_absolute_error(data.sales_diff[-12:], data.pred_value[-12:])\n",
    "    r2 = r2_score(data.sales_diff[-12:], data.pred_value[-12:])\n",
    "    model_scores['ARIMA'] = [rmse, mae, r2]\n",
    "    \n",
    "    print(f\"RMSE: {rmse}\\nMAE: {mae}\\nR2 Score: {r2}\")\n",
    "    \n",
    "    return sar, data, pred_df\n"
   ]
  },
  {
   "cell_type": "code",
   "execution_count": 44,
   "id": "c82e80a4",
   "metadata": {
    "execution": {
     "iopub.execute_input": "2022-09-24T20:52:20.559348Z",
     "iopub.status.busy": "2022-09-24T20:52:20.558911Z",
     "iopub.status.idle": "2022-09-24T20:52:22.205639Z",
     "shell.execute_reply": "2022-09-24T20:52:22.204324Z"
    },
    "papermill": {
     "duration": 1.693451,
     "end_time": "2022-09-24T20:52:22.208120",
     "exception": false,
     "start_time": "2022-09-24T20:52:20.514669",
     "status": "completed"
    },
    "tags": []
   },
   "outputs": [
    {
     "name": "stderr",
     "output_type": "stream",
     "text": [
      "/opt/conda/lib/python3.7/site-packages/statsmodels/tsa/base/tsa_model.py:471: ValueWarning: No frequency information was provided, so inferred frequency MS will be used.\n",
      "  self._init_dates(dates, freq)\n",
      "/opt/conda/lib/python3.7/site-packages/statsmodels/tsa/base/tsa_model.py:471: ValueWarning: No frequency information was provided, so inferred frequency MS will be used.\n",
      "  self._init_dates(dates, freq)\n",
      " This problem is unconstrained.\n"
     ]
    },
    {
     "name": "stdout",
     "output_type": "stream",
     "text": [
      "RUNNING THE L-BFGS-B CODE\n",
      "\n",
      "           * * *\n",
      "\n",
      "Machine precision = 2.220D-16\n",
      " N =           14     M =           10\n",
      "\n",
      "At X0         0 variables are exactly at the bounds\n",
      "\n",
      "At iterate    0    f=  1.22535D+01    |proj g|=  9.18381D+00\n",
      "\n",
      "At iterate    5    f=  9.04312D+00    |proj g|=  8.09306D-01\n",
      "\n",
      "At iterate   10    f=  8.86307D+00    |proj g|=  3.28203D-01\n",
      "\n",
      "At iterate   15    f=  8.82005D+00    |proj g|=  1.12133D-02\n",
      "\n",
      "At iterate   20    f=  8.82001D+00    |proj g|=  3.35960D-04\n",
      "\n",
      "           * * *\n",
      "\n",
      "Tit   = total number of iterations\n",
      "Tnf   = total number of function evaluations\n",
      "Tnint = total number of segments explored during Cauchy searches\n",
      "Skip  = number of BFGS updates skipped\n",
      "Nact  = number of active bounds at final generalized Cauchy point\n",
      "Projg = norm of the final projected gradient\n",
      "F     = final function value\n",
      "\n",
      "           * * *\n",
      "\n",
      "   N    Tit     Tnf  Tnint  Skip  Nact     Projg        F\n",
      "   14     20     22      1     0     0   3.360D-04   8.820D+00\n",
      "  F =   8.8200108162152571     \n",
      "\n",
      "CONVERGENCE: REL_REDUCTION_OF_F_<=_FACTR*EPSMCH             \n",
      "RMSE: 14959.893467722846\n",
      "MAE: 11265.33574888095\n",
      "R2 Score: 0.9835642876202045\n"
     ]
    },
    {
     "data": {
      "image/png": "[encoded data removed]",
      "text/plain": [
       "<Figure size 432x288 with 1 Axes>"
      ]
     },
     "metadata": {
      "needs_background": "light"
     },
     "output_type": "display_data"
    }
   ],
   "source": [
    "sar, datatime_df, predictions = sarimax_model(datatime_df)"
   ]
  },
  {
   "cell_type": "markdown",
   "id": "78d36fdb",
   "metadata": {
    "papermill": {
     "duration": 0.045202,
     "end_time": "2022-09-24T20:52:22.301293",
     "exception": false,
     "start_time": "2022-09-24T20:52:22.256091",
     "status": "completed"
    },
    "tags": []
   },
   "source": [
    "[statsmodels](https://www.statsmodels.org/dev/generated/statsmodels.tsa.arima.model.ARIMAResults.plot_diagnostics.html)"
   ]
  },
  {
   "cell_type": "code",
   "execution_count": 45,
   "id": "a2367f7f",
   "metadata": {
    "execution": {
     "iopub.execute_input": "2022-09-24T20:52:22.399177Z",
     "iopub.status.busy": "2022-09-24T20:52:22.398467Z",
     "iopub.status.idle": "2022-09-24T20:52:23.631875Z",
     "shell.execute_reply": "2022-09-24T20:52:23.630905Z"
    },
    "papermill": {
     "duration": 1.282883,
     "end_time": "2022-09-24T20:52:23.634574",
     "exception": false,
     "start_time": "2022-09-24T20:52:22.351691",
     "status": "completed"
    },
    "tags": []
   },
   "outputs": [
    {
     "data": {
      "image/png": "[encoded data removed]",
      "text/plain": [
       "<Figure size 864x576 with 4 Axes>"
      ]
     },
     "metadata": {
      "needs_background": "light"
     },
     "output_type": "display_data"
    }
   ],
   "source": [
    "sar.plot_diagnostics(figsize=(12, 8));"
   ]
  },
  {
   "cell_type": "markdown",
   "id": "03a4e90d",
   "metadata": {
    "papermill": {
     "duration": 0.044939,
     "end_time": "2022-09-24T20:52:23.727927",
     "exception": false,
     "start_time": "2022-09-24T20:52:23.682988",
     "status": "completed"
    },
    "tags": []
   },
   "source": [
    "## **Comparing Models**"
   ]
  },
  {
   "cell_type": "code",
   "execution_count": null,
   "id": "6bcb9bfd",
   "metadata": {
    "papermill": {
     "duration": 0.043757,
     "end_time": "2022-09-24T20:52:23.816095",
     "exception": false,
     "start_time": "2022-09-24T20:52:23.772338",
     "status": "completed"
    },
    "tags": []
   },
   "outputs": [],
   "source": []
  }
 ],
 "metadata": {
  "kernelspec": {
   "display_name": "Python 3",
   "language": "python",
   "name": "python3"
  },
  "language_info": {
   "codemirror_mode": {
    "name": "ipython",
    "version": 3
   },
   "file_extension": ".py",
   "mimetype": "text/x-python",
   "name": "python",
   "nbconvert_exporter": "python",
   "pygments_lexer": "ipython3",
   "version": "3.7.12"
  },
  "papermill": {
   "default_parameters": {},
   "duration": 43.494885,
   "end_time": "2022-09-24T20:52:26.628943",
   "environment_variables": {},
   "exception": null,
   "input_path": "__notebook__.ipynb",
   "output_path": "__notebook__.ipynb",
   "parameters": {},
   "start_time": "2022-09-24T20:51:43.134058",
   "version": "2.3.4"
  }
 },
 "nbformat": 4,
 "nbformat_minor": 5
}
